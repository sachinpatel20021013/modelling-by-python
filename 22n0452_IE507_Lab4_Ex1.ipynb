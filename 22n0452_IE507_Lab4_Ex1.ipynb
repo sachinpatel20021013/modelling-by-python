{
  "nbformat": 4,
  "nbformat_minor": 0,
  "metadata": {
    "colab": {
      "name": "22n0452_IE507_Lab4_Ex1.ipynb",
      "provenance": [],
      "collapsed_sections": []
    },
    "kernelspec": {
      "name": "python3",
      "display_name": "Python 3"
    },
    "language_info": {
      "name": "python"
    }
  },
  "cells": [
    {
      "cell_type": "markdown",
      "source": [
        "$\\textbf{Exercise 1:} \n",
        "\\text{Consider the following optimization problem:} \\\\ \n",
        "\\text{max} \\  0.65x_1 + 0.75x_2 − 5.85x_3 − 8.35x_4 − 12.38x_5 + 30x_6 \\\\\n",
        "\\text{s.t.} \\  − 0.5x_1 − 3.8x_3 − 0.9x_4 + 0.9x_5 ≤ 24.8 \\\\\n",
        "x_1 − x_4 − x_6 ≤ 0.8 \\\\\n",
        " −2.9x_2 − 1.9x_3 − 0.9x_6 ≤ −71.4 \\\\\n",
        "4.7x_4 + 8.02x_5 + 6.15x_6 ≤ 95 \\\\\n",
        "−0.7x_1 − 1.4x_2 + 7.9x_3 − 2.9x_4 + 0.9x_5 ≤ −47 \\\\\n",
        "x_i \\geq 0 \\ ∀ \\ i ∈ \\{1, 2, . . . , 6\\}. $"
      ],
      "metadata": {
        "id": "WH2rIk3elEvf"
      }
    },
    {
      "cell_type": "markdown",
      "source": [
        "$\\textbf{Solution :-}$"
      ],
      "metadata": {
        "id": "2N6WaxABmXmc"
      }
    },
    {
      "cell_type": "code",
      "execution_count": null,
      "metadata": {
        "id": "O6z2CzpXCe2W"
      },
      "outputs": [],
      "source": [
        "!pip install -q pyomo"
      ]
    },
    {
      "cell_type": "code",
      "source": [
        "from pyomo.environ import * \n",
        "import numpy as np"
      ],
      "metadata": {
        "id": "CZN3IYpFNiz8"
      },
      "execution_count": null,
      "outputs": []
    },
    {
      "cell_type": "code",
      "source": [
        "coef = np.loadtxt('lab4_ex1_coef.txt', delimiter=',')"
      ],
      "metadata": {
        "id": "V9Q4tJ7HN7f-"
      },
      "execution_count": null,
      "outputs": []
    },
    {
      "cell_type": "code",
      "source": [
        "model_lab4 = ConcreteModel()"
      ],
      "metadata": {
        "id": "A8fPDkKUOFS9"
      },
      "execution_count": null,
      "outputs": []
    },
    {
      "cell_type": "code",
      "source": [
        "N = coef.shape[1]-1\n",
        "M = coef.shape[0]-1"
      ],
      "metadata": {
        "id": "mp4FEXb-OTNl"
      },
      "execution_count": null,
      "outputs": []
    },
    {
      "cell_type": "code",
      "source": [
        "obj_coef = coef[0,:-1]\n",
        "constr_coef = coef[1:,:-1]"
      ],
      "metadata": {
        "id": "7K8ISi-yOYg2"
      },
      "execution_count": null,
      "outputs": []
    },
    {
      "cell_type": "code",
      "source": [
        "constr_rhs = coef[1:,-1]\n",
        "lower_bound = 0\n",
        "upper_bound = np.inf"
      ],
      "metadata": {
        "id": "pG2jKKiWOfLN"
      },
      "execution_count": null,
      "outputs": []
    },
    {
      "cell_type": "code",
      "source": [
        "col_indices = np.arange(N)\n",
        "model_lab4.x = Var(col_indices)\n",
        "row_indices = np.arange(M)\n",
        "model_lab4.constraints = ConstraintList()"
      ],
      "metadata": {
        "id": "2M05c7HYOmm5"
      },
      "execution_count": null,
      "outputs": []
    },
    {
      "cell_type": "code",
      "source": [
        "for i in row_indices:\n",
        "  model_lab4.constraints.add(summation(constr_coef[i],model_lab4.x) <= constr_rhs[i])"
      ],
      "metadata": {
        "id": "AtNpogemQ3ch"
      },
      "execution_count": null,
      "outputs": []
    },
    {
      "cell_type": "code",
      "source": [
        "for j in col_indices:\n",
        "  model_lab4.x[j].setlb(lower_bound)\n",
        "  model_lab4.x[j].setub(upper_bound)"
      ],
      "metadata": {
        "id": "IQDZFAv_Q7_l"
      },
      "execution_count": null,
      "outputs": []
    },
    {
      "cell_type": "code",
      "source": [
        "model_lab4.objective = Objective(expr = summation(obj_coef,model_lab4.x), sense=maximize)"
      ],
      "metadata": {
        "id": "gEkCzB3ARCbo"
      },
      "execution_count": null,
      "outputs": []
    },
    {
      "cell_type": "code",
      "source": [
        "!apt-get install -y -qq coinor-cbc"
      ],
      "metadata": {
        "id": "DSlgwszVRcVn"
      },
      "execution_count": null,
      "outputs": []
    },
    {
      "cell_type": "code",
      "source": [
        "opt_cbc = SolverFactory('cbc')"
      ],
      "metadata": {
        "id": "TQ7vXEU6RgJ8"
      },
      "execution_count": null,
      "outputs": []
    },
    {
      "cell_type": "markdown",
      "source": [
        "$\\mathbf{7.} $ Print and explain the solver termination condition and solver status message and provide\n",
        "possible reasons for the messages obtained."
      ],
      "metadata": {
        "id": "UbL-c8akmj0k"
      }
    },
    {
      "cell_type": "markdown",
      "source": [
        "$\\textbf{Solution :-}$"
      ],
      "metadata": {
        "id": "H5_abxdwmuHg"
      }
    },
    {
      "cell_type": "code",
      "source": [
        "result = opt_cbc.solve(model_lab4)\n",
        "print('Solver status:', result.solver.status)\n",
        "print('Solver termination condition:',result.solver.termination_condition)"
      ],
      "metadata": {
        "colab": {
          "base_uri": "https://localhost:8080/"
        },
        "id": "fXVWs4oSRnJ9",
        "outputId": "dfee00c5-5118-43dc-ba93-65ed1e73fda0"
      },
      "execution_count": null,
      "outputs": [
        {
          "output_type": "stream",
          "name": "stderr",
          "text": [
            "WARNING:pyomo.core:Loading a SolverResults object with a warning status into model.name=\"unknown\";\n",
            "  - termination condition: unbounded\n",
            "  - message from solver: <undefined>\n"
          ]
        },
        {
          "output_type": "stream",
          "name": "stdout",
          "text": [
            "Solver status: warning\n",
            "Solver termination condition: unbounded\n"
          ]
        }
      ]
    },
    {
      "cell_type": "markdown",
      "source": [
        "Here,Solver status showing warning because cbc solver not getting optimal solution for this problem and solver termination condition is unbounded ,it means solver continues found new solution which is better than previous one and because variable can take value between 0 to inf solver unable to stop this to get optimal solution. "
      ],
      "metadata": {
        "id": "VwFVnErZhNCK"
      }
    },
    {
      "cell_type": "code",
      "source": [
        "for j in col_indices:\n",
        "  model_lab4.x[j].setub(150)"
      ],
      "metadata": {
        "id": "rzpLm64PjjuS"
      },
      "execution_count": null,
      "outputs": []
    },
    {
      "cell_type": "code",
      "source": [
        "result = opt_cbc.solve(model_lab4)\n",
        "print('Solver status:', result.solver.status)\n",
        "print('Solver termination condition:',result.solver.termination_condition)"
      ],
      "metadata": {
        "id": "LmUxcv-QRyk2",
        "outputId": "65a5c247-005f-462f-f6b3-fda8d0855ac6",
        "colab": {
          "base_uri": "https://localhost:8080/"
        }
      },
      "execution_count": null,
      "outputs": [
        {
          "output_type": "stream",
          "name": "stdout",
          "text": [
            "Solver status: ok\n",
            "Solver termination condition: optimal\n"
          ]
        }
      ]
    },
    {
      "cell_type": "markdown",
      "source": [
        " $\\mathbf{9.}$If you have devised a remedy, explain about it and then report the optimal objective\n",
        "function value, the values of variables and the constraint activities.\n"
      ],
      "metadata": {
        "id": "ShTp7xO9jbly"
      }
    },
    {
      "cell_type": "markdown",
      "source": [
        "Here, i apply bounds on the variables to get optimal solution because when variable are free to take any valure between o to inf than feasible solution are unbound so, to get optimal solution i apply bounds on the variables."
      ],
      "metadata": {
        "id": "JQI1vaUfl2G4"
      }
    },
    {
      "cell_type": "code",
      "source": [
        "print('\\nObjective = ', model_lab4.objective())\n",
        "\n",
        "print('\\nDecision Variables')\n",
        "for i in col_indices:\n",
        "  print('x[',i,']',model_lab4.x[i].value)\n",
        "\n",
        "print('\\nConstraints')\n",
        "model_lab4.constraints.display()"
      ],
      "metadata": {
        "colab": {
          "base_uri": "https://localhost:8080/"
        },
        "id": "JraCSXLzjfgg",
        "outputId": "8af2fdc1-d631-4332-9dc3-770f1cb720d8"
      },
      "execution_count": null,
      "outputs": [
        {
          "output_type": "stream",
          "name": "stdout",
          "text": [
            "\n",
            "Objective =  585.9552701\n",
            "\n",
            "Decision Variables\n",
            "x[ 0 ] 15.447154\n",
            "x[ 1 ] 150.0\n",
            "x[ 2 ] 0.0\n",
            "x[ 3 ] 0.0\n",
            "x[ 4 ] 0.0\n",
            "x[ 5 ] 15.447154\n",
            "\n",
            "Constraints\n",
            "constraints : Size=5\n",
            "    Key : Lower : Body         : Upper\n",
            "      1 :  None :    -7.723577 :  24.8\n",
            "      2 :  None :          0.0 :   0.0\n",
            "      3 :  None : -421.0975614 : -71.4\n",
            "      4 :  None :   94.9999971 :  95.0\n",
            "      5 :  None : -220.8130078 : -47.0\n"
          ]
        }
      ]
    },
    {
      "cell_type": "markdown",
      "source": [
        "Constraint 1 is $Inactive$ since $LHS \\neq RHS.$\n",
        "\n",
        "Constraint 2 is $Active$ since $LHS = RHS.$\n",
        "\n",
        "Constraint 3 is $Inactive$ since $LHS \\neq RHS.$\n",
        "\n",
        "Constraint 4 is $Active$ since $LHS = RHS.$\n",
        "\n",
        "Constraint 5 is $Inactive$ since $LHS \\neq RHS.$\n"
      ],
      "metadata": {
        "id": "p4m_Y58YmuOz"
      }
    }
  ]
}
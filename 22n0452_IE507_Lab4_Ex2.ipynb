{
  "nbformat": 4,
  "nbformat_minor": 0,
  "metadata": {
    "colab": {
      "name": "22n0452_IE507_Lab4_Ex2.ipynb",
      "provenance": [],
      "collapsed_sections": []
    },
    "kernelspec": {
      "name": "python3",
      "display_name": "Python 3"
    },
    "language_info": {
      "name": "python"
    }
  },
  "cells": [
    {
      "cell_type": "markdown",
      "source": [
        "$\\textbf{Exercise 2:}$ \n",
        "The simplest application of MILP is when the variables model discrete objects that can only take\n",
        "whole-number values (e.g. number of drones to manufacture). The Indian Air Force (IAF) has\n",
        "planned to purchase drones from the Hindustan Aeronautics Limited (HAL) for using them in\n",
        "surveillance activities and during crisis situations like floods, fires and earthquakes. The drones are\n",
        "expected to carry cameras and freight. Five different types of drones are available with HAL. Their\n",
        "carrying capacities, costs and parking space requirements are listed below:"
      ],
      "metadata": {
        "id": "PzLeYhLEnKky"
      }
    },
    {
      "cell_type": "markdown",
      "source": [
        "$\\begin{matrix} \n",
        "Drone Model & Carrying Capacity (kgs) & Cost (in Crores of rupees) & Parking space (sq. m.) \\\\\n",
        "SHREY & 11 & 6.5 & 5.75 \\\\\n",
        "DHARAN & 13 & 8 & 4.5 \\\\\n",
        "SATVA & 9 & 10.5 & 3.75 \\\\\n",
        "ADHYA & 15 & 11.75 & 4.85 \\\\\n",
        "PRAVAT & 12 & 14.5 & 3.45 \n",
        "\\end{matrix}$"
      ],
      "metadata": {
        "id": "KkxaDXzRndPa"
      }
    },
    {
      "cell_type": "markdown",
      "source": [
        "The IAF wants to have maximum possible carrying capacity. The budget of IAF is limited to 78\n",
        "crores of rupees. In addition, parking space for drones is limited to 84 sq. m."
      ],
      "metadata": {
        "id": "AkGVM7lDoklz"
      }
    },
    {
      "cell_type": "markdown",
      "source": [
        "$\\mathbf{4. }$ Write a mathematical optimization problem to find the number of drones of each type\n",
        "that can be bought in order to maximize the goal. Mention which variables must be integers.\n"
      ],
      "metadata": {
        "id": "4bQvaWb4oyb_"
      }
    },
    {
      "cell_type": "markdown",
      "source": [
        "$\\textbf{Solution :-}$"
      ],
      "metadata": {
        "id": "lPcfwy_Ko5sB"
      }
    },
    {
      "cell_type": "markdown",
      "source": [
        "$\\textbf{maximize :} \\ $ $11*x[0] + 13*x[1] + 9*x[2] + 15*x[3] + 12*x[4] \\\\\n",
        "\\text{s.t. } \\ 6.5*x[0] + 8.0*x[1] + 10.5*x[2] + 11.75*x[3] + 14.5*x[4] <=78.0  \\\\\n",
        "5.75*x[0] + 4.5*x[1] + 3.75*x[2] + 4.85*x[3] + 3.45*x[4]<=84.0 \\\\ x[i]>=0 \\ \\forall i \\in \\{0,1,2,3,4\\} \\ \\ \\text{and all} \\ x[i] \\ \\text{must be integers.}\n",
        "$"
      ],
      "metadata": {
        "id": "a7CPHEXNpBle"
      }
    },
    {
      "cell_type": "code",
      "source": [
        "!pip install -q pyomo"
      ],
      "metadata": {
        "id": "YvqRReINWkgL"
      },
      "execution_count": null,
      "outputs": []
    },
    {
      "cell_type": "code",
      "source": [
        "from pyomo.environ import * "
      ],
      "metadata": {
        "id": "ehtV1G5wW-vh"
      },
      "execution_count": null,
      "outputs": []
    },
    {
      "cell_type": "code",
      "source": [
        "import numpy as np"
      ],
      "metadata": {
        "id": "Mhv7FoyXXB_P"
      },
      "execution_count": null,
      "outputs": []
    },
    {
      "cell_type": "code",
      "source": [
        "import pandas as pd"
      ],
      "metadata": {
        "id": "vA_sEFdPXE23"
      },
      "execution_count": null,
      "outputs": []
    },
    {
      "cell_type": "code",
      "source": [
        "data_csvfile = pd.read_csv('lab4 ex2.csv')"
      ],
      "metadata": {
        "id": "Oxx2huASZgmz"
      },
      "execution_count": null,
      "outputs": []
    },
    {
      "cell_type": "code",
      "source": [
        "model_lab4_ex2 = ConcreteModel()"
      ],
      "metadata": {
        "id": "qZlERMm7aFbB"
      },
      "execution_count": null,
      "outputs": []
    },
    {
      "cell_type": "code",
      "source": [
        "N = len(data_csvfile.index)\n",
        "M = 2"
      ],
      "metadata": {
        "id": "2w42UnkwaQeY"
      },
      "execution_count": null,
      "outputs": []
    },
    {
      "cell_type": "code",
      "source": [
        "col_indices = range(N)"
      ],
      "metadata": {
        "id": "bcX1n0mtaTc1"
      },
      "execution_count": null,
      "outputs": []
    },
    {
      "cell_type": "code",
      "source": [
        "model_lab4_ex2.x = Var(col_indices,domain=NonNegativeIntegers)"
      ],
      "metadata": {
        "id": "vmbev4n8a8ZB"
      },
      "execution_count": null,
      "outputs": []
    },
    {
      "cell_type": "code",
      "source": [
        "model_lab4_ex2.objective = Objective(expr=summation(data_csvfile['Carrying Capacity (kgs) '], model_lab4_ex2.x),sense=maximize)"
      ],
      "metadata": {
        "id": "v4kHoS_ubC2O"
      },
      "execution_count": null,
      "outputs": []
    },
    {
      "cell_type": "code",
      "source": [
        "model_lab4_ex2.constraints = ConstraintList()"
      ],
      "metadata": {
        "id": "WqVYID9Ybj52"
      },
      "execution_count": null,
      "outputs": []
    },
    {
      "cell_type": "code",
      "source": [
        "coef_rhs = np.array([78,84])"
      ],
      "metadata": {
        "id": "yPL7teOqdAux"
      },
      "execution_count": null,
      "outputs": []
    },
    {
      "cell_type": "code",
      "source": [
        "type(data_csvfile.columns[1])"
      ],
      "metadata": {
        "colab": {
          "base_uri": "https://localhost:8080/"
        },
        "id": "Xv0w0D9qeTKT",
        "outputId": "bebe9197-8897-4e66-ba47-7f1de8564044"
      },
      "execution_count": null,
      "outputs": [
        {
          "output_type": "execute_result",
          "data": {
            "text/plain": [
              "str"
            ]
          },
          "metadata": {},
          "execution_count": 48
        }
      ]
    },
    {
      "cell_type": "code",
      "source": [
        "for i in range(M):\n",
        "  model_lab4_ex2.constraints.add(summation(data_csvfile[data_csvfile.columns[i+2]],model_lab4_ex2.x)<=coef_rhs[i])"
      ],
      "metadata": {
        "id": "pinctqVfbmuc"
      },
      "execution_count": null,
      "outputs": []
    },
    {
      "cell_type": "code",
      "source": [
        "lower_bound = 0\n",
        "upper_bound = np.inf"
      ],
      "metadata": {
        "id": "UlRjUDDCdpHA"
      },
      "execution_count": null,
      "outputs": []
    },
    {
      "cell_type": "code",
      "source": [
        "for j in col_indices:\n",
        "  model_lab4_ex2.x[j].setlb(lower_bound)\n",
        "  model_lab4_ex2.x[j].setub(upper_bound)"
      ],
      "metadata": {
        "id": "_q9isQk_fENj"
      },
      "execution_count": null,
      "outputs": []
    },
    {
      "cell_type": "code",
      "source": [
        "model_lab4_ex2.pprint()"
      ],
      "metadata": {
        "colab": {
          "base_uri": "https://localhost:8080/"
        },
        "id": "-sSikBl_fHUD",
        "outputId": "b7ef15d0-91ab-4eac-a42c-1851725eed77"
      },
      "execution_count": null,
      "outputs": [
        {
          "output_type": "stream",
          "name": "stdout",
          "text": [
            "2 Set Declarations\n",
            "    constraints_index : Size=1, Index=None, Ordered=Insertion\n",
            "        Key  : Dimen : Domain : Size : Members\n",
            "        None :     1 :    Any :    2 : {1, 2}\n",
            "    x_index : Size=1, Index=None, Ordered=Insertion\n",
            "        Key  : Dimen : Domain : Size : Members\n",
            "        None :     1 :    Any :    5 : {0, 1, 2, 3, 4}\n",
            "\n",
            "1 Var Declarations\n",
            "    x : Size=5, Index=x_index\n",
            "        Key : Lower : Value : Upper : Fixed : Stale : Domain\n",
            "          0 :     0 :  None :  None : False :  True : NonNegativeIntegers\n",
            "          1 :     0 :  None :  None : False :  True : NonNegativeIntegers\n",
            "          2 :     0 :  None :  None : False :  True : NonNegativeIntegers\n",
            "          3 :     0 :  None :  None : False :  True : NonNegativeIntegers\n",
            "          4 :     0 :  None :  None : False :  True : NonNegativeIntegers\n",
            "\n",
            "1 Objective Declarations\n",
            "    objective : Size=1, Index=None, Active=True\n",
            "        Key  : Active : Sense    : Expression\n",
            "        None :   True : maximize : 11*x[0] + 13*x[1] + 9*x[2] + 15*x[3] + 12*x[4]\n",
            "\n",
            "1 Constraint Declarations\n",
            "    constraints : Size=2, Index=constraints_index, Active=True\n",
            "        Key : Lower : Body                                                     : Upper : Active\n",
            "          1 :  -Inf : 6.5*x[0] + 8.0*x[1] + 10.5*x[2] + 11.75*x[3] + 14.5*x[4] :  78.0 :   True\n",
            "          2 :  -Inf : 5.75*x[0] + 4.5*x[1] + 3.75*x[2] + 4.85*x[3] + 3.45*x[4] :  84.0 :   True\n",
            "\n",
            "5 Declarations: x_index x objective constraints_index constraints\n"
          ]
        }
      ]
    },
    {
      "cell_type": "code",
      "source": [
        "!apt-get install -y -qq coinor-cbc"
      ],
      "metadata": {
        "id": "kH-LYoGzfKua"
      },
      "execution_count": null,
      "outputs": []
    },
    {
      "cell_type": "code",
      "source": [
        "opt_cbc = SolverFactory('cbc')"
      ],
      "metadata": {
        "id": "MQcUEHwygDTq"
      },
      "execution_count": null,
      "outputs": []
    },
    {
      "cell_type": "code",
      "source": [
        "result = opt_cbc.solve(model_lab4_ex2)\n",
        "print('Solver status:', result.solver.status)\n",
        "print('Solver termination condition:',result.solver.termination_condition)"
      ],
      "metadata": {
        "colab": {
          "base_uri": "https://localhost:8080/"
        },
        "id": "emezsmVngFuf",
        "outputId": "6f1fb773-f493-4bd3-a575-da28f8feda83"
      },
      "execution_count": null,
      "outputs": [
        {
          "output_type": "stream",
          "name": "stdout",
          "text": [
            "Solver status: ok\n",
            "Solver termination condition: optimal\n"
          ]
        }
      ]
    },
    {
      "cell_type": "markdown",
      "source": [
        "$\\mathbf{6.} $ Report the optimal objective function value and the solution.\n"
      ],
      "metadata": {
        "id": "inGJmSDfrDFM"
      }
    },
    {
      "cell_type": "markdown",
      "source": [
        "$\\textbf{Solution :-}$ "
      ],
      "metadata": {
        "id": "N3nSOBnIrL4V"
      }
    },
    {
      "cell_type": "code",
      "source": [
        "print('\\nObjective = ', model_lab4_ex2.objective())\n",
        "\n",
        "print('\\nDecision Variables')\n",
        "for i in col_indices:\n",
        "  print('No. of ',data_csvfile['Drone Model'][i],' drone need to buy is : ' ,model_lab4_ex2.x[i].value)\n",
        "\n",
        "print('\\nConstraints')\n",
        "model_lab4_ex2.constraints.display()"
      ],
      "metadata": {
        "colab": {
          "base_uri": "https://localhost:8080/"
        },
        "id": "YMMguv8wgJAc",
        "outputId": "d0fef477-8928-446f-d735-d8b6e16e1769"
      },
      "execution_count": null,
      "outputs": [
        {
          "output_type": "stream",
          "name": "stdout",
          "text": [
            "\n",
            "Objective =  132.0\n",
            "\n",
            "Decision Variables\n",
            "No. of  SHREY   drone need to buy is :  12.0\n",
            "No. of  DHARAN   drone need to buy is :  0.0\n",
            "No. of  SATVA   drone need to buy is :  0.0\n",
            "No. of  ADHYA   drone need to buy is :  0.0\n",
            "No. of  PRAVAT   drone need to buy is :  0.0\n",
            "\n",
            "Constraints\n",
            "constraints : Size=2\n",
            "    Key : Lower : Body : Upper\n",
            "      1 :  None : 78.0 :  78.0\n",
            "      2 :  None : 69.0 :  84.0\n"
          ]
        }
      ]
    },
    {
      "cell_type": "markdown",
      "source": [
        "$\\mathbf{7.} $ Let us now compare it to a linear program. Suppose we remove the restrictions that\n",
        "the variables in the above problem are integers. Solve this modified problem and report the\n",
        "solution and the objective value.\n"
      ],
      "metadata": {
        "id": "losmPwfJs9-Z"
      }
    },
    {
      "cell_type": "markdown",
      "source": [
        "$\\textbf{Solution : -}$"
      ],
      "metadata": {
        "id": "kch1DSV1tJdr"
      }
    },
    {
      "cell_type": "code",
      "source": [
        "model_lab4_ex2.x.domain =Reals"
      ],
      "metadata": {
        "id": "QL4IrKVSgLyD"
      },
      "execution_count": null,
      "outputs": []
    },
    {
      "cell_type": "code",
      "source": [
        "model_lab4_ex2.pprint()"
      ],
      "metadata": {
        "colab": {
          "base_uri": "https://localhost:8080/"
        },
        "id": "6dZ1Pqbnk96s",
        "outputId": "8372ae71-f89b-4622-c8bc-a1c0ac9f81b5"
      },
      "execution_count": null,
      "outputs": [
        {
          "output_type": "stream",
          "name": "stdout",
          "text": [
            "2 Set Declarations\n",
            "    constraints_index : Size=1, Index=None, Ordered=Insertion\n",
            "        Key  : Dimen : Domain : Size : Members\n",
            "        None :     1 :    Any :    2 : {1, 2}\n",
            "    x_index : Size=1, Index=None, Ordered=Insertion\n",
            "        Key  : Dimen : Domain : Size : Members\n",
            "        None :     1 :    Any :    5 : {0, 1, 2, 3, 4}\n",
            "\n",
            "1 Var Declarations\n",
            "    x : Size=5, Index=x_index\n",
            "        Key : Lower : Value : Upper : Fixed : Stale : Domain\n",
            "          0 :     0 :  12.0 :  None : False : False :  Reals\n",
            "          1 :     0 :   0.0 :  None : False : False :  Reals\n",
            "          2 :     0 :   0.0 :  None : False : False :  Reals\n",
            "          3 :     0 :   0.0 :  None : False : False :  Reals\n",
            "          4 :     0 :   0.0 :  None : False : False :  Reals\n",
            "\n",
            "1 Objective Declarations\n",
            "    objective : Size=1, Index=None, Active=True\n",
            "        Key  : Active : Sense    : Expression\n",
            "        None :   True : maximize : 11*x[0] + 13*x[1] + 9*x[2] + 15*x[3] + 12*x[4]\n",
            "\n",
            "1 Constraint Declarations\n",
            "    constraints : Size=2, Index=constraints_index, Active=True\n",
            "        Key : Lower : Body                                                     : Upper : Active\n",
            "          1 :  -Inf : 6.5*x[0] + 8.0*x[1] + 10.5*x[2] + 11.75*x[3] + 14.5*x[4] :  78.0 :   True\n",
            "          2 :  -Inf : 5.75*x[0] + 4.5*x[1] + 3.75*x[2] + 4.85*x[3] + 3.45*x[4] :  84.0 :   True\n",
            "\n",
            "5 Declarations: x_index x objective constraints_index constraints\n"
          ]
        }
      ]
    },
    {
      "cell_type": "code",
      "source": [
        "result = opt_cbc.solve(model_lab4_ex2)\n",
        "print('Solver status:', result.solver.status)\n",
        "print('Solver termination condition:',result.solver.termination_condition)"
      ],
      "metadata": {
        "colab": {
          "base_uri": "https://localhost:8080/"
        },
        "id": "kxVAVd1olC8O",
        "outputId": "b226fa74-3c45-42d5-a6aa-5a8a275c8aed"
      },
      "execution_count": null,
      "outputs": [
        {
          "output_type": "stream",
          "name": "stdout",
          "text": [
            "Solver status: ok\n",
            "Solver termination condition: optimal\n"
          ]
        }
      ]
    },
    {
      "cell_type": "code",
      "source": [
        "print('\\nObjective = ', model_lab4_ex2.objective())\n",
        "\n",
        "print('\\nDecision Variables')\n",
        "for i in col_indices:\n",
        "  print('No. of ',data_csvfile['Drone Model'][i],' drone need to buy is : ' ,model_lab4_ex2.x[i].value)\n",
        "\n",
        "print('\\nConstraints')\n",
        "model_lab4_ex2.constraints.display()"
      ],
      "metadata": {
        "colab": {
          "base_uri": "https://localhost:8080/"
        },
        "id": "Sdl3IF83lGw3",
        "outputId": "8aff7e56-7c6a-4529-930d-98b335ee0fe3"
      },
      "execution_count": null,
      "outputs": [
        {
          "output_type": "stream",
          "name": "stdout",
          "text": [
            "\n",
            "Objective =  132.0\n",
            "\n",
            "Decision Variables\n",
            "No. of  SHREY   drone need to buy is :  12.0\n",
            "No. of  DHARAN   drone need to buy is :  0.0\n",
            "No. of  SATVA   drone need to buy is :  0.0\n",
            "No. of  ADHYA   drone need to buy is :  0.0\n",
            "No. of  PRAVAT   drone need to buy is :  0.0\n",
            "\n",
            "Constraints\n",
            "constraints : Size=2\n",
            "    Key : Lower : Body : Upper\n",
            "      1 :  None : 78.0 :  78.0\n",
            "      2 :  None : 69.0 :  84.0\n"
          ]
        }
      ]
    },
    {
      "cell_type": "markdown",
      "source": [
        "$\\mathbf{8.}$ Can the solution of the MILP be obtained by merely rounding the solution of the LP?\n",
        "Why or why not?\n"
      ],
      "metadata": {
        "id": "D-EnDoRztf4L"
      }
    },
    {
      "cell_type": "markdown",
      "source": [
        "$\\textbf{Solution :-}$"
      ],
      "metadata": {
        "id": "aSAqm-nZzxM1"
      }
    },
    {
      "cell_type": "markdown",
      "source": [
        "Here, since MILP solution and LP solution are same that's by we obtained MILP solution by merely rounding (even here no need to rounding since variables of LP solution is already integers) the solution of the LP. but,it is very rare to get solution of the MILP be obtained by rounding the solution of the Lp ,some time if you going to rounding the solution of Lp you may find that the new generating solution is not satisfying your constraints. even some time it may be satisfy but you may find this is not optimal solution. so rounding the solution of lp to get solution of MILP is not a way to finding solution of MILP."
      ],
      "metadata": {
        "id": "yUP3RcOmyA0Z"
      }
    },
    {
      "cell_type": "markdown",
      "source": [
        "$\\mathbf{9.}$ Suppose now we are interested in finding how the solution changes when the right-hand sides in our constraints change. Suppose the limit on budget is decreased to 76 crores of\n",
        "rupees and the parking space is increased to 87 units, how will the new LP optimal objective\n",
        "function value and corresponding optimal solution change? How does the new MILP optimal\n",
        "objective function value and corresponding optimal solution change?"
      ],
      "metadata": {
        "id": "hTOVOFLBt14I"
      }
    },
    {
      "cell_type": "markdown",
      "source": [
        "$\\textbf{Solution :-}$"
      ],
      "metadata": {
        "id": "N2pkLK0Tt9wx"
      }
    },
    {
      "cell_type": "markdown",
      "source": [
        "$\\text{LP}$"
      ],
      "metadata": {
        "id": "hruW1N0bxSUd"
      }
    },
    {
      "cell_type": "code",
      "source": [
        "new_constr_ub = np.array([76,87])\n",
        "for i in range(M):\n",
        "  model_lab4_ex2.constraints[i+1].set_value(model_lab4_ex2.constraints[i+1].body <= new_constr_ub[i])"
      ],
      "metadata": {
        "id": "z1pYF77GlJlF"
      },
      "execution_count": null,
      "outputs": []
    },
    {
      "cell_type": "code",
      "source": [
        "model_lab4_ex2.pprint()"
      ],
      "metadata": {
        "colab": {
          "base_uri": "https://localhost:8080/"
        },
        "id": "GFy7lt9gnQEs",
        "outputId": "75b4ec94-d3e2-48a0-a260-35e4c222b4c1"
      },
      "execution_count": null,
      "outputs": [
        {
          "output_type": "stream",
          "name": "stdout",
          "text": [
            "2 Set Declarations\n",
            "    constraints_index : Size=1, Index=None, Ordered=Insertion\n",
            "        Key  : Dimen : Domain : Size : Members\n",
            "        None :     1 :    Any :    2 : {1, 2}\n",
            "    x_index : Size=1, Index=None, Ordered=Insertion\n",
            "        Key  : Dimen : Domain : Size : Members\n",
            "        None :     1 :    Any :    5 : {0, 1, 2, 3, 4}\n",
            "\n",
            "1 Var Declarations\n",
            "    x : Size=5, Index=x_index\n",
            "        Key : Lower : Value : Upper : Fixed : Stale : Domain\n",
            "          0 :     0 :  12.0 :  None : False : False :  Reals\n",
            "          1 :     0 :   0.0 :  None : False : False :  Reals\n",
            "          2 :     0 :   0.0 :  None : False : False :  Reals\n",
            "          3 :     0 :   0.0 :  None : False : False :  Reals\n",
            "          4 :     0 :   0.0 :  None : False : False :  Reals\n",
            "\n",
            "1 Objective Declarations\n",
            "    objective : Size=1, Index=None, Active=True\n",
            "        Key  : Active : Sense    : Expression\n",
            "        None :   True : maximize : 11*x[0] + 13*x[1] + 9*x[2] + 15*x[3] + 12*x[4]\n",
            "\n",
            "1 Constraint Declarations\n",
            "    constraints : Size=2, Index=constraints_index, Active=True\n",
            "        Key : Lower : Body                                                     : Upper : Active\n",
            "          1 :  -Inf : 6.5*x[0] + 8.0*x[1] + 10.5*x[2] + 11.75*x[3] + 14.5*x[4] :  76.0 :   True\n",
            "          2 :  -Inf : 5.75*x[0] + 4.5*x[1] + 3.75*x[2] + 4.85*x[3] + 3.45*x[4] :  87.0 :   True\n",
            "\n",
            "5 Declarations: x_index x objective constraints_index constraints\n"
          ]
        }
      ]
    },
    {
      "cell_type": "code",
      "source": [
        "result = opt_cbc.solve(model_lab4_ex2)\n",
        "print('Solver status:', result.solver.status)\n",
        "print('Solver termination condition:',result.solver.termination_condition)"
      ],
      "metadata": {
        "colab": {
          "base_uri": "https://localhost:8080/"
        },
        "id": "Yr7quaVm5XUu",
        "outputId": "1959d909-a99c-41ee-ef65-03856aa15783"
      },
      "execution_count": null,
      "outputs": [
        {
          "output_type": "stream",
          "name": "stdout",
          "text": [
            "Solver status: ok\n",
            "Solver termination condition: optimal\n"
          ]
        }
      ]
    },
    {
      "cell_type": "code",
      "source": [
        "print('\\nObjective = ', model_lab4_ex2.objective())\n",
        "\n",
        "print('\\nDecision Variables')\n",
        "for i in col_indices:\n",
        "  print('No. of ',data_csvfile['Drone Model'][i],' drone need to buy is : ' ,model_lab4_ex2.x[i].value)\n",
        "\n",
        "print('\\nConstraints')\n",
        "model_lab4_ex2.constraints.display()"
      ],
      "metadata": {
        "colab": {
          "base_uri": "https://localhost:8080/"
        },
        "id": "3bzP4ny-5bRR",
        "outputId": "c8021be3-4621-48c4-d0eb-ee85a94ef1fb"
      },
      "execution_count": null,
      "outputs": [
        {
          "output_type": "stream",
          "name": "stdout",
          "text": [
            "\n",
            "Objective =  128.615388\n",
            "\n",
            "Decision Variables\n",
            "No. of  SHREY   drone need to buy is :  11.692308\n",
            "No. of  DHARAN   drone need to buy is :  0.0\n",
            "No. of  SATVA   drone need to buy is :  0.0\n",
            "No. of  ADHYA   drone need to buy is :  0.0\n",
            "No. of  PRAVAT   drone need to buy is :  0.0\n",
            "\n",
            "Constraints\n",
            "constraints : Size=2\n",
            "    Key : Lower : Body              : Upper\n",
            "      1 :  None : 76.00000200000001 :  76.0\n",
            "      2 :  None :         67.230771 :  87.0\n"
          ]
        }
      ]
    },
    {
      "cell_type": "markdown",
      "source": [
        "Here, Optimal objective function get decreased since decrease in budget"
      ],
      "metadata": {
        "id": "nwxjlVuPovtS"
      }
    },
    {
      "cell_type": "markdown",
      "source": [
        "$\\textbf{MILP}$"
      ],
      "metadata": {
        "id": "M5dKTZF2xtx4"
      }
    },
    {
      "cell_type": "code",
      "source": [
        "model_lab4_ex2.x.domain = NonNegativeIntegers"
      ],
      "metadata": {
        "id": "GgL88Cff5e7j"
      },
      "execution_count": null,
      "outputs": []
    },
    {
      "cell_type": "code",
      "source": [
        "result = opt_cbc.solve(model_lab4_ex2)\n",
        "print('Solver status:', result.solver.status)\n",
        "print('Solver termination condition:',result.solver.termination_condition)\n",
        "\n",
        "print('\\nObjective = ', model_lab4_ex2.objective())\n",
        "\n",
        "print('\\nDecision Variables')\n",
        "for i in col_indices:\n",
        "  print('No. of ',data_csvfile['Drone Model'][i],' drone need to buy is : ' ,model_lab4_ex2.x[i].value)\n",
        "\n",
        "print('\\nConstraints')\n",
        "model_lab4_ex2.constraints.display()"
      ],
      "metadata": {
        "colab": {
          "base_uri": "https://localhost:8080/"
        },
        "id": "-CDHstzv8pmk",
        "outputId": "3a73a282-0381-44f4-d850-b256658e36f8"
      },
      "execution_count": null,
      "outputs": [
        {
          "output_type": "stream",
          "name": "stdout",
          "text": [
            "Solver status: ok\n",
            "Solver termination condition: optimal\n",
            "\n",
            "Objective =  127.0\n",
            "\n",
            "Decision Variables\n",
            "No. of  SHREY   drone need to buy is :  8.0\n",
            "No. of  DHARAN   drone need to buy is :  3.0\n",
            "No. of  SATVA   drone need to buy is :  0.0\n",
            "No. of  ADHYA   drone need to buy is :  0.0\n",
            "No. of  PRAVAT   drone need to buy is :  0.0\n",
            "\n",
            "Constraints\n",
            "constraints : Size=2\n",
            "    Key : Lower : Body : Upper\n",
            "      1 :  None : 76.0 :  76.0\n",
            "      2 :  None : 59.5 :  87.0\n"
          ]
        }
      ]
    },
    {
      "cell_type": "markdown",
      "source": [
        "Here, Optimal objective function get decreased since decrease in budget"
      ],
      "metadata": {
        "id": "4F-f-JGepWyz"
      }
    },
    {
      "cell_type": "markdown",
      "source": [
        "$\\mathbf{10.}$  Now try decreasing limit on budget from 76 crores to 74, 72, 70 and 68 crores of rupees.\n",
        "Correspondingly, increase the parking space to 88, 89, 90 and 91 units. Solve the LP and\n",
        "MILP for each of these four possiblities and comment on the pattern seen in optimal objective\n",
        "function values of the LP and MILP. Also comment on your observations about the optimal\n",
        "solutions obtained.\n"
      ],
      "metadata": {
        "id": "_5fe3GITuwM1"
      }
    },
    {
      "cell_type": "markdown",
      "source": [
        "$\\textbf{Solution :-}$"
      ],
      "metadata": {
        "id": "MX6HWGBOu3Zx"
      }
    },
    {
      "cell_type": "code",
      "source": [
        "new_budget_packing_space = np.array([[74, 72, 70, 68],\n",
        "                                    [88, 89, 90 , 91]])"
      ],
      "metadata": {
        "id": "xx1Sm_egwg7o"
      },
      "execution_count": null,
      "outputs": []
    },
    {
      "cell_type": "markdown",
      "source": [
        "$\\textbf{MILP}$"
      ],
      "metadata": {
        "id": "TOcY3B8ywqyC"
      }
    },
    {
      "cell_type": "code",
      "source": [
        "for k in range(4):\n",
        "  for i in range(M):\n",
        "    model_lab4_ex2.constraints[i+1].set_value(model_lab4_ex2.constraints[i+1].body <= new_budget_packing_space[:,k:k+1][i][0])\n",
        "  result = opt_cbc.solve(model_lab4_ex2)\n",
        "  print('Solver status:', result.solver.status)\n",
        "  print('Solver termination condition:',result.solver.termination_condition)\n",
        "\n",
        "  print('\\nObjective = ', model_lab4_ex2.objective())\n",
        "\n",
        "  print('\\nDecision Variables')\n",
        "  for i in col_indices:\n",
        "    print('No. of ',data_csvfile['Drone Model'][i],' drone need to buy is : ' ,model_lab4_ex2.x[i].value)\n",
        "\n",
        "  print('\\nConstraints')\n",
        "  model_lab4_ex2.constraints.display()\n",
        "\n",
        "  "
      ],
      "metadata": {
        "colab": {
          "base_uri": "https://localhost:8080/"
        },
        "id": "F9tZpqhPBhlz",
        "outputId": "28b61e2a-4304-4cf9-aa22-0c2546a5b79c"
      },
      "execution_count": null,
      "outputs": [
        {
          "output_type": "stream",
          "name": "stdout",
          "text": [
            "Solver status: ok\n",
            "Solver termination condition: optimal\n",
            "\n",
            "Objective =  123.0\n",
            "\n",
            "Decision Variables\n",
            "No. of  SHREY   drone need to buy is :  10.0\n",
            "No. of  DHARAN   drone need to buy is :  1.0\n",
            "No. of  SATVA   drone need to buy is :  0.0\n",
            "No. of  ADHYA   drone need to buy is :  0.0\n",
            "No. of  PRAVAT   drone need to buy is :  0.0\n",
            "\n",
            "Constraints\n",
            "constraints : Size=2\n",
            "    Key : Lower : Body : Upper\n",
            "      1 :  None : 73.0 :  74.0\n",
            "      2 :  None : 62.0 :  88.0\n",
            "Solver status: ok\n",
            "Solver termination condition: optimal\n",
            "\n",
            "Objective =  121.0\n",
            "\n",
            "Decision Variables\n",
            "No. of  SHREY   drone need to buy is :  11.0\n",
            "No. of  DHARAN   drone need to buy is :  0.0\n",
            "No. of  SATVA   drone need to buy is :  0.0\n",
            "No. of  ADHYA   drone need to buy is :  0.0\n",
            "No. of  PRAVAT   drone need to buy is :  0.0\n",
            "\n",
            "Constraints\n",
            "constraints : Size=2\n",
            "    Key : Lower : Body  : Upper\n",
            "      1 :  None :  71.5 :  72.0\n",
            "      2 :  None : 63.25 :  89.0\n",
            "Solver status: ok\n",
            "Solver termination condition: optimal\n",
            "\n",
            "Objective =  116.0\n",
            "\n",
            "Decision Variables\n",
            "No. of  SHREY   drone need to buy is :  7.0\n",
            "No. of  DHARAN   drone need to buy is :  3.0\n",
            "No. of  SATVA   drone need to buy is :  0.0\n",
            "No. of  ADHYA   drone need to buy is :  0.0\n",
            "No. of  PRAVAT   drone need to buy is :  0.0\n",
            "\n",
            "Constraints\n",
            "constraints : Size=2\n",
            "    Key : Lower : Body  : Upper\n",
            "      1 :  None :  69.5 :  70.0\n",
            "      2 :  None : 53.75 :  90.0\n",
            "Solver status: ok\n",
            "Solver termination condition: optimal\n",
            "\n",
            "Objective =  114.0\n",
            "\n",
            "Decision Variables\n",
            "No. of  SHREY   drone need to buy is :  8.0\n",
            "No. of  DHARAN   drone need to buy is :  2.0\n",
            "No. of  SATVA   drone need to buy is :  0.0\n",
            "No. of  ADHYA   drone need to buy is :  0.0\n",
            "No. of  PRAVAT   drone need to buy is :  0.0\n",
            "\n",
            "Constraints\n",
            "constraints : Size=2\n",
            "    Key : Lower : Body : Upper\n",
            "      1 :  None : 68.0 :  68.0\n",
            "      2 :  None : 55.0 :  91.0\n"
          ]
        }
      ]
    },
    {
      "cell_type": "markdown",
      "source": [
        "As, we decrease budget and increase in parking space our optimal objective function also decreases."
      ],
      "metadata": {
        "id": "TbjdpRh8pvVB"
      }
    },
    {
      "cell_type": "markdown",
      "source": [
        "because we decreases budget and increase parking space accordingly we are considering to buy other type of drone. "
      ],
      "metadata": {
        "id": "9hwFMGVOqVxj"
      }
    },
    {
      "cell_type": "markdown",
      "source": [
        "$\\text{LP}$"
      ],
      "metadata": {
        "id": "n2fxh4rLw12P"
      }
    },
    {
      "cell_type": "code",
      "source": [
        "model_lab4_ex2.x.domain = Reals"
      ],
      "metadata": {
        "id": "m6czeNhTFR4X"
      },
      "execution_count": null,
      "outputs": []
    },
    {
      "cell_type": "code",
      "source": [
        "for k in range(4):\n",
        "  for i in range(M):\n",
        "    model_lab4_ex2.constraints[i+1].set_value(model_lab4_ex2.constraints[i+1].body <= new_budget_packing_space[:,k:k+1][i][0])\n",
        "  result = opt_cbc.solve(model_lab4_ex2)\n",
        "  print('Solver status:', result.solver.status)\n",
        "  print('Solver termination condition:',result.solver.termination_condition)\n",
        "\n",
        "  print('\\nObjective = ', model_lab4_ex2.objective())\n",
        "\n",
        "  print('\\nDecision Variables')\n",
        "  for i in col_indices:\n",
        "    print('No. of ',data_csvfile['Drone Model'][i],' drone need to buy is : ' ,model_lab4_ex2.x[i].value)\n",
        "\n",
        "  print('\\nConstraints')\n",
        "  model_lab4_ex2.constraints.display()\n"
      ],
      "metadata": {
        "colab": {
          "base_uri": "https://localhost:8080/"
        },
        "id": "fUL2M4lPFaJc",
        "outputId": "8b276a65-6f89-421e-af17-ffdbb0b10996"
      },
      "execution_count": null,
      "outputs": [
        {
          "output_type": "stream",
          "name": "stdout",
          "text": [
            "Solver status: ok\n",
            "Solver termination condition: optimal\n",
            "\n",
            "Objective =  125.230765\n",
            "\n",
            "Decision Variables\n",
            "No. of  SHREY   drone need to buy is :  11.384615\n",
            "No. of  DHARAN   drone need to buy is :  0.0\n",
            "No. of  SATVA   drone need to buy is :  0.0\n",
            "No. of  ADHYA   drone need to buy is :  0.0\n",
            "No. of  PRAVAT   drone need to buy is :  0.0\n",
            "\n",
            "Constraints\n",
            "constraints : Size=2\n",
            "    Key : Lower : Body        : Upper\n",
            "      1 :  None :  73.9999975 :  74.0\n",
            "      2 :  None : 65.46153625 :  88.0\n",
            "Solver status: ok\n",
            "Solver termination condition: optimal\n",
            "\n",
            "Objective =  121.84615300000002\n",
            "\n",
            "Decision Variables\n",
            "No. of  SHREY   drone need to buy is :  11.076923\n",
            "No. of  DHARAN   drone need to buy is :  0.0\n",
            "No. of  SATVA   drone need to buy is :  0.0\n",
            "No. of  ADHYA   drone need to buy is :  0.0\n",
            "No. of  PRAVAT   drone need to buy is :  0.0\n",
            "\n",
            "Constraints\n",
            "constraints : Size=2\n",
            "    Key : Lower : Body               : Upper\n",
            "      1 :  None :         71.9999995 :  72.0\n",
            "      2 :  None : 63.692307250000006 :  89.0\n",
            "Solver status: ok\n",
            "Solver termination condition: optimal\n",
            "\n",
            "Objective =  118.461541\n",
            "\n",
            "Decision Variables\n",
            "No. of  SHREY   drone need to buy is :  10.769231\n",
            "No. of  DHARAN   drone need to buy is :  0.0\n",
            "No. of  SATVA   drone need to buy is :  0.0\n",
            "No. of  ADHYA   drone need to buy is :  0.0\n",
            "No. of  PRAVAT   drone need to buy is :  0.0\n",
            "\n",
            "Constraints\n",
            "constraints : Size=2\n",
            "    Key : Lower : Body               : Upper\n",
            "      1 :  None :         70.0000015 :  70.0\n",
            "      2 :  None : 61.923078249999996 :  90.0\n",
            "Solver status: ok\n",
            "Solver termination condition: optimal\n",
            "\n",
            "Objective =  115.07691799999999\n",
            "\n",
            "Decision Variables\n",
            "No. of  SHREY   drone need to buy is :  10.461538\n",
            "No. of  DHARAN   drone need to buy is :  0.0\n",
            "No. of  SATVA   drone need to buy is :  0.0\n",
            "No. of  ADHYA   drone need to buy is :  0.0\n",
            "No. of  PRAVAT   drone need to buy is :  0.0\n",
            "\n",
            "Constraints\n",
            "constraints : Size=2\n",
            "    Key : Lower : Body               : Upper\n",
            "      1 :  None :          67.999997 :  68.0\n",
            "      2 :  None : 60.153843499999994 :  91.0\n"
          ]
        }
      ]
    },
    {
      "cell_type": "markdown",
      "source": [
        "As, we decrease budget and increase in parking space our optimal objective function also decreases."
      ],
      "metadata": {
        "id": "2d74j0RDp_We"
      }
    },
    {
      "cell_type": "markdown",
      "source": [
        "since in LP we can consider decimal optimal solution that's by here only considering to buy only one type which is best satisfy our constraints ."
      ],
      "metadata": {
        "id": "izxaDv5Wq9as"
      }
    },
    {
      "cell_type": "code",
      "source": [],
      "metadata": {
        "id": "jpKv9FfkFefn"
      },
      "execution_count": null,
      "outputs": []
    }
  ]
}
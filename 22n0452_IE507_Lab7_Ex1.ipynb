{
  "nbformat": 4,
  "nbformat_minor": 0,
  "metadata": {
    "colab": {
      "provenance": [],
      "collapsed_sections": []
    },
    "kernelspec": {
      "name": "python3",
      "display_name": "Python 3"
    },
    "language_info": {
      "name": "python"
    }
  },
  "cells": [
    {
      "cell_type": "markdown",
      "source": [
        "$\\textbf{Exercise 1:}$   Assigning Facilities to Locations [20 Marks]\n",
        "In the previous lab, we discussed the problem of assigning different factories to different locations.\n",
        "Let us now consider a different variation of the assignment problem discussed in the previous lab.\n",
        "Once the 12 factories are set up and start operating, they will be transporting goods amongst themselves. We would like to assign locations to these factories so that the total cost of transportation\n",
        "between them is minimized. The quantities (in Tonnes) that must be transported every week from\n",
        "factory-i to factory-j, i, j = 1, . . . , 12 are given in the Table 1 below. The cost of transporting\n",
        "goods depends on the location of the source and destination factory. Table 1 below gives the cost\n",
        "of transporting one tonne of goods from location i to location j, i, j = 1, . . . , 12. We can ignore the\n",
        "setup costs that were used in the previous lab."
      ],
      "metadata": {
        "id": "u-D4gwbboYfs"
      }
    },
    {
      "cell_type": "markdown",
      "source": [
        "1. [R] Write a mathematical model to solve the assignment problem explained above. Define all\n",
        "the variables and constraints clearly. Use appropriate notations and define appropriate sets\n",
        "to be used in your optimization problem."
      ],
      "metadata": {
        "id": "xZ8ysgZRopVc"
      }
    },
    {
      "cell_type": "markdown",
      "source": [
        "$\\textbf{Solution}$\n",
        "\n",
        "Min $\\sum_{i=1}^{i=n} \\sum_{j=1}^{j=n} \\sum_{k=1}^{k=n} \\sum_{l=1}^{l=n} c_{k,l} d_{i,j} x_{i,k} x_{j,l} \\\\\n",
        "\\sum_{j=1}^{j=n}x_{i,j}=1 \\ \\forall i=1,2,...,n\\\\\n",
        "\\sum_{i=1}^{i=n}x_{i,j}=1 \\ \\forall j=1,2,...,n \\\\\n",
        "x_{i,j} \\in \\{0,1\\} \\forall \\ i,j = {1,2,...,n}$\n",
        "\n",
        "here $c_{kl}$ denote cost of transportation from $k$ location to $l$ location\n",
        "and $d_{ij}$ denote quantities must be transportation from $i$ location to $j$\n",
        "$x_{ij}$ denote factory $i$ going to locate at $j$ for minimizing cost\n"
      ],
      "metadata": {
        "id": "4MqAVpZaG6mK"
      }
    },
    {
      "cell_type": "markdown",
      "source": [
        "Defining new variables $y_{ijkl} = x_{ij}x_{kl}$ results in Adams and Johnson’s linearization\n",
        "\n",
        "\n",
        "$\\textbf{min} \\ \\sum_{i=1}^{i=n} \\sum_{j=1}^{j=n} \\sum_{k=1}^{k=n} \\sum_{l=1}^{l=n} c_{k,l} d_{i,j} y_{i,k,j,l} \\\\\n",
        "\\sum_{i=1}^{i=n} y_{ijkl} = x_{kl} \\ \\ \\forall \\ \\ j, k, l = 1, ..., n, \\\\\n",
        "\\sum_{j=1}^{j=n} y_{ijkl} = x_{kl} \\ \\ \\forall \\ \\ i, k, l = 1, ..., n, \\\\\n",
        "y_{ijkl} = y_{klij} \\forall \\ \\ i, j, k, l = 1, ..., n, \\\\\n",
        "yijkl ≥ 0,  \\forall \\ \\ i, j, k, l = 1, ..., n, \\\\\n",
        "\\sum_{j=1}^{j=n}x_{i,j}=1 \\  \\forall \\ i=1,2,...,n  \\\\\n",
        "\\sum_{i=1}^{i=n}x_{i,j}=1 \\ \\forall \\ j=1,2,...,n$ "
      ],
      "metadata": {
        "id": "_qVbGpE5uQ1y"
      }
    },
    {
      "cell_type": "markdown",
      "source": [
        "2. [R] If there are n factories and n locations, how many variables and constraints are there in\n",
        "your model?\n"
      ],
      "metadata": {
        "id": "DKGngS8lrBh1"
      }
    },
    {
      "cell_type": "markdown",
      "source": [
        "$\\textbf{solution : }$"
      ],
      "metadata": {
        "id": "9a-jUXNYrE-7"
      }
    },
    {
      "cell_type": "markdown",
      "source": [
        "The above formulation contains $n^2$ binary variables, $n^4$\n",
        "continuous variables and $n^4 + 2n^3 +2n $ constraints in addition to the nonnegative constraints on the continuous variables."
      ],
      "metadata": {
        "id": "chz6DTU7uZcc"
      }
    },
    {
      "cell_type": "code",
      "source": [
        "!pip install -q pyomo"
      ],
      "metadata": {
        "id": "1IjCcxY6S_j2"
      },
      "execution_count": 12,
      "outputs": []
    },
    {
      "cell_type": "code",
      "source": [
        "from pyomo.environ import * "
      ],
      "metadata": {
        "id": "X4_7FkzqVtPT"
      },
      "execution_count": 13,
      "outputs": []
    },
    {
      "cell_type": "code",
      "source": [
        "import numpy as np"
      ],
      "metadata": {
        "id": "h4du630hTCgt"
      },
      "execution_count": 14,
      "outputs": []
    },
    {
      "cell_type": "code",
      "source": [
        "import pandas as pd"
      ],
      "metadata": {
        "id": "m_b7o5P6rC3b"
      },
      "execution_count": 15,
      "outputs": []
    },
    {
      "cell_type": "code",
      "source": [
        "quantities_coef = np.loadtxt('lab7_ex1_q.txt',dtype=int)"
      ],
      "metadata": {
        "id": "qclpOE9WrFLl"
      },
      "execution_count": 16,
      "outputs": []
    },
    {
      "cell_type": "code",
      "source": [
        "unitcosts = np.loadtxt('lab7_ex1_c.txt',dtype=int)"
      ],
      "metadata": {
        "id": "CeQRKieOrQFG"
      },
      "execution_count": 17,
      "outputs": []
    },
    {
      "cell_type": "code",
      "source": [
        "unitcosts"
      ],
      "metadata": {
        "colab": {
          "base_uri": "https://localhost:8080/"
        },
        "id": "RsHO0ScBWadf",
        "outputId": "7b4e5143-0444-4aba-ab90-dca5bf87ec2f"
      },
      "execution_count": 18,
      "outputs": [
        {
          "output_type": "execute_result",
          "data": {
            "text/plain": [
              "array([[ 0, 11, 13,  9, 19, 20, 27, 13, 19, 11, 19, 10],\n",
              "       [11,  0,  8,  9, 11, 19, 10, 15, 12, 23, 24, 11],\n",
              "       [13,  8,  0, 18, 19, 19, 27, 27, 19, 24, 12, 17],\n",
              "       [ 9,  9, 18,  0, 19, 20, 10, 20, 21, 20, 27, 10],\n",
              "       [19, 11, 25, 19,  0, 21, 17, 26, 20, 14, 24, 17],\n",
              "       [20, 13, 20, 20, 21,  0, 28, 14, 22, 17, 22, 23],\n",
              "       [27, 10, 17, 10, 17, 28,  0, 12, 18, 26, 10, 12],\n",
              "       [13, 15, 27, 20, 19, 14, 12,  0, 27, 10, 19, 17],\n",
              "       [29, 12, 19, 21, 20, 22, 18, 27,  0, 20, 22, 16],\n",
              "       [11, 20, 24, 10, 14, 17, 26, 10, 10,  0, 25, 21],\n",
              "       [18, 19, 12, 14, 14, 22, 10, 19, 12, 25,  0, 21],\n",
              "       [20, 21, 17, 10, 17, 20, 22, 17, 16, 21, 21,  0]])"
            ]
          },
          "metadata": {},
          "execution_count": 18
        }
      ]
    },
    {
      "cell_type": "code",
      "source": [
        "quantities_coef"
      ],
      "metadata": {
        "colab": {
          "base_uri": "https://localhost:8080/"
        },
        "id": "UJgzhtUkrS2M",
        "outputId": "1bcec284-a7dd-4ca9-dc5b-89f3bdcaedd8"
      },
      "execution_count": 19,
      "outputs": [
        {
          "output_type": "execute_result",
          "data": {
            "text/plain": [
              "array([[ 0, 18, 22, 19, 23, 20, 18, 19,  0, 20, 24, 35],\n",
              "       [21,  0, 20,  0, 19,  0, 22, 20, 18, 19,  0, 33],\n",
              "       [22, 23,  0,  0,  0, 17, 16, 24, 16, 18, 24,  0],\n",
              "       [17, 25,  0,  0, 21, 22, 20, 17, 15, 16, 24, 31],\n",
              "       [12, 19, 18, 19,  0, 21, 21, 23, 21,  0,  0, 21],\n",
              "       [20,  0,  0, 17, 21,  0, 20,  0, 19, 17, 22, 20],\n",
              "       [22, 24, 28, 16, 23,  0,  0, 19, 24, 25, 30, 19],\n",
              "       [23, 29, 20, 17, 24, 24, 23,  0, 19, 22, 30, 26],\n",
              "       [ 0, 28, 29, 21,  0, 24, 18, 18,  0,  0, 22, 23],\n",
              "       [31, 20,  0, 19, 23,  0, 20, 24, 19,  0, 20,  0],\n",
              "       [17,  0, 25, 23, 20, 18, 16, 19,  0, 39,  0, 34],\n",
              "       [ 0, 32, 24, 26,  0, 19,  0, 18, 37, 21, 20,  0]])"
            ]
          },
          "metadata": {},
          "execution_count": 19
        }
      ]
    },
    {
      "cell_type": "code",
      "source": [
        "model = ConcreteModel()"
      ],
      "metadata": {
        "id": "Ea6FEtEFWmj-"
      },
      "execution_count": 20,
      "outputs": []
    },
    {
      "cell_type": "code",
      "source": [
        "M = 8"
      ],
      "metadata": {
        "id": "SWljcKbVW8mT"
      },
      "execution_count": 21,
      "outputs": []
    },
    {
      "cell_type": "code",
      "source": [
        "indexes = np.arange(M)"
      ],
      "metadata": {
        "id": "BWwOjq2KXLqX"
      },
      "execution_count": 22,
      "outputs": []
    },
    {
      "cell_type": "code",
      "source": [
        "model.x = Var(indexes,indexes,domain=Binary)\n",
        "model.y = Var(indexes,indexes,indexes,indexes,domain=NonNegativeReals)"
      ],
      "metadata": {
        "id": "ch2J6Lv1XZb-"
      },
      "execution_count": 23,
      "outputs": []
    },
    {
      "cell_type": "code",
      "source": [
        "model.objective = Objective(expr=sum(unitcosts[k,l]*quantities_coef[i,j]*(model.y[i,k,j,l]) for k in indexes for l in indexes for i in indexes for j in indexes),sense=minimize)"
      ],
      "metadata": {
        "id": "CKMv_wuWX6a7"
      },
      "execution_count": 24,
      "outputs": []
    },
    {
      "cell_type": "code",
      "source": [
        "model.constraints = ConstraintList()"
      ],
      "metadata": {
        "id": "ne3mTS7GZGC0"
      },
      "execution_count": 25,
      "outputs": []
    },
    {
      "cell_type": "code",
      "source": [
        "for i in range(M):\n",
        "  model.constraints.add(expr = sum(model.x[i,j] for j in indexes)==1)\n",
        "  model.constraints.add(expr = sum(model.x[j,i] for j in indexes)==1)\n",
        "  for j in range(M):\n",
        "    for k in range(M):\n",
        "      model.constraints.add(expr = sum(model.y[l,i,j,k] for l in range(M))==model.x[j,k])\n",
        "      model.constraints.add(expr = sum(model.y[i,l,j,k] for l in range(M))==model.x[j,k])\n",
        "      for l in range(M):\n",
        "        model.constraints.add(expr = model.y[i,j,k,l]==model.y[k,l,i,j])"
      ],
      "metadata": {
        "id": "Vafh3cbDZioN"
      },
      "execution_count": 26,
      "outputs": []
    },
    {
      "cell_type": "code",
      "source": [
        "!apt-get install -y -qq coinor-cbc"
      ],
      "metadata": {
        "id": "z6kZzso5Z6wK",
        "colab": {
          "base_uri": "https://localhost:8080/"
        },
        "outputId": "607c7d02-edf5-41da-d32d-2a707acd939a"
      },
      "execution_count": 27,
      "outputs": [
        {
          "output_type": "stream",
          "name": "stdout",
          "text": [
            "Selecting previously unselected package coinor-libcoinutils3v5.\n",
            "(Reading database ... 159447 files and directories currently installed.)\n",
            "Preparing to unpack .../0-coinor-libcoinutils3v5_2.10.14+repack1-1_amd64.deb ...\n",
            "Unpacking coinor-libcoinutils3v5 (2.10.14+repack1-1) ...\n",
            "Selecting previously unselected package coinor-libosi1v5.\n",
            "Preparing to unpack .../1-coinor-libosi1v5_0.107.9+repack1-1_amd64.deb ...\n",
            "Unpacking coinor-libosi1v5 (0.107.9+repack1-1) ...\n",
            "Selecting previously unselected package coinor-libclp1.\n",
            "Preparing to unpack .../2-coinor-libclp1_1.16.11+repack1-1_amd64.deb ...\n",
            "Unpacking coinor-libclp1 (1.16.11+repack1-1) ...\n",
            "Selecting previously unselected package coinor-libcgl1.\n",
            "Preparing to unpack .../3-coinor-libcgl1_0.59.10+repack1-1_amd64.deb ...\n",
            "Unpacking coinor-libcgl1 (0.59.10+repack1-1) ...\n",
            "Selecting previously unselected package coinor-libcbc3.\n",
            "Preparing to unpack .../4-coinor-libcbc3_2.9.9+repack1-1_amd64.deb ...\n",
            "Unpacking coinor-libcbc3 (2.9.9+repack1-1) ...\n",
            "Selecting previously unselected package coinor-cbc.\n",
            "Preparing to unpack .../5-coinor-cbc_2.9.9+repack1-1_amd64.deb ...\n",
            "Unpacking coinor-cbc (2.9.9+repack1-1) ...\n",
            "Setting up coinor-libcoinutils3v5 (2.10.14+repack1-1) ...\n",
            "Setting up coinor-libosi1v5 (0.107.9+repack1-1) ...\n",
            "Setting up coinor-libclp1 (1.16.11+repack1-1) ...\n",
            "Setting up coinor-libcgl1 (0.59.10+repack1-1) ...\n",
            "Setting up coinor-libcbc3 (2.9.9+repack1-1) ...\n",
            "Setting up coinor-cbc (2.9.9+repack1-1) ...\n",
            "Processing triggers for man-db (2.8.3-2ubuntu0.1) ...\n",
            "Processing triggers for libc-bin (2.27-3ubuntu1.5) ...\n"
          ]
        }
      ]
    },
    {
      "cell_type": "code",
      "source": [
        "opt_cbc = SolverFactory('cbc')"
      ],
      "metadata": {
        "id": "1WQ1nB1BaPWU"
      },
      "execution_count": 28,
      "outputs": []
    },
    {
      "cell_type": "code",
      "source": [
        "result = opt_cbc.solve(model)\n",
        "print('Solver status:', result.solver.status)\n",
        "print('Solver termination condition:',result.solver.termination_condition)"
      ],
      "metadata": {
        "colab": {
          "base_uri": "https://localhost:8080/"
        },
        "id": "fPjfWFhEaUVU",
        "outputId": "bc2223a2-08fb-4104-eb18-6c7106ca5227"
      },
      "execution_count": 29,
      "outputs": [
        {
          "output_type": "stream",
          "name": "stdout",
          "text": [
            "Solver status: ok\n",
            "Solver termination condition: optimal\n"
          ]
        }
      ]
    },
    {
      "cell_type": "code",
      "source": [
        "print(model.objective())"
      ],
      "metadata": {
        "colab": {
          "base_uri": "https://localhost:8080/"
        },
        "id": "4vTLRvIShROS",
        "outputId": "233b34e0-de2f-4beb-9c7d-02e513b045b2"
      },
      "execution_count": 30,
      "outputs": [
        {
          "output_type": "stream",
          "name": "stdout",
          "text": [
            "14889.0\n"
          ]
        }
      ]
    },
    {
      "cell_type": "markdown",
      "source": [
        "9. [R] Solve the problem and report which facility must be opened at each location."
      ],
      "metadata": {
        "id": "EpVJiPcNroZP"
      }
    },
    {
      "cell_type": "markdown",
      "source": [
        "$\\textbf{Solution :} $"
      ],
      "metadata": {
        "id": "IXQCdeLXrp8O"
      }
    },
    {
      "cell_type": "code",
      "source": [
        "for i in indexes:\n",
        "  for j in indexes:\n",
        "    if model.x[i,j].value!=0:\n",
        "      print('facility',i+1,'locate at',j+1,']=',model.x[i,j].value)"
      ],
      "metadata": {
        "colab": {
          "base_uri": "https://localhost:8080/"
        },
        "id": "h_3I0lYTdGiz",
        "outputId": "51412ed3-2569-4fa9-cf6a-fe234ea56527"
      },
      "execution_count": 31,
      "outputs": [
        {
          "output_type": "stream",
          "name": "stdout",
          "text": [
            "facility 1 locate at 2 ]= 1.0\n",
            "facility 2 locate at 8 ]= 1.0\n",
            "facility 3 locate at 7 ]= 1.0\n",
            "facility 4 locate at 6 ]= 1.0\n",
            "facility 5 locate at 1 ]= 1.0\n",
            "facility 6 locate at 3 ]= 1.0\n",
            "facility 7 locate at 5 ]= 1.0\n",
            "facility 8 locate at 4 ]= 1.0\n"
          ]
        }
      ]
    },
    {
      "cell_type": "code",
      "source": [
        "model.x.domain=NonNegativeReals"
      ],
      "metadata": {
        "id": "qQoFOXWyklRI"
      },
      "execution_count": 32,
      "outputs": []
    },
    {
      "cell_type": "code",
      "source": [
        "result = opt_cbc.solve(model)\n",
        "print('Solver status:', result.solver.status)\n",
        "print('Solver termination condition:',result.solver.termination_condition)"
      ],
      "metadata": {
        "colab": {
          "base_uri": "https://localhost:8080/"
        },
        "id": "sIv8TCDJks6b",
        "outputId": "d5ffa560-76f8-4008-930f-a61bafdcb56c"
      },
      "execution_count": 33,
      "outputs": [
        {
          "output_type": "stream",
          "name": "stdout",
          "text": [
            "Solver status: ok\n",
            "Solver termination condition: optimal\n"
          ]
        }
      ]
    },
    {
      "cell_type": "code",
      "source": [
        "print(model.objective())"
      ],
      "metadata": {
        "colab": {
          "base_uri": "https://localhost:8080/"
        },
        "id": "nwOAq22NlGFh",
        "outputId": "5c268d00-8f48-4d8e-d6ff-1b2ab9349a9b"
      },
      "execution_count": 34,
      "outputs": [
        {
          "output_type": "stream",
          "name": "stdout",
          "text": [
            "11790.87500851005\n"
          ]
        }
      ]
    },
    {
      "cell_type": "markdown",
      "source": [
        "10. [R] Now change the integer variables in your model to continuous variables, and re-solve the\n",
        "problem. Report the solution (only the non-zero values of the solution)."
      ],
      "metadata": {
        "id": "d724HbBSsBFj"
      }
    },
    {
      "cell_type": "markdown",
      "source": [
        "$\\textbf{Solution :}$"
      ],
      "metadata": {
        "id": "uJD7ZQf0sAiy"
      }
    },
    {
      "cell_type": "code",
      "source": [
        "for i in indexes:\n",
        "  for j in indexes:\n",
        "    if model.x[i,j].value!=0:\n",
        "      print('x[',i+1,',',j+1,']=',model.x[i,j].value)"
      ],
      "metadata": {
        "colab": {
          "base_uri": "https://localhost:8080/"
        },
        "id": "_Pho7PLJlDBt",
        "outputId": "663c40eb-4e7b-40f7-d209-f9ad9bf79375"
      },
      "execution_count": 35,
      "outputs": [
        {
          "output_type": "stream",
          "name": "stdout",
          "text": [
            "x[ 1 , 1 ]= 0.084983499\n",
            "x[ 1 , 2 ]= 0.33367696\n",
            "x[ 1 , 3 ]= 0.048316653\n",
            "x[ 1 , 4 ]= 0.10039981\n",
            "x[ 1 , 5 ]= 0.051444116\n",
            "x[ 1 , 6 ]= 0.25047975\n",
            "x[ 1 , 7 ]= 0.066562267\n",
            "x[ 1 , 8 ]= 0.064136939\n",
            "x[ 2 , 1 ]= 0.19073548\n",
            "x[ 2 , 2 ]= 0.026261001\n",
            "x[ 2 , 3 ]= 0.11864323\n",
            "x[ 2 , 4 ]= 0.1917243\n",
            "x[ 2 , 5 ]= 0.17399296\n",
            "x[ 2 , 6 ]= 0.022830959\n",
            "x[ 2 , 7 ]= 0.15180168\n",
            "x[ 2 , 8 ]= 0.1240104\n",
            "x[ 3 , 1 ]= 0.10388789\n",
            "x[ 3 , 2 ]= -6.3182098e-13\n",
            "x[ 3 , 3 ]= 0.17341885\n",
            "x[ 3 , 4 ]= 0.20991576\n",
            "x[ 3 , 5 ]= 0.15765049\n",
            "x[ 3 , 6 ]= 0.12777006\n",
            "x[ 3 , 7 ]= 0.12970289\n",
            "x[ 3 , 8 ]= 0.09765406\n",
            "x[ 4 , 1 ]= 0.07739104\n",
            "x[ 4 , 2 ]= 0.0017389244\n",
            "x[ 4 , 3 ]= 0.16883651\n",
            "x[ 4 , 4 ]= 0.041916945\n",
            "x[ 4 , 5 ]= 0.22827876\n",
            "x[ 4 , 6 ]= 0.13528148\n",
            "x[ 4 , 7 ]= 0.11864323\n",
            "x[ 4 , 8 ]= 0.22791312\n",
            "x[ 5 , 1 ]= 0.20537663\n",
            "x[ 5 , 2 ]= 0.14760491\n",
            "x[ 5 , 3 ]= 0.15701317\n",
            "x[ 5 , 4 ]= 0.043650923\n",
            "x[ 5 , 5 ]= 0.038651246\n",
            "x[ 5 , 6 ]= 0.0772711\n",
            "x[ 5 , 7 ]= 0.15673067\n",
            "x[ 5 , 8 ]= 0.17370134\n",
            "x[ 6 , 1 ]= 0.022830959\n",
            "x[ 6 , 2 ]= 1.6734014e-13\n",
            "x[ 6 , 3 ]= 0.19583209\n",
            "x[ 6 , 4 ]= 0.019085987\n",
            "x[ 6 , 5 ]= 0.26693\n",
            "x[ 6 , 6 ]= 0.32892201\n",
            "x[ 6 , 7 ]= 0.06176476\n",
            "x[ 6 , 8 ]= 0.1046342\n",
            "x[ 7 , 1 ]= 0.063140624\n",
            "x[ 7 , 2 ]= 0.31854682\n",
            "x[ 7 , 3 ]= 0.06176476\n",
            "x[ 7 , 4 ]= 0.26544384\n",
            "x[ 7 , 5 ]= 0.083052425\n",
            "x[ 7 , 6 ]= 0.023820054\n",
            "x[ 7 , 7 ]= 0.063140624\n",
            "x[ 7 , 8 ]= 0.12109086\n",
            "x[ 8 , 1 ]= 0.25165388\n",
            "x[ 8 , 2 ]= 0.17217138\n",
            "x[ 8 , 3 ]= 0.076174743\n",
            "x[ 8 , 4 ]= 0.12786244\n",
            "x[ 8 , 5 ]= 9.0895347e-13\n",
            "x[ 8 , 6 ]= 0.033624599\n",
            "x[ 8 , 7 ]= 0.25165388\n",
            "x[ 8 , 8 ]= 0.086859086\n"
          ]
        }
      ]
    },
    {
      "cell_type": "markdown",
      "source": [
        "11. [R] Are the optimal costs for both problems same? Are the values of the variables still\n",
        "integer-valued? If yes, explain why."
      ],
      "metadata": {
        "id": "lsV84olCoW4Y"
      }
    },
    {
      "cell_type": "markdown",
      "source": [
        "$\\textbf{Solution :}$\n",
        "\n",
        "No, optimal cost of MILP is greater than LP.No,since in MILP we add extra constraint variable should be 0 or l but in LP it can be any value between 0 to 1 so, objective value of lp always less than or equal to interger only if lp has also have interger solution but here for lp optimal solution is not integers that's by optimal value of lp is less than MILP."
      ],
      "metadata": {
        "id": "MYrx0JumsNLT"
      }
    },
    {
      "cell_type": "code",
      "source": [],
      "metadata": {
        "id": "oHtJcDohsMQX"
      },
      "execution_count": 35,
      "outputs": []
    }
  ]
}
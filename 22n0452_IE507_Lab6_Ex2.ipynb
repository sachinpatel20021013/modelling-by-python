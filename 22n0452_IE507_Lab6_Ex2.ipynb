{
  "nbformat": 4,
  "nbformat_minor": 0,
  "metadata": {
    "colab": {
      "provenance": [],
      "collapsed_sections": []
    },
    "kernelspec": {
      "name": "python3",
      "display_name": "Python 3"
    },
    "language_info": {
      "name": "python"
    }
  },
  "cells": [
    {
      "cell_type": "markdown",
      "source": [
        "Exercise 2: Assigning Locations [20 Marks]\n",
        "CityScape Constructions Inc. has to build n ∈ N different types of factories, one at each of the n\n",
        "locations. The cost of constructing (setup cost) the i\n",
        "th facility at the j\n",
        "th location provided in the\n",
        "Table 2 below. CityScape Constructions Inc. wants to minimize the sum of the costs of assigning\n",
        "all the facilities to the locations"
      ],
      "metadata": {
        "id": "aZ96Kb_C76G7"
      }
    },
    {
      "cell_type": "markdown",
      "source": [
        "1. [R] Write a mathematical model to solve the assignment problem explained above. Define all\n",
        "the variables and constraints clearly. Use appropriate notations and define appropriate sets\n",
        "to be used in your optimization problem.\n"
      ],
      "metadata": {
        "id": "1pWVsqKm8AiQ"
      }
    },
    {
      "cell_type": "markdown",
      "source": [
        "$\\text{Solution :-}$\n",
        "\n",
        " \\\\\n",
        "Let's take we have N different types of factories and we need to locate all factories to any one location out of N location. for N warehouses we have N avail. stock $s_{i} \\ \\text{where} i \\in \\{1,2,...,N\\}$ \\\\\n",
        "and,  for M markets we have M demand $d_{j} \\ \\text{where} j \\in \\{1,2,...,M\\}$ \\\\\n",
        "\n",
        "so, mathematical formulation for general optimization problem is \\\\\n",
        "\n",
        "$ \\text{Min} \\ \\ \\sum_{i=1}^{N} \\sum_{j=1}^{N}C[i,j]x_{ij}  \\\\\n",
        "\\ \\ \\ \\ \\  \\ \\  \\ \\sum_{i=1}^{N}x_{ij} = 1 \\ \\text{Where} \\  j \\in \\{1,2,3,...,N\\} \\\\\n",
        "\\ \\ \\ \\ \\ \\ \\ \\ \\ \\sum_{j=1}^{M}x_{ij} = 1 \\text{Where} \\  i \\in \\{1,2,3,...,N\\} \\\\ and \\ x_{ij} \\ \\ \\text{is either 0 or 1}.$\n",
        "\n",
        "where, $C[i, j]$ be the cost of locating $i$ factories to $j$ location and corresponding variable is $x_{ij}$ denoting $i$ factories is located to $j$ location or not , if $x_{ij}$ is 1 i.e. $i$ factories is located to $j$ location and if it is 0 i.e. $i$ factories is not located to $j$ location.\n"
      ],
      "metadata": {
        "id": "261wdYnR8bST"
      }
    },
    {
      "cell_type": "markdown",
      "source": [],
      "metadata": {
        "id": "iDTwftHI8cqI"
      }
    },
    {
      "cell_type": "code",
      "source": [
        "!pip install -q pyomo"
      ],
      "metadata": {
        "id": "8esw5NgFuQZ9"
      },
      "execution_count": 25,
      "outputs": []
    },
    {
      "cell_type": "code",
      "source": [
        "from pyomo.environ import * "
      ],
      "metadata": {
        "id": "tEFxfXgKuWq7"
      },
      "execution_count": 26,
      "outputs": []
    },
    {
      "cell_type": "code",
      "source": [
        "import numpy as np"
      ],
      "metadata": {
        "id": "6ATOE7kguZn8"
      },
      "execution_count": 27,
      "outputs": []
    },
    {
      "cell_type": "code",
      "execution_count": 28,
      "metadata": {
        "id": "RXSbX3ccrhX1"
      },
      "outputs": [],
      "source": [
        "coef = np.loadtxt('lab6_ex2.txt', delimiter=',')"
      ]
    },
    {
      "cell_type": "code",
      "source": [
        "coef"
      ],
      "metadata": {
        "colab": {
          "base_uri": "https://localhost:8080/"
        },
        "id": "V0CTFYdsucqV",
        "outputId": "442d4203-54e4-4758-8f2d-0c805c70e656"
      },
      "execution_count": 29,
      "outputs": [
        {
          "output_type": "execute_result",
          "data": {
            "text/plain": [
              "array([[21., 25., 18., 19., 23., 24., 16., 17., 21., 23., 19., 21.],\n",
              "       [19., 22., 19., 19., 23., 21., 15., 20., 16., 17., 17., 24.],\n",
              "       [21., 19., 20., 18., 22., 24., 14., 16., 18., 16., 20., 24.],\n",
              "       [19., 22., 17., 17., 22., 22., 18., 18., 20., 21., 23., 23.],\n",
              "       [18., 22., 15., 15., 23., 23., 21., 25., 24., 19., 21., 23.],\n",
              "       [23., 19., 19., 14., 24., 21., 23., 21., 20., 20., 22., 19.],\n",
              "       [21., 16., 27., 17., 26., 27., 16., 19., 24., 20., 20., 23.],\n",
              "       [22., 17., 21., 15., 23., 24., 24., 20., 22., 19., 23., 21.],\n",
              "       [23., 24., 18., 19., 22., 23., 21., 18., 23., 15., 25., 21.],\n",
              "       [18., 21., 21., 18., 26., 24., 18., 17., 18., 20., 21., 20.],\n",
              "       [19., 12., 21., 19., 23., 20., 22., 19., 17., 19., 20., 24.],\n",
              "       [18., 22., 24., 17., 21., 28., 18., 16., 22., 24., 25., 24.]])"
            ]
          },
          "metadata": {},
          "execution_count": 29
        }
      ]
    },
    {
      "cell_type": "code",
      "source": [
        "N = len(coef[0])\n",
        "M = len(coef[:,0])"
      ],
      "metadata": {
        "id": "e2fQfFuU0GCx"
      },
      "execution_count": 30,
      "outputs": []
    },
    {
      "cell_type": "code",
      "source": [
        "row_indices = np.arange(M)\n",
        "column_indices = np.arange(N)"
      ],
      "metadata": {
        "id": "DMXLR9Hk0Ppz"
      },
      "execution_count": 31,
      "outputs": []
    },
    {
      "cell_type": "code",
      "source": [
        "model = ConcreteModel()"
      ],
      "metadata": {
        "id": "gIxGf3sv08fN"
      },
      "execution_count": 32,
      "outputs": []
    },
    {
      "cell_type": "code",
      "source": [
        "model.x = Var(row_indices,column_indices,domain=Binary)"
      ],
      "metadata": {
        "id": "U6Y3IHyJ1C3R"
      },
      "execution_count": 33,
      "outputs": []
    },
    {
      "cell_type": "code",
      "source": [
        "model.objective = Objective(expr = sum(model.x[i,j]*coef[i,j] for i in row_indices for j in column_indices))"
      ],
      "metadata": {
        "id": "GxCWf1oH1x0F"
      },
      "execution_count": 34,
      "outputs": []
    },
    {
      "cell_type": "code",
      "source": [
        "model.constraints = ConstraintList()"
      ],
      "metadata": {
        "id": "KXI_g7RC2VFB"
      },
      "execution_count": 35,
      "outputs": []
    },
    {
      "cell_type": "code",
      "source": [
        "for i in range(M):\n",
        "  model.constraints.add(expr = sum(model.x[i,j] for j in column_indices)==1)\n",
        "for j in range(N):\n",
        "  model.constraints.add(expr = sum(model.x[i,j] for i in row_indices)==1)  "
      ],
      "metadata": {
        "id": "tvetflvS2sEY"
      },
      "execution_count": 36,
      "outputs": []
    },
    {
      "cell_type": "code",
      "source": [
        "!apt-get install -y -qq coinor-cbc"
      ],
      "metadata": {
        "id": "6jBX9Wer4sDq"
      },
      "execution_count": 37,
      "outputs": []
    },
    {
      "cell_type": "code",
      "source": [
        "opt_cbc = SolverFactory('cbc')"
      ],
      "metadata": {
        "id": "pQAfn2ec5j70"
      },
      "execution_count": 38,
      "outputs": []
    },
    {
      "cell_type": "code",
      "source": [
        "result = opt_cbc.solve(model)\n",
        "print('Solver status:', result.solver.status)\n",
        "print('Solver termination condition:',result.solver.termination_condition)"
      ],
      "metadata": {
        "colab": {
          "base_uri": "https://localhost:8080/"
        },
        "id": "UGsRaRld5rXY",
        "outputId": "f1edf5aa-92d9-4c28-8062-9f580bd9c029"
      },
      "execution_count": 39,
      "outputs": [
        {
          "output_type": "stream",
          "name": "stdout",
          "text": [
            "Solver status: ok\n",
            "Solver termination condition: optimal\n"
          ]
        }
      ]
    },
    {
      "cell_type": "markdown",
      "source": [
        "8. [R] Solve the problem and report which facility must be opened at each location"
      ],
      "metadata": {
        "id": "nBOzVeGZ9jXA"
      }
    },
    {
      "cell_type": "markdown",
      "source": [
        "$\\text{Solution :-}$ "
      ],
      "metadata": {
        "id": "aNbVV0vl9lDq"
      }
    },
    {
      "cell_type": "code",
      "source": [
        "# display solution\n",
        "print('\\nObjective = ', model.objective())\n",
        "\n",
        "print('\\nDecision Variables')\n",
        "for i in row_indices:\n",
        "  for j in column_indices:\n",
        "    if model.x[i,j].value !=0:\n",
        "      print('Factory',i,'Locate',j,':', model.x[i,j].value)\n",
        "\n",
        "print('\\nConstraints')\n",
        "model.constraints.display()"
      ],
      "metadata": {
        "colab": {
          "base_uri": "https://localhost:8080/"
        },
        "id": "8rWuwxum5tln",
        "outputId": "b8387af9-493a-4c34-b022-177b396b40e8"
      },
      "execution_count": 40,
      "outputs": [
        {
          "output_type": "stream",
          "name": "stdout",
          "text": [
            "\n",
            "Objective =  204.0\n",
            "\n",
            "Decision Variables\n",
            "Factory 0 Locate 10 : 1.0\n",
            "Factory 1 Locate 8 : 1.0\n",
            "Factory 2 Locate 7 : 1.0\n",
            "Factory 3 Locate 5 : 1.0\n",
            "Factory 4 Locate 2 : 1.0\n",
            "Factory 5 Locate 11 : 1.0\n",
            "Factory 6 Locate 6 : 1.0\n",
            "Factory 7 Locate 3 : 1.0\n",
            "Factory 8 Locate 9 : 1.0\n",
            "Factory 9 Locate 0 : 1.0\n",
            "Factory 10 Locate 1 : 1.0\n",
            "Factory 11 Locate 4 : 1.0\n",
            "\n",
            "Constraints\n",
            "constraints : Size=24\n",
            "    Key : Lower : Body : Upper\n",
            "      1 :   1.0 :  1.0 :   1.0\n",
            "      2 :   1.0 :  1.0 :   1.0\n",
            "      3 :   1.0 :  1.0 :   1.0\n",
            "      4 :   1.0 :  1.0 :   1.0\n",
            "      5 :   1.0 :  1.0 :   1.0\n",
            "      6 :   1.0 :  1.0 :   1.0\n",
            "      7 :   1.0 :  1.0 :   1.0\n",
            "      8 :   1.0 :  1.0 :   1.0\n",
            "      9 :   1.0 :  1.0 :   1.0\n",
            "     10 :   1.0 :  1.0 :   1.0\n",
            "     11 :   1.0 :  1.0 :   1.0\n",
            "     12 :   1.0 :  1.0 :   1.0\n",
            "     13 :   1.0 :  1.0 :   1.0\n",
            "     14 :   1.0 :  1.0 :   1.0\n",
            "     15 :   1.0 :  1.0 :   1.0\n",
            "     16 :   1.0 :  1.0 :   1.0\n",
            "     17 :   1.0 :  1.0 :   1.0\n",
            "     18 :   1.0 :  1.0 :   1.0\n",
            "     19 :   1.0 :  1.0 :   1.0\n",
            "     20 :   1.0 :  1.0 :   1.0\n",
            "     21 :   1.0 :  1.0 :   1.0\n",
            "     22 :   1.0 :  1.0 :   1.0\n",
            "     23 :   1.0 :  1.0 :   1.0\n",
            "     24 :   1.0 :  1.0 :   1.0\n"
          ]
        }
      ]
    },
    {
      "cell_type": "code",
      "source": [
        "model.x.domain = NonNegativeReals"
      ],
      "metadata": {
        "id": "qcjGjVN-6pq4"
      },
      "execution_count": 41,
      "outputs": []
    },
    {
      "cell_type": "code",
      "source": [
        "result = opt_cbc.solve(model)\n",
        "print('Solver status:', result.solver.status)\n",
        "print('Solver termination condition:',result.solver.termination_condition)"
      ],
      "metadata": {
        "colab": {
          "base_uri": "https://localhost:8080/"
        },
        "id": "t1y2iOVO85EY",
        "outputId": "ce647adf-8dd6-4f4c-9e74-ac17052c62f5"
      },
      "execution_count": 42,
      "outputs": [
        {
          "output_type": "stream",
          "name": "stdout",
          "text": [
            "Solver status: ok\n",
            "Solver termination condition: optimal\n"
          ]
        }
      ]
    },
    {
      "cell_type": "markdown",
      "source": [
        "9. [R] Now change the integer variables in your model to continuous variables, and re-solve the\n",
        "problem. Report the solution (only the non-zero values of the solution)."
      ],
      "metadata": {
        "id": "OBi92eg2973G"
      }
    },
    {
      "cell_type": "markdown",
      "source": [
        "$\\text{Solution :-}$"
      ],
      "metadata": {
        "id": "fdsJPnuo99uR"
      }
    },
    {
      "cell_type": "code",
      "source": [
        "# display solution\n",
        "print('\\nObjective = ', model.objective())\n",
        "\n",
        "print('\\nDecision Variables')\n",
        "for i in row_indices:\n",
        "  for j in column_indices:\n",
        "    if model.x[i,j].value !=0:\n",
        "      print('Factory',i,'Locate',j,':', model.x[i,j].value)\n",
        "\n",
        "print('\\nConstraints')\n",
        "model.constraints.display()"
      ],
      "metadata": {
        "colab": {
          "base_uri": "https://localhost:8080/"
        },
        "id": "pSYin4NC9E7z",
        "outputId": "10d61327-8386-4a9a-db3e-7ccc942f9d28"
      },
      "execution_count": 43,
      "outputs": [
        {
          "output_type": "stream",
          "name": "stdout",
          "text": [
            "\n",
            "Objective =  204.0\n",
            "\n",
            "Decision Variables\n",
            "Factory 0 Locate 10 : 1.0\n",
            "Factory 1 Locate 8 : 1.0\n",
            "Factory 2 Locate 7 : 1.0\n",
            "Factory 3 Locate 5 : 1.0\n",
            "Factory 4 Locate 2 : 1.0\n",
            "Factory 5 Locate 11 : 1.0\n",
            "Factory 6 Locate 6 : 1.0\n",
            "Factory 7 Locate 3 : 1.0\n",
            "Factory 8 Locate 9 : 1.0\n",
            "Factory 9 Locate 0 : 1.0\n",
            "Factory 10 Locate 1 : 1.0\n",
            "Factory 11 Locate 4 : 1.0\n",
            "\n",
            "Constraints\n",
            "constraints : Size=24\n",
            "    Key : Lower : Body : Upper\n",
            "      1 :   1.0 :  1.0 :   1.0\n",
            "      2 :   1.0 :  1.0 :   1.0\n",
            "      3 :   1.0 :  1.0 :   1.0\n",
            "      4 :   1.0 :  1.0 :   1.0\n",
            "      5 :   1.0 :  1.0 :   1.0\n",
            "      6 :   1.0 :  1.0 :   1.0\n",
            "      7 :   1.0 :  1.0 :   1.0\n",
            "      8 :   1.0 :  1.0 :   1.0\n",
            "      9 :   1.0 :  1.0 :   1.0\n",
            "     10 :   1.0 :  1.0 :   1.0\n",
            "     11 :   1.0 :  1.0 :   1.0\n",
            "     12 :   1.0 :  1.0 :   1.0\n",
            "     13 :   1.0 :  1.0 :   1.0\n",
            "     14 :   1.0 :  1.0 :   1.0\n",
            "     15 :   1.0 :  1.0 :   1.0\n",
            "     16 :   1.0 :  1.0 :   1.0\n",
            "     17 :   1.0 :  1.0 :   1.0\n",
            "     18 :   1.0 :  1.0 :   1.0\n",
            "     19 :   1.0 :  1.0 :   1.0\n",
            "     20 :   1.0 :  1.0 :   1.0\n",
            "     21 :   1.0 :  1.0 :   1.0\n",
            "     22 :   1.0 :  1.0 :   1.0\n",
            "     23 :   1.0 :  1.0 :   1.0\n",
            "     24 :   1.0 :  1.0 :   1.0\n"
          ]
        }
      ]
    },
    {
      "cell_type": "markdown",
      "source": [
        "10. [R] Are the optimal costs for both problems same? Are the values of the variables still\n",
        "integer-valued? If yes, explain why."
      ],
      "metadata": {
        "id": "N1Ec7JtL-QZt"
      }
    },
    {
      "cell_type": "markdown",
      "source": [
        "$\\text{Solution :-}$ Yes,Yes , since for both ILPP and LPP there optimal solution is intersecting that's by we get same solution but this not always true. if we get integer solution in LPP than obviously we get same integer solution for ILPP,but converse is not always true. "
      ],
      "metadata": {
        "id": "V0hnsxAK-ThB"
      }
    },
    {
      "cell_type": "markdown",
      "source": [
        "12. [R] Now suppose that, due to some reason, facility 3 cannot be assigned to location 4, facility\n",
        "9 cannot be assigned to location 6 and facility 4 cannot be assigned to location 10. What\n",
        "changes in your pyomo model or in lab6 ex2.txt file will you make? Make these changes,\n",
        "and solve the integer problem and report the solution. Comment on your observations."
      ],
      "metadata": {
        "id": "jTtnQheT9e4y"
      }
    },
    {
      "cell_type": "markdown",
      "source": [
        "$\\text{Solution :- }$  because here our objective to minimize total cost so that if we don't want to locate any facility at any particular location than assign very large (appropriate large) cost value to corresponding facility and location.\n"
      ],
      "metadata": {
        "id": "avoNY_pfJVKJ"
      }
    },
    {
      "cell_type": "markdown",
      "source": [
        "Because these restricted facility and location are not considering in optimal solution that's making restriction doesn't change the optimal solution."
      ],
      "metadata": {
        "id": "7f0yGMtNSYG5"
      }
    },
    {
      "cell_type": "code",
      "source": [
        "coef[2,3]=10000\n",
        "coef[8,5]=10000\n",
        "coef[2,9]=10000"
      ],
      "metadata": {
        "id": "uoIMVzzW9Fmw"
      },
      "execution_count": 44,
      "outputs": []
    },
    {
      "cell_type": "code",
      "source": [
        "model.x.domain=Binary"
      ],
      "metadata": {
        "id": "XUvR066X-B9F"
      },
      "execution_count": 45,
      "outputs": []
    },
    {
      "cell_type": "code",
      "source": [
        "result = opt_cbc.solve(model)\n",
        "print('Solver status:', result.solver.status)\n",
        "print('Solver termination condition:',result.solver.termination_condition)"
      ],
      "metadata": {
        "colab": {
          "base_uri": "https://localhost:8080/"
        },
        "id": "qFKRqcUg97F_",
        "outputId": "33721f4b-2e8b-4024-c417-16af53b47cd1"
      },
      "execution_count": 46,
      "outputs": [
        {
          "output_type": "stream",
          "name": "stdout",
          "text": [
            "Solver status: ok\n",
            "Solver termination condition: optimal\n"
          ]
        }
      ]
    },
    {
      "cell_type": "code",
      "source": [
        "# display solution\n",
        "print('\\nObjective = ', model.objective())\n",
        "\n",
        "print('\\nDecision Variables')\n",
        "for i in row_indices:\n",
        "  for j in column_indices:\n",
        "    if model.x[i,j].value != 0:\n",
        "      print('Factory',i,'Locate',j,':', model.x[i,j].value)\n",
        "\n",
        "print('\\nConstraints')\n",
        "model.constraints.display()"
      ],
      "metadata": {
        "id": "Lws7SNMS-Ng1",
        "outputId": "190aff60-a8bd-4400-ad0b-a1daa0335af6",
        "colab": {
          "base_uri": "https://localhost:8080/"
        }
      },
      "execution_count": 47,
      "outputs": [
        {
          "output_type": "stream",
          "name": "stdout",
          "text": [
            "\n",
            "Objective =  204.0\n",
            "\n",
            "Decision Variables\n",
            "Factory 0 Locate 10 : 1.0\n",
            "Factory 1 Locate 8 : 1.0\n",
            "Factory 2 Locate 7 : 1.0\n",
            "Factory 3 Locate 5 : 1.0\n",
            "Factory 4 Locate 2 : 1.0\n",
            "Factory 5 Locate 11 : 1.0\n",
            "Factory 6 Locate 6 : 1.0\n",
            "Factory 7 Locate 3 : 1.0\n",
            "Factory 8 Locate 9 : 1.0\n",
            "Factory 9 Locate 0 : 1.0\n",
            "Factory 10 Locate 1 : 1.0\n",
            "Factory 11 Locate 4 : 1.0\n",
            "\n",
            "Constraints\n",
            "constraints : Size=24\n",
            "    Key : Lower : Body : Upper\n",
            "      1 :   1.0 :  1.0 :   1.0\n",
            "      2 :   1.0 :  1.0 :   1.0\n",
            "      3 :   1.0 :  1.0 :   1.0\n",
            "      4 :   1.0 :  1.0 :   1.0\n",
            "      5 :   1.0 :  1.0 :   1.0\n",
            "      6 :   1.0 :  1.0 :   1.0\n",
            "      7 :   1.0 :  1.0 :   1.0\n",
            "      8 :   1.0 :  1.0 :   1.0\n",
            "      9 :   1.0 :  1.0 :   1.0\n",
            "     10 :   1.0 :  1.0 :   1.0\n",
            "     11 :   1.0 :  1.0 :   1.0\n",
            "     12 :   1.0 :  1.0 :   1.0\n",
            "     13 :   1.0 :  1.0 :   1.0\n",
            "     14 :   1.0 :  1.0 :   1.0\n",
            "     15 :   1.0 :  1.0 :   1.0\n",
            "     16 :   1.0 :  1.0 :   1.0\n",
            "     17 :   1.0 :  1.0 :   1.0\n",
            "     18 :   1.0 :  1.0 :   1.0\n",
            "     19 :   1.0 :  1.0 :   1.0\n",
            "     20 :   1.0 :  1.0 :   1.0\n",
            "     21 :   1.0 :  1.0 :   1.0\n",
            "     22 :   1.0 :  1.0 :   1.0\n",
            "     23 :   1.0 :  1.0 :   1.0\n",
            "     24 :   1.0 :  1.0 :   1.0\n"
          ]
        }
      ]
    },
    {
      "cell_type": "code",
      "source": [],
      "metadata": {
        "id": "B3EsDofc-OAn"
      },
      "execution_count": 47,
      "outputs": []
    }
  ]
}
{
  "nbformat": 4,
  "nbformat_minor": 0,
  "metadata": {
    "colab": {
      "name": "22N0452_IE507_Lab3_Ex2.ipynb",
      "provenance": []
    },
    "kernelspec": {
      "name": "python3",
      "display_name": "Python 3"
    },
    "language_info": {
      "name": "python"
    }
  },
  "cells": [
    {
      "cell_type": "markdown",
      "source": [
        "$\\textbf{Questions :}$v A first example of MILP [20 marks]\n",
        "As a student in IITB, you are involved in selecting courses for completing your course requirements.\n",
        "You also want to make sure that the courses you select are interesting to you. Suppose that there\n",
        "are ten courses C0, C1, C2, . . ., C9 being offered this semester. By completing each course you\n",
        "get the following credits"
      ],
      "metadata": {
        "id": "gs8N8ZbYkJrV"
      }
    },
    {
      "cell_type": "markdown",
      "source": [
        "$\\begin{matrix}\n",
        "Course &  Credit \\\\\n",
        "C0 & 4 \\\\\n",
        "C1 & 3 \\\\\n",
        "C2 & 6 \\\\\n",
        "C3 & 5 \\\\\n",
        "C4 & 2 \\\\\n",
        "C5 & 6 \\\\\n",
        "C6 & 4 \\\\\n",
        "C7 & 8 \\\\\n",
        "C8 & 8 \\\\\n",
        "C9 & 6\n",
        "\\end{matrix}$\n"
      ],
      "metadata": {
        "id": "7u0YwRPHPWPj"
      }
    },
    {
      "cell_type": "markdown",
      "source": [
        "You must gather at least 26 credits this semester. However your course selection depends on the\n",
        "following constraints:\n",
        "\n",
        "$\\huge{\\cdot}$ You must register for at least 4 courses and can register for up to a maximum of 8 courses\n",
        "this semester.\n",
        "\n",
        "$\\huge{\\cdot}$ Courses C2 and C7 run during the same slots.\n",
        "\n",
        "$\\huge{\\cdot}$ Courses C1 and C9 run during the same slots.\n",
        "\n",
        "$\\huge{\\cdot}$ If you register for course C2 you cannot register for course C8.\n",
        "\n",
        "$\\huge{\\cdot}$ If you register for courses C9 you must register for course C4.\n",
        "\n",
        "$\\huge{\\cdot}$ Among the courses C0, C1, C2, C3, you must register for at least one course and can only\n",
        "register for at most two courses.\n",
        "\n",
        "$\\huge{\\cdot}$ Among the courses C5, C9, you can only register at most one course.\n",
        "\n",
        "$\\huge{\\cdot}$ Among the courses C6, C8, C9, you can only register for at most two courses."
      ],
      "metadata": {
        "id": "64fJOQmbNt4g"
      }
    },
    {
      "cell_type": "markdown",
      "source": [
        "$\\textbf{1.}$ Write a mathematical model so that you can maximize your credits to be accumulated\n",
        "this semester. Explain how to design the model variables and indicate which variables are\n",
        "integers. (We usually replace the notation x ∈ R by x ∈ Z to denote that variable x is\n",
        "integer)."
      ],
      "metadata": {
        "id": "vqSqIi93SP4Z"
      }
    },
    {
      "cell_type": "markdown",
      "source": [
        "$\\textbf{Solution :-} $\n",
        "\n"
      ],
      "metadata": {
        "id": "av5OVay9Scsl"
      }
    },
    {
      "cell_type": "markdown",
      "source": [
        "$\\textbf{ Mathematical Formulation :} \\\\ \n",
        " \\text{max} \\ 4x_0+3x_1+6x_2+5x_3+2x_4+6x_5+4x_6+8x_7+8x_8+6x_9 \\\\\n",
        " 4x_0+3x_1+6x_2+5x_3+2x_4+6x_5+4x_6+8x_7+8x_8+6x_9>=26 \\\\\n",
        " 4<=\\sum_{i=0}^{9}x_i<=8, \\\\\n",
        " x_2+x_7<=1, \\\\\n",
        " x_1+x_9<=1, \\\\\n",
        " 1<=\\sum_{i=0}^{3}<=2, \\\\\n",
        " x_5+x_9<=1, \\\\\n",
        " x_6+x_8+x_9<=2, \\\\ \n",
        " x_9-x_4<=0, \\\\\n",
        " x_2+x_8<=1, \\\\\n",
        " x_i \\in  \\{0,1\\} , where \\ i=0,1,2,...,9$\n"
      ],
      "metadata": {
        "id": "cMZNZtVFTMV4"
      }
    },
    {
      "cell_type": "markdown",
      "source": [
        "$\\text{Here,} x_i ( where \\ i \\in \\{0,1,...,9\\})  \\ \\text{denote we are going to taking corresponding course} \\ C_i ,i \\in \\{0,1,...,9\\} \\ \\text{or  not.}  $\n",
        "\n",
        "so, $x_i$ should be either $0$ or $1$, here $0$ denote we are not goging to taking that course and $1$ means we are goging to take that course."
      ],
      "metadata": {
        "id": "b_dcccf9CC2m"
      }
    },
    {
      "cell_type": "markdown",
      "source": [
        " $\\mathbf{2.}$ Use pyomo to construct your model."
      ],
      "metadata": {
        "id": "XVGLOi4-Syba"
      }
    },
    {
      "cell_type": "code",
      "source": [
        "!pip install -q pyomo\n",
        "from pyomo.environ import *\n",
        "import numpy as np"
      ],
      "metadata": {
        "id": "z9lo5pzUkVfR"
      },
      "execution_count": 158,
      "outputs": []
    },
    {
      "cell_type": "code",
      "source": [
        "model = ConcreteModel()"
      ],
      "metadata": {
        "id": "IPfjwPMqXa62"
      },
      "execution_count": 159,
      "outputs": []
    },
    {
      "cell_type": "code",
      "source": [
        "coef_A = np.array([[-4,-3,-6,-5,-2,-6,-4,-8,-8,-6],\n",
        "                   [-1,-1,-1,-1,-1,-1,-1,-1,-1,-1],\n",
        "                   [1,1,1,1,1,1,1,1,1,1],\n",
        "                  [1,1,1,1,0,0,0,0,0,0],\n",
        "                  [-1,-1,-1,-1,0,0,0,0,0,0],\n",
        "                  [0,0,1,0,0,0,0,1,0,0],\n",
        "                  [0,1,0,0,0,0,0,0,0,1],\n",
        "                  [0,0,0,0,0,1,0,0,0,1],\n",
        "                  [0,0,0,0,0,0,1,0,1,1],\n",
        "                  [0,0,0,0,-1,0,0,0,0,1],\n",
        "                  [0,0,1,0,0,0,0,0,1,0]])\n",
        "\n",
        "coef_rhs_b = np.array([-26,-4,8,2,-1,1,1,1,2,0,1])"
      ],
      "metadata": {
        "id": "hRxhNvQQXeUR"
      },
      "execution_count": 160,
      "outputs": []
    },
    {
      "cell_type": "code",
      "source": [
        "n = 10\n",
        "m = 11\n",
        "col_indices = np.arange(n)\n"
      ],
      "metadata": {
        "id": "aeFofE96a0ND"
      },
      "execution_count": 161,
      "outputs": []
    },
    {
      "cell_type": "code",
      "source": [
        "model.x = Var(col_indices,domain=Binary)"
      ],
      "metadata": {
        "id": "OzGvL4f8bIjs"
      },
      "execution_count": 162,
      "outputs": []
    },
    {
      "cell_type": "code",
      "source": [
        "model.constraints = ConstraintList()"
      ],
      "metadata": {
        "id": "1ZYWrr5-dWNq"
      },
      "execution_count": 163,
      "outputs": []
    },
    {
      "cell_type": "code",
      "source": [
        "for i in range(m):\n",
        "  model.constraints.add(sum(coef_A[i][j]*model.x[j] for j in col_indices)<=coef_rhs_b[i])"
      ],
      "metadata": {
        "id": "2In3zEAdcpgG"
      },
      "execution_count": 164,
      "outputs": []
    },
    {
      "cell_type": "code",
      "source": [
        "model.objective = Objective(expr = sum((-1)*coef_A[0][i]*model.x[i] for i in col_indices),sense = maximize)"
      ],
      "metadata": {
        "id": "KwKpvaAvd7jZ"
      },
      "execution_count": 165,
      "outputs": []
    },
    {
      "cell_type": "code",
      "source": [
        "model.pprint()"
      ],
      "metadata": {
        "colab": {
          "base_uri": "https://localhost:8080/"
        },
        "id": "h4iNa-J_1sCh",
        "outputId": "16eb8195-54f6-4b67-b9de-0163331958da"
      },
      "execution_count": 166,
      "outputs": [
        {
          "output_type": "stream",
          "name": "stdout",
          "text": [
            "2 Set Declarations\n",
            "    constraints_index : Size=1, Index=None, Ordered=Insertion\n",
            "        Key  : Dimen : Domain : Size : Members\n",
            "        None :     1 :    Any :   11 : {1, 2, 3, 4, 5, 6, 7, 8, 9, 10, 11}\n",
            "    x_index : Size=1, Index=None, Ordered=False\n",
            "        Key  : Dimen : Domain : Size : Members\n",
            "        None :     1 :    Any :   10 : {0, 1, 2, 3, 4, 5, 6, 7, 8, 9}\n",
            "\n",
            "1 Var Declarations\n",
            "    x : Size=10, Index=x_index\n",
            "        Key : Lower : Value : Upper : Fixed : Stale : Domain\n",
            "          0 :     0 :  None :     1 : False :  True : Binary\n",
            "          1 :     0 :  None :     1 : False :  True : Binary\n",
            "          2 :     0 :  None :     1 : False :  True : Binary\n",
            "          3 :     0 :  None :     1 : False :  True : Binary\n",
            "          4 :     0 :  None :     1 : False :  True : Binary\n",
            "          5 :     0 :  None :     1 : False :  True : Binary\n",
            "          6 :     0 :  None :     1 : False :  True : Binary\n",
            "          7 :     0 :  None :     1 : False :  True : Binary\n",
            "          8 :     0 :  None :     1 : False :  True : Binary\n",
            "          9 :     0 :  None :     1 : False :  True : Binary\n",
            "\n",
            "1 Objective Declarations\n",
            "    objective : Size=1, Index=None, Active=True\n",
            "        Key  : Active : Sense    : Expression\n",
            "        None :   True : maximize : 4*x[0] + 3*x[1] + 6*x[2] + 5*x[3] + 2*x[4] + 6*x[5] + 4*x[6] + 8*x[7] + 8*x[8] + 6*x[9]\n",
            "\n",
            "1 Constraint Declarations\n",
            "    constraints : Size=11, Index=constraints_index, Active=True\n",
            "        Key : Lower : Body                                                                                     : Upper : Active\n",
            "          1 :  -Inf : -4*x[0] - 3*x[1] - 6*x[2] - 5*x[3] - 2*x[4] - 6*x[5] - 4*x[6] - 8*x[7] - 8*x[8] - 6*x[9] : -26.0 :   True\n",
            "          2 :  -Inf :                    - x[0] - x[1] - x[2] - x[3] - x[4] - x[5] - x[6] - x[7] - x[8] - x[9] :  -4.0 :   True\n",
            "          3 :  -Inf :                      x[0] + x[1] + x[2] + x[3] + x[4] + x[5] + x[6] + x[7] + x[8] + x[9] :   8.0 :   True\n",
            "          4 :  -Inf :                                                                x[0] + x[1] + x[2] + x[3] :   2.0 :   True\n",
            "          5 :  -Inf :                                                              - x[0] - x[1] - x[2] - x[3] :  -1.0 :   True\n",
            "          6 :  -Inf :                                                                              x[2] + x[7] :   1.0 :   True\n",
            "          7 :  -Inf :                                                                              x[1] + x[9] :   1.0 :   True\n",
            "          8 :  -Inf :                                                                              x[5] + x[9] :   1.0 :   True\n",
            "          9 :  -Inf :                                                                       x[6] + x[8] + x[9] :   2.0 :   True\n",
            "         10 :  -Inf :                                                                            - x[4] + x[9] :   0.0 :   True\n",
            "         11 :  -Inf :                                                                              x[2] + x[8] :   1.0 :   True\n",
            "\n",
            "5 Declarations: x_index x constraints_index constraints objective\n"
          ]
        }
      ]
    },
    {
      "cell_type": "markdown",
      "source": [
        "$\\mathbf{3.}$ [R] Solver your MILP using cbc solver and report the optimal values of the variables and the\n",
        "objective function value.\n"
      ],
      "metadata": {
        "id": "cJiTykP4gR5X"
      }
    },
    {
      "cell_type": "markdown",
      "source": [
        "$\\textbf{Solution : -}$ "
      ],
      "metadata": {
        "id": "Ol4V4SQrgYMi"
      }
    },
    {
      "cell_type": "code",
      "source": [
        "!apt-get install -y -qq coinor-cbc"
      ],
      "metadata": {
        "id": "GJQgG4w3fakS"
      },
      "execution_count": 167,
      "outputs": []
    },
    {
      "cell_type": "code",
      "source": [
        "opt = SolverFactory('cbc')\n",
        "#.solve(model1).write()\n",
        "result = opt.solve(model)\n",
        "print(result)\n",
        "\n",
        "print('Solver status:', result.solver.status)\n",
        "print('Solver termination condition:',result.solver.termination_condition)"
      ],
      "metadata": {
        "colab": {
          "base_uri": "https://localhost:8080/"
        },
        "id": "kcS9FujeflJB",
        "outputId": "13311f9a-2387-4a46-900b-fc347d3791b7"
      },
      "execution_count": 168,
      "outputs": [
        {
          "output_type": "stream",
          "name": "stdout",
          "text": [
            "\n",
            "Problem: \n",
            "- Name: unknown\n",
            "  Lower bound: 37.0\n",
            "  Upper bound: 37.0\n",
            "  Number of objectives: 1\n",
            "  Number of constraints: 11\n",
            "  Number of variables: 10\n",
            "  Number of binary variables: 10\n",
            "  Number of integer variables: 10\n",
            "  Number of nonzeros: 10\n",
            "  Sense: maximize\n",
            "Solver: \n",
            "- Status: ok\n",
            "  User time: -1.0\n",
            "  System time: 0.0\n",
            "  Wallclock time: 0.0\n",
            "  Termination condition: optimal\n",
            "  Termination message: Model was solved to optimality (subject to tolerances), and an optimal solution is available.\n",
            "  Statistics: \n",
            "    Branch and bound: \n",
            "      Number of bounded subproblems: 0\n",
            "      Number of created subproblems: 0\n",
            "    Black box: \n",
            "      Number of iterations: 0\n",
            "  Error rc: 0\n",
            "  Time: 0.02113628387451172\n",
            "Solution: \n",
            "- number of solutions: 0\n",
            "  number of solutions displayed: 0\n",
            "\n",
            "Solver status: ok\n",
            "Solver termination condition: optimal\n"
          ]
        }
      ]
    },
    {
      "cell_type": "code",
      "source": [
        "print('\\nObjective = ', model.objective())\n",
        "\n",
        "print('\\nDecision Variables')\n",
        "for i in col_indices:\n",
        "  print('x[',i,'] = ', model.x[i].value)\n",
        "print('\\nConstraints')\n",
        "model.constraints.display()"
      ],
      "metadata": {
        "colab": {
          "base_uri": "https://localhost:8080/"
        },
        "id": "DJuUSgsufp3J",
        "outputId": "5c31e12d-9ec3-4c82-a6c2-3239ffd4d8f7"
      },
      "execution_count": 169,
      "outputs": [
        {
          "output_type": "stream",
          "name": "stdout",
          "text": [
            "\n",
            "Objective =  37.0\n",
            "\n",
            "Decision Variables\n",
            "x[ 0 ] =  1.0\n",
            "x[ 1 ] =  0.0\n",
            "x[ 2 ] =  0.0\n",
            "x[ 3 ] =  1.0\n",
            "x[ 4 ] =  1.0\n",
            "x[ 5 ] =  1.0\n",
            "x[ 6 ] =  1.0\n",
            "x[ 7 ] =  1.0\n",
            "x[ 8 ] =  1.0\n",
            "x[ 9 ] =  0.0\n",
            "\n",
            "Constraints\n",
            "constraints : Size=11\n",
            "    Key : Lower : Body  : Upper\n",
            "      1 :  None : -37.0 : -26.0\n",
            "      2 :  None :  -7.0 :  -4.0\n",
            "      3 :  None :   7.0 :   8.0\n",
            "      4 :  None :   2.0 :   2.0\n",
            "      5 :  None :  -2.0 :  -1.0\n",
            "      6 :  None :   1.0 :   1.0\n",
            "      7 :  None :   0.0 :   1.0\n",
            "      8 :  None :   1.0 :   1.0\n",
            "      9 :  None :   2.0 :   2.0\n",
            "     10 :  None :  -1.0 :   0.0\n",
            "     11 :  None :   1.0 :   1.0\n"
          ]
        }
      ]
    },
    {
      "cell_type": "markdown",
      "source": [
        "$\\mathbf{4} $. [R] Let us now compare it to a linear program. Suppose we remove the restrictions that\n",
        "the variables in the above problem are integers. Solve this modified problem and report the\n",
        "optimal values of the variables and the objective function value."
      ],
      "metadata": {
        "id": "x_IaiOTagmeJ"
      }
    },
    {
      "cell_type": "markdown",
      "source": [
        "$\\textbf{Solution :- } $\n"
      ],
      "metadata": {
        "id": "gOq7q4QfgthG"
      }
    },
    {
      "cell_type": "code",
      "source": [
        "model1 = ConcreteModel()"
      ],
      "metadata": {
        "id": "q8o9cZUaux61"
      },
      "execution_count": 170,
      "outputs": []
    },
    {
      "cell_type": "code",
      "source": [
        "model1.y = Var(col_indices,domain=NonNegativeReals)"
      ],
      "metadata": {
        "id": "v2zMCMY6yCtW"
      },
      "execution_count": 171,
      "outputs": []
    },
    {
      "cell_type": "code",
      "source": [
        "model1.constraints = ConstraintList()"
      ],
      "metadata": {
        "id": "T_mvFBhhyQhu"
      },
      "execution_count": 172,
      "outputs": []
    },
    {
      "cell_type": "code",
      "source": [
        "for i in range(m):\n",
        "  model1.constraints.add(sum(coef_A[i][j]*model1.y[j] for j in col_indices)<=coef_rhs_b[i])"
      ],
      "metadata": {
        "id": "kznoFlsDyVne"
      },
      "execution_count": 173,
      "outputs": []
    },
    {
      "cell_type": "code",
      "source": [
        "upper_bound = np.array([1,1,1,1,1,1,1,1,1,1])\n",
        "\n",
        "for i in col_indices:\n",
        "  model1.y[i].setub(upper_bound[i])"
      ],
      "metadata": {
        "id": "4fslhAQxyntd"
      },
      "execution_count": 174,
      "outputs": []
    },
    {
      "cell_type": "code",
      "source": [
        "model1.objective = Objective(expr = sum((-1)*coef_A[0][i]*model1.y[i] for i in col_indices),sense = maximize)"
      ],
      "metadata": {
        "id": "49hsUUmfzVoC"
      },
      "execution_count": 175,
      "outputs": []
    },
    {
      "cell_type": "code",
      "source": [
        "model1.pprint()"
      ],
      "metadata": {
        "colab": {
          "base_uri": "https://localhost:8080/"
        },
        "id": "d-UzfTg9019I",
        "outputId": "0583cf91-8951-4603-fae8-d7ad754e6d50"
      },
      "execution_count": 176,
      "outputs": [
        {
          "output_type": "stream",
          "name": "stdout",
          "text": [
            "2 Set Declarations\n",
            "    constraints_index : Size=1, Index=None, Ordered=Insertion\n",
            "        Key  : Dimen : Domain : Size : Members\n",
            "        None :     1 :    Any :   11 : {1, 2, 3, 4, 5, 6, 7, 8, 9, 10, 11}\n",
            "    y_index : Size=1, Index=None, Ordered=False\n",
            "        Key  : Dimen : Domain : Size : Members\n",
            "        None :     1 :    Any :   10 : {0, 1, 2, 3, 4, 5, 6, 7, 8, 9}\n",
            "\n",
            "1 Var Declarations\n",
            "    y : Size=10, Index=y_index\n",
            "        Key : Lower : Value : Upper : Fixed : Stale : Domain\n",
            "          0 :     0 :  None :     1 : False :  True : NonNegativeReals\n",
            "          1 :     0 :  None :     1 : False :  True : NonNegativeReals\n",
            "          2 :     0 :  None :     1 : False :  True : NonNegativeReals\n",
            "          3 :     0 :  None :     1 : False :  True : NonNegativeReals\n",
            "          4 :     0 :  None :     1 : False :  True : NonNegativeReals\n",
            "          5 :     0 :  None :     1 : False :  True : NonNegativeReals\n",
            "          6 :     0 :  None :     1 : False :  True : NonNegativeReals\n",
            "          7 :     0 :  None :     1 : False :  True : NonNegativeReals\n",
            "          8 :     0 :  None :     1 : False :  True : NonNegativeReals\n",
            "          9 :     0 :  None :     1 : False :  True : NonNegativeReals\n",
            "\n",
            "1 Objective Declarations\n",
            "    objective : Size=1, Index=None, Active=True\n",
            "        Key  : Active : Sense    : Expression\n",
            "        None :   True : maximize : 4*y[0] + 3*y[1] + 6*y[2] + 5*y[3] + 2*y[4] + 6*y[5] + 4*y[6] + 8*y[7] + 8*y[8] + 6*y[9]\n",
            "\n",
            "1 Constraint Declarations\n",
            "    constraints : Size=11, Index=constraints_index, Active=True\n",
            "        Key : Lower : Body                                                                                     : Upper : Active\n",
            "          1 :  -Inf : -4*y[0] - 3*y[1] - 6*y[2] - 5*y[3] - 2*y[4] - 6*y[5] - 4*y[6] - 8*y[7] - 8*y[8] - 6*y[9] : -26.0 :   True\n",
            "          2 :  -Inf :                    - y[0] - y[1] - y[2] - y[3] - y[4] - y[5] - y[6] - y[7] - y[8] - y[9] :  -4.0 :   True\n",
            "          3 :  -Inf :                      y[0] + y[1] + y[2] + y[3] + y[4] + y[5] + y[6] + y[7] + y[8] + y[9] :   8.0 :   True\n",
            "          4 :  -Inf :                                                                y[0] + y[1] + y[2] + y[3] :   2.0 :   True\n",
            "          5 :  -Inf :                                                              - y[0] - y[1] - y[2] - y[3] :  -1.0 :   True\n",
            "          6 :  -Inf :                                                                              y[2] + y[7] :   1.0 :   True\n",
            "          7 :  -Inf :                                                                              y[1] + y[9] :   1.0 :   True\n",
            "          8 :  -Inf :                                                                              y[5] + y[9] :   1.0 :   True\n",
            "          9 :  -Inf :                                                                       y[6] + y[8] + y[9] :   2.0 :   True\n",
            "         10 :  -Inf :                                                                            - y[4] + y[9] :   0.0 :   True\n",
            "         11 :  -Inf :                                                                              y[2] + y[8] :   1.0 :   True\n",
            "\n",
            "5 Declarations: y_index y constraints_index constraints objective\n"
          ]
        }
      ]
    },
    {
      "cell_type": "code",
      "source": [
        "result1 = opt.solve(model1)\n",
        "print(result1)\n",
        "\n",
        "print('Solver status:', result1.solver.status)\n",
        "print('Solver termination condition:',result1.solver.termination_condition)"
      ],
      "metadata": {
        "colab": {
          "base_uri": "https://localhost:8080/"
        },
        "id": "XtOgMXjnzphO",
        "outputId": "1b9a35fd-e661-4cfa-a112-5d29acfb7540"
      },
      "execution_count": 177,
      "outputs": [
        {
          "output_type": "stream",
          "name": "stdout",
          "text": [
            "\n",
            "Problem: \n",
            "- Name: unknown\n",
            "  Lower bound: 37.0\n",
            "  Upper bound: 37.0\n",
            "  Number of objectives: 1\n",
            "  Number of constraints: 12\n",
            "  Number of variables: 11\n",
            "  Number of nonzeros: 10\n",
            "  Sense: maximize\n",
            "Solver: \n",
            "- Status: ok\n",
            "  User time: -1.0\n",
            "  System time: 0.0\n",
            "  Wallclock time: 0.0\n",
            "  Termination condition: optimal\n",
            "  Termination message: Model was solved to optimality (subject to tolerances), and an optimal solution is available.\n",
            "  Statistics: \n",
            "    Branch and bound: \n",
            "      Number of bounded subproblems: None\n",
            "      Number of created subproblems: None\n",
            "    Black box: \n",
            "      Number of iterations: 4\n",
            "  Error rc: 0\n",
            "  Time: 0.024727582931518555\n",
            "Solution: \n",
            "- number of solutions: 0\n",
            "  number of solutions displayed: 0\n",
            "\n",
            "Solver status: ok\n",
            "Solver termination condition: optimal\n"
          ]
        }
      ]
    },
    {
      "cell_type": "code",
      "source": [
        "print('\\nObjective = ', model1.objective())\n",
        "\n",
        "print('\\nDecision Variables')\n",
        "for i in col_indices:\n",
        "  print('y[',i,'] = ', model1.y[i].value)\n",
        "print('\\nConstraints')\n",
        "model1.constraints.display()"
      ],
      "metadata": {
        "colab": {
          "base_uri": "https://localhost:8080/"
        },
        "id": "OX74LjPN0MRt",
        "outputId": "1baa1a4b-1257-4a08-988a-1137932c3de6"
      },
      "execution_count": 178,
      "outputs": [
        {
          "output_type": "stream",
          "name": "stdout",
          "text": [
            "\n",
            "Objective =  37.0\n",
            "\n",
            "Decision Variables\n",
            "y[ 0 ] =  1.0\n",
            "y[ 1 ] =  0.0\n",
            "y[ 2 ] =  0.0\n",
            "y[ 3 ] =  1.0\n",
            "y[ 4 ] =  1.0\n",
            "y[ 5 ] =  1.0\n",
            "y[ 6 ] =  1.0\n",
            "y[ 7 ] =  1.0\n",
            "y[ 8 ] =  1.0\n",
            "y[ 9 ] =  0.0\n",
            "\n",
            "Constraints\n",
            "constraints : Size=11\n",
            "    Key : Lower : Body  : Upper\n",
            "      1 :  None : -37.0 : -26.0\n",
            "      2 :  None :  -7.0 :  -4.0\n",
            "      3 :  None :   7.0 :   8.0\n",
            "      4 :  None :   2.0 :   2.0\n",
            "      5 :  None :  -2.0 :  -1.0\n",
            "      6 :  None :   1.0 :   1.0\n",
            "      7 :  None :   0.0 :   1.0\n",
            "      8 :  None :   1.0 :   1.0\n",
            "      9 :  None :   2.0 :   2.0\n",
            "     10 :  None :  -1.0 :   0.0\n",
            "     11 :  None :   1.0 :   1.0\n"
          ]
        }
      ]
    },
    {
      "cell_type": "markdown",
      "source": [
        "$\\mathbf{5.}$ Can the solution of the MILP be obtained by merely rounding the solution of the LP?\n",
        "Why or why not?\n"
      ],
      "metadata": {
        "id": "8cf8I1-phtkX"
      }
    },
    {
      "cell_type": "markdown",
      "source": [
        "$\\textbf{Solution :-}$"
      ],
      "metadata": {
        "id": "qxbu0RzJh9PK"
      }
    },
    {
      "cell_type": "markdown",
      "source": [
        "it is very rare to get solution of the MILP be obtained by rounding the solution of the Lp ,some time if you going to rounding the solution of Lp you may find that the new generating solution is not satisfying your constraints. even some time it may be satisfy but you may find this is not optimal solution. so rounding the solution of lp to get solution of MILP is not a way to finding solution of MILP"
      ],
      "metadata": {
        "id": "wno6THaXLlhz"
      }
    },
    {
      "cell_type": "markdown",
      "source": [
        "$\\mathbf{6.}$ Suppose a new course C10 with 12 credits is introduced, but the course timing for C10\n",
        "overlaps with the course timings of C5, C6, how will you change your model to include this\n",
        "new constraint?"
      ],
      "metadata": {
        "id": "nEim1mFEiGWm"
      }
    },
    {
      "cell_type": "markdown",
      "source": [
        "$\\textbf{Solution :-}$"
      ],
      "metadata": {
        "id": "XDlWhD-zHWns"
      }
    },
    {
      "cell_type": "markdown",
      "source": [
        "because adding new course i need 1 extra variable \n",
        "let's take x10 which denote we are goging to take course c10 or not \n",
        "and we need to add extra constraint to our above lpp which is \n",
        "\n",
        "\n",
        "$x_{10} +x_5 <=1 ,\\\\\n",
        "x_{10}+x_6<=1$\n",
        "\n",
        "and also need to add $12x_{10} $ in our objective function."
      ],
      "metadata": {
        "id": "J65qVd9CGHvv"
      }
    },
    {
      "cell_type": "markdown",
      "source": [
        " $\\mathbf{7.}$ Solve the modified MILP and report the optimal values of the variables and objective\n",
        "function value.\n"
      ],
      "metadata": {
        "id": "_NB4ElaxGFuA"
      }
    },
    {
      "cell_type": "markdown",
      "source": [
        "$\\textbf{Solution :-}$"
      ],
      "metadata": {
        "id": "U7m9Zdi_iW7p"
      }
    },
    {
      "cell_type": "code",
      "source": [
        "model.objective.deactivate()"
      ],
      "metadata": {
        "id": "UzYSXg3Lfzbm"
      },
      "execution_count": 179,
      "outputs": []
    },
    {
      "cell_type": "code",
      "source": [
        "model.x10=Var(domain=Binary)"
      ],
      "metadata": {
        "id": "Ui8V0b95kFYP"
      },
      "execution_count": 180,
      "outputs": []
    },
    {
      "cell_type": "code",
      "source": [
        "model.new_objective = Objective(expr = sum((-1)*coef_A[0][i]*model.x[i] for i in col_indices)+12*model.x10,sense=maximize)"
      ],
      "metadata": {
        "id": "1NTEQApBjppy"
      },
      "execution_count": 181,
      "outputs": []
    },
    {
      "cell_type": "code",
      "source": [
        "model.constraints.add(model.x10+model.x[5]<=1)\n",
        "model.constraints.add(model.x10+model.x[6]<=1)"
      ],
      "metadata": {
        "colab": {
          "base_uri": "https://localhost:8080/"
        },
        "id": "qmZKGZvMkrri",
        "outputId": "081c932b-7cc7-4183-afb9-e2d492d5cf72"
      },
      "execution_count": 182,
      "outputs": [
        {
          "output_type": "execute_result",
          "data": {
            "text/plain": [
              "<pyomo.core.base.constraint._GeneralConstraintData at 0x7fbfe51ea9f0>"
            ]
          },
          "metadata": {},
          "execution_count": 182
        }
      ]
    },
    {
      "cell_type": "code",
      "source": [
        "model.pprint()"
      ],
      "metadata": {
        "colab": {
          "base_uri": "https://localhost:8080/"
        },
        "id": "vdJsQdv6mE4A",
        "outputId": "fccc456b-bfdb-4f72-b1f0-6af2c08b4075"
      },
      "execution_count": 183,
      "outputs": [
        {
          "output_type": "stream",
          "name": "stdout",
          "text": [
            "2 Set Declarations\n",
            "    constraints_index : Size=1, Index=None, Ordered=Insertion\n",
            "        Key  : Dimen : Domain : Size : Members\n",
            "        None :     1 :    Any :   13 : {1, 2, 3, 4, 5, 6, 7, 8, 9, 10, 11, 12, 13}\n",
            "    x_index : Size=1, Index=None, Ordered=False\n",
            "        Key  : Dimen : Domain : Size : Members\n",
            "        None :     1 :    Any :   10 : {0, 1, 2, 3, 4, 5, 6, 7, 8, 9}\n",
            "\n",
            "2 Var Declarations\n",
            "    x : Size=10, Index=x_index\n",
            "        Key : Lower : Value : Upper : Fixed : Stale : Domain\n",
            "          0 :     0 :   1.0 :     1 : False :  True : Binary\n",
            "          1 :     0 :   0.0 :     1 : False :  True : Binary\n",
            "          2 :     0 :   0.0 :     1 : False :  True : Binary\n",
            "          3 :     0 :   1.0 :     1 : False :  True : Binary\n",
            "          4 :     0 :   1.0 :     1 : False :  True : Binary\n",
            "          5 :     0 :   1.0 :     1 : False :  True : Binary\n",
            "          6 :     0 :   1.0 :     1 : False :  True : Binary\n",
            "          7 :     0 :   1.0 :     1 : False :  True : Binary\n",
            "          8 :     0 :   1.0 :     1 : False :  True : Binary\n",
            "          9 :     0 :   0.0 :     1 : False :  True : Binary\n",
            "    x10 : Size=1, Index=None\n",
            "        Key  : Lower : Value : Upper : Fixed : Stale : Domain\n",
            "        None :     0 :  None :     1 : False :  True : Binary\n",
            "\n",
            "2 Objective Declarations\n",
            "    new_objective : Size=1, Index=None, Active=True\n",
            "        Key  : Active : Sense    : Expression\n",
            "        None :   True : maximize : 4*x[0] + 3*x[1] + 6*x[2] + 5*x[3] + 2*x[4] + 6*x[5] + 4*x[6] + 8*x[7] + 8*x[8] + 6*x[9] + 12*x10\n",
            "    objective : Size=1, Index=None, Active=False\n",
            "        Key  : Active : Sense    : Expression\n",
            "        None :  False : maximize : 4*x[0] + 3*x[1] + 6*x[2] + 5*x[3] + 2*x[4] + 6*x[5] + 4*x[6] + 8*x[7] + 8*x[8] + 6*x[9]\n",
            "\n",
            "1 Constraint Declarations\n",
            "    constraints : Size=13, Index=constraints_index, Active=True\n",
            "        Key : Lower : Body                                                                                     : Upper : Active\n",
            "          1 :  -Inf : -4*x[0] - 3*x[1] - 6*x[2] - 5*x[3] - 2*x[4] - 6*x[5] - 4*x[6] - 8*x[7] - 8*x[8] - 6*x[9] : -26.0 :   True\n",
            "          2 :  -Inf :                    - x[0] - x[1] - x[2] - x[3] - x[4] - x[5] - x[6] - x[7] - x[8] - x[9] :  -4.0 :   True\n",
            "          3 :  -Inf :                      x[0] + x[1] + x[2] + x[3] + x[4] + x[5] + x[6] + x[7] + x[8] + x[9] :   8.0 :   True\n",
            "          4 :  -Inf :                                                                x[0] + x[1] + x[2] + x[3] :   2.0 :   True\n",
            "          5 :  -Inf :                                                              - x[0] - x[1] - x[2] - x[3] :  -1.0 :   True\n",
            "          6 :  -Inf :                                                                              x[2] + x[7] :   1.0 :   True\n",
            "          7 :  -Inf :                                                                              x[1] + x[9] :   1.0 :   True\n",
            "          8 :  -Inf :                                                                              x[5] + x[9] :   1.0 :   True\n",
            "          9 :  -Inf :                                                                       x[6] + x[8] + x[9] :   2.0 :   True\n",
            "         10 :  -Inf :                                                                            - x[4] + x[9] :   0.0 :   True\n",
            "         11 :  -Inf :                                                                              x[2] + x[8] :   1.0 :   True\n",
            "         12 :  -Inf :                                                                               x10 + x[5] :   1.0 :   True\n",
            "         13 :  -Inf :                                                                               x10 + x[6] :   1.0 :   True\n",
            "\n",
            "7 Declarations: x_index x constraints_index constraints objective x10 new_objective\n"
          ]
        }
      ]
    },
    {
      "cell_type": "code",
      "source": [
        "result2 = opt.solve(model)\n",
        "print(result2)\n",
        "\n",
        "print('Solver status:', result2.solver.status)\n",
        "print('Solver termination condition:',result2.solver.termination_condition)"
      ],
      "metadata": {
        "colab": {
          "base_uri": "https://localhost:8080/"
        },
        "id": "tDE33ccblJ01",
        "outputId": "d979f4eb-844c-41b6-9be0-5a72e09d68af"
      },
      "execution_count": 185,
      "outputs": [
        {
          "output_type": "stream",
          "name": "stdout",
          "text": [
            "\n",
            "Problem: \n",
            "- Name: unknown\n",
            "  Lower bound: 45.0\n",
            "  Upper bound: 45.0\n",
            "  Number of objectives: 1\n",
            "  Number of constraints: 13\n",
            "  Number of variables: 11\n",
            "  Number of binary variables: 11\n",
            "  Number of integer variables: 11\n",
            "  Number of nonzeros: 11\n",
            "  Sense: maximize\n",
            "Solver: \n",
            "- Status: ok\n",
            "  User time: -1.0\n",
            "  System time: 0.0\n",
            "  Wallclock time: 0.0\n",
            "  Termination condition: optimal\n",
            "  Termination message: Model was solved to optimality (subject to tolerances), and an optimal solution is available.\n",
            "  Statistics: \n",
            "    Branch and bound: \n",
            "      Number of bounded subproblems: 0\n",
            "      Number of created subproblems: 0\n",
            "    Black box: \n",
            "      Number of iterations: 0\n",
            "  Error rc: 0\n",
            "  Time: 0.020402193069458008\n",
            "Solution: \n",
            "- number of solutions: 0\n",
            "  number of solutions displayed: 0\n",
            "\n",
            "Solver status: ok\n",
            "Solver termination condition: optimal\n"
          ]
        }
      ]
    },
    {
      "cell_type": "code",
      "source": [
        "print('\\nObjective = ', model.new_objective())\n",
        "\n",
        "print('\\nDecision Variables')\n",
        "for i in col_indices:\n",
        "  print('x[',i,'] = ', model.x[i].value)\n",
        "print('x[ 10 ] = ',model.x10.value)\n",
        "print('\\nConstraints')\n",
        "model.constraints.display()"
      ],
      "metadata": {
        "colab": {
          "base_uri": "https://localhost:8080/"
        },
        "id": "w_oe10EilOOm",
        "outputId": "0d03239e-f0ff-4c17-fc94-372c45779cf7"
      },
      "execution_count": 187,
      "outputs": [
        {
          "output_type": "stream",
          "name": "stdout",
          "text": [
            "\n",
            "Objective =  45.0\n",
            "\n",
            "Decision Variables\n",
            "x[ 0 ] =  1.0\n",
            "x[ 1 ] =  0.0\n",
            "x[ 2 ] =  0.0\n",
            "x[ 3 ] =  1.0\n",
            "x[ 4 ] =  1.0\n",
            "x[ 5 ] =  0.0\n",
            "x[ 6 ] =  0.0\n",
            "x[ 7 ] =  1.0\n",
            "x[ 8 ] =  1.0\n",
            "x[ 9 ] =  1.0\n",
            "x[ 10 ] =  1.0\n",
            "\n",
            "Constraints\n",
            "constraints : Size=13\n",
            "    Key : Lower : Body  : Upper\n",
            "      1 :  None : -33.0 : -26.0\n",
            "      2 :  None :  -6.0 :  -4.0\n",
            "      3 :  None :   6.0 :   8.0\n",
            "      4 :  None :   2.0 :   2.0\n",
            "      5 :  None :  -2.0 :  -1.0\n",
            "      6 :  None :   1.0 :   1.0\n",
            "      7 :  None :   1.0 :   1.0\n",
            "      8 :  None :   1.0 :   1.0\n",
            "      9 :  None :   2.0 :   2.0\n",
            "     10 :  None :   0.0 :   0.0\n",
            "     11 :  None :   1.0 :   1.0\n",
            "     12 :  None :   1.0 :   1.0\n",
            "     13 :  None :   1.0 :   1.0\n"
          ]
        }
      ]
    },
    {
      "cell_type": "markdown",
      "source": [
        "$\\mathbf{8.}$ [R] Solve the modified MILP by removing the integer constraints on the variables and check\n",
        "if the solution of the modified MILP can be obtained by merely rounding the solution of the\n",
        "corresponding modified LP? Explain.\n"
      ],
      "metadata": {
        "id": "ZFn9gOkdFrpC"
      }
    },
    {
      "cell_type": "code",
      "source": [
        "model2 = ConcreteModel()"
      ],
      "metadata": {
        "id": "_myzr6QOF0zv"
      },
      "execution_count": 188,
      "outputs": []
    },
    {
      "cell_type": "code",
      "source": [
        "model2.y = Var(col_indices,domain=NonNegativeReals)\n",
        "model2.y10=Var(domain=NonNegativeReals)"
      ],
      "metadata": {
        "id": "Qw08gLJ5H6wD"
      },
      "execution_count": 189,
      "outputs": []
    },
    {
      "cell_type": "code",
      "source": [
        "model2.constraints = ConstraintList()"
      ],
      "metadata": {
        "id": "gMI8KzJEIAkd"
      },
      "execution_count": 190,
      "outputs": []
    },
    {
      "cell_type": "code",
      "source": [
        "for i in range(m):\n",
        "  model2.constraints.add(sum(coef_A[i][j]*model2.y[j] for j in col_indices)<=coef_rhs_b[i])\n",
        "\n",
        "model2.constraints.add(model2.y10+model2.y[5]<=1)\n",
        "model2.constraints.add(model2.y10+model2.y[6]<=1)"
      ],
      "metadata": {
        "colab": {
          "base_uri": "https://localhost:8080/"
        },
        "id": "TVZNJ46iIEr_",
        "outputId": "abcc9f74-598e-46cd-de4b-0c503eaf06ce"
      },
      "execution_count": 192,
      "outputs": [
        {
          "output_type": "execute_result",
          "data": {
            "text/plain": [
              "<pyomo.core.base.constraint._GeneralConstraintData at 0x7fbfe51ea1a0>"
            ]
          },
          "metadata": {},
          "execution_count": 192
        }
      ]
    },
    {
      "cell_type": "code",
      "source": [
        "upper_bound = np.array([1,1,1,1,1,1,1,1,1,1])\n",
        "\n",
        "for i in col_indices:\n",
        "  model2.y[i].setub(upper_bound[i])\n",
        "model2.y10.setub(1)"
      ],
      "metadata": {
        "id": "QVu1_yL9IKMT"
      },
      "execution_count": 194,
      "outputs": []
    },
    {
      "cell_type": "code",
      "source": [
        "model2.objective = Objective(expr = 12*model2.y10+sum((-1)*coef_A[0][i]*model2.y[i] for i in col_indices),sense = maximize)"
      ],
      "metadata": {
        "id": "JYZE-3PWITnc"
      },
      "execution_count": 195,
      "outputs": []
    },
    {
      "cell_type": "code",
      "source": [
        "result1 = opt.solve(model2)\n",
        "print(result1)\n",
        "\n",
        "print('Solver status:', result1.solver.status)\n",
        "print('Solver termination condition:',result1.solver.termination_condition)"
      ],
      "metadata": {
        "colab": {
          "base_uri": "https://localhost:8080/"
        },
        "id": "4N2HVnKlIUzg",
        "outputId": "de9909ba-1ea2-4371-83c8-114f295df9fc"
      },
      "execution_count": 196,
      "outputs": [
        {
          "output_type": "stream",
          "name": "stdout",
          "text": [
            "\n",
            "Problem: \n",
            "- Name: unknown\n",
            "  Lower bound: 45.0\n",
            "  Upper bound: 45.0\n",
            "  Number of objectives: 1\n",
            "  Number of constraints: 25\n",
            "  Number of variables: 12\n",
            "  Number of nonzeros: 11\n",
            "  Sense: maximize\n",
            "Solver: \n",
            "- Status: ok\n",
            "  User time: -1.0\n",
            "  System time: 0.0\n",
            "  Wallclock time: 0.0\n",
            "  Termination condition: optimal\n",
            "  Termination message: Model was solved to optimality (subject to tolerances), and an optimal solution is available.\n",
            "  Statistics: \n",
            "    Branch and bound: \n",
            "      Number of bounded subproblems: None\n",
            "      Number of created subproblems: None\n",
            "    Black box: \n",
            "      Number of iterations: 6\n",
            "  Error rc: 0\n",
            "  Time: 0.02195906639099121\n",
            "Solution: \n",
            "- number of solutions: 0\n",
            "  number of solutions displayed: 0\n",
            "\n",
            "Solver status: ok\n",
            "Solver termination condition: optimal\n"
          ]
        }
      ]
    },
    {
      "cell_type": "code",
      "source": [
        "print('\\nObjective = ', model2.objective())\n",
        "\n",
        "print('\\nDecision Variables')\n",
        "for i in col_indices:\n",
        "  print('y[',i,'] = ', model2.y[i].value)\n",
        "print('\\nConstraints')\n",
        "model1.constraints.display()"
      ],
      "metadata": {
        "colab": {
          "base_uri": "https://localhost:8080/"
        },
        "id": "sp2bd-xYIdFM",
        "outputId": "829face3-ab36-43d3-8f6a-566276fc2084"
      },
      "execution_count": 197,
      "outputs": [
        {
          "output_type": "stream",
          "name": "stdout",
          "text": [
            "\n",
            "Objective =  45.0\n",
            "\n",
            "Decision Variables\n",
            "y[ 0 ] =  1.0\n",
            "y[ 1 ] =  0.0\n",
            "y[ 2 ] =  0.0\n",
            "y[ 3 ] =  1.0\n",
            "y[ 4 ] =  1.0\n",
            "y[ 5 ] =  0.0\n",
            "y[ 6 ] =  0.0\n",
            "y[ 7 ] =  1.0\n",
            "y[ 8 ] =  1.0\n",
            "y[ 9 ] =  1.0\n",
            "\n",
            "Constraints\n",
            "constraints : Size=11\n",
            "    Key : Lower : Body  : Upper\n",
            "      1 :  None : -37.0 : -26.0\n",
            "      2 :  None :  -7.0 :  -4.0\n",
            "      3 :  None :   7.0 :   8.0\n",
            "      4 :  None :   2.0 :   2.0\n",
            "      5 :  None :  -2.0 :  -1.0\n",
            "      6 :  None :   1.0 :   1.0\n",
            "      7 :  None :   0.0 :   1.0\n",
            "      8 :  None :   1.0 :   1.0\n",
            "      9 :  None :   2.0 :   2.0\n",
            "     10 :  None :  -1.0 :   0.0\n",
            "     11 :  None :   1.0 :   1.0\n"
          ]
        }
      ]
    },
    {
      "cell_type": "markdown",
      "source": [
        "here i get same solution as when i solve for Ipp and all the variable are already integer so no need to rounding . so we can say here that without using binary bound we got same answer. but this is rare most of the time we not get same answer even after rounding the lpp optimal variable."
      ],
      "metadata": {
        "id": "tV9erLnfKUdV"
      }
    },
    {
      "cell_type": "code",
      "source": [
        ""
      ],
      "metadata": {
        "id": "skkLYCUtLLPj"
      },
      "execution_count": null,
      "outputs": []
    }
  ]
}
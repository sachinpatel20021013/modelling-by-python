{
  "nbformat": 4,
  "nbformat_minor": 0,
  "metadata": {
    "colab": {
      "name": "22N0452_IE507_Lab3_Ex1.ipynb",
      "provenance": []
    },
    "kernelspec": {
      "name": "python3",
      "display_name": "Python 3"
    },
    "language_info": {
      "name": "python"
    }
  },
  "cells": [
    {
      "cell_type": "markdown",
      "source": [
        "$\\textbf{Questions :} \\ \\text{min} \\ \\  2x_1 − 2x_2 + 2x_3 \\\\\n",
        "\\text{s.t.} \\ \\ \\ x_1 ≥ 2, x_2 ≥ 1, x_3 ≥ 1, \\\\\n",
        "\\ \\ \\ \\ \\ \\ \\ 2x_1 − x_2 + 2x_3 ≤ 6, \\\\\n",
        "\\ \\ \\ \\ \\ \\ \\ x_1 − 4x_2 + 2x_3 ≤ −15, \\\\\n",
        "\\ \\ \\ \\ \\ \\ −2x_1 + 2x_2 + x_3 ≤ −8 $"
      ],
      "metadata": {
        "id": "3J3vOAGoLBDg"
      }
    },
    {
      "cell_type": "markdown",
      "source": [
        "$\\mathbf{1.} \\ $  Solve the problem (OP) using cbc solver and glpk solver. Check the solver status and\n",
        "solver termination criterion for both solvers. Are they meaningful? Explain possible reasons\n",
        "for the solver status and solver termination criterion message."
      ],
      "metadata": {
        "id": "HqN9VPf1L-iq"
      }
    },
    {
      "cell_type": "markdown",
      "source": [
        "$\\textbf{Solution :-}$"
      ],
      "metadata": {
        "id": "f6zQbytpMPhg"
      }
    },
    {
      "cell_type": "code",
      "execution_count": null,
      "metadata": {
        "id": "nd9Pxm85KLBS"
      },
      "outputs": [],
      "source": [
        "!pip install -q pyomo"
      ]
    },
    {
      "cell_type": "code",
      "source": [
        "from pyomo.environ import *"
      ],
      "metadata": {
        "id": "qv9mDBBIKSl3"
      },
      "execution_count": null,
      "outputs": []
    },
    {
      "cell_type": "code",
      "source": [
        "import numpy as np"
      ],
      "metadata": {
        "id": "hUjDcWpTKVTM"
      },
      "execution_count": null,
      "outputs": []
    },
    {
      "cell_type": "code",
      "source": [
        "model = ConcreteModel()"
      ],
      "metadata": {
        "id": "ibVXGokiKeHA"
      },
      "execution_count": null,
      "outputs": []
    },
    {
      "cell_type": "code",
      "source": [
        "obj_coef = np.array([2,-2,2])\n",
        "\n",
        "const_coef = np.array([[2,-1,2],\n",
        "                      [1,-4,2],\n",
        "                      [-2,2,1]])\n",
        "\n",
        "const_coef_bound = np.array([[1,0,0],\n",
        "                            [0,1,0],\n",
        "                            [0,0,1]])\n",
        "\n",
        "const_rhs_value = np.array([6,-15,-8])\n",
        "\n",
        "const_bound_rhs_value = np.array([2,1,1])"
      ],
      "metadata": {
        "id": "5b6JA10wMwxr"
      },
      "execution_count": null,
      "outputs": []
    },
    {
      "cell_type": "code",
      "source": [
        "n = 3\n",
        "\n",
        "col_indices = np.arange(n)"
      ],
      "metadata": {
        "id": "Dj-d75IuPj4_"
      },
      "execution_count": null,
      "outputs": []
    },
    {
      "cell_type": "code",
      "source": [
        "model.x = Var(col_indices)\n",
        "model.constraints = ConstraintList()"
      ],
      "metadata": {
        "id": "KU-L1M5sQBKB"
      },
      "execution_count": null,
      "outputs": []
    },
    {
      "cell_type": "code",
      "source": [
        "for i in col_indices:\n",
        "  model.constraints.add(sum(const_coef[i][j]*model.x[j] for j in col_indices)<= const_rhs_value[i] )\n",
        "\n",
        "for i in col_indices:\n",
        "  model.constraints.add(sum(const_coef_bound[i][j]*model.x[j] for j in col_indices)>=const_bound_rhs_value[i])"
      ],
      "metadata": {
        "id": "feVhfGYIQdsc"
      },
      "execution_count": null,
      "outputs": []
    },
    {
      "cell_type": "code",
      "source": [
        "model.objective = Objective(expr = summation(obj_coef,model.x),sense=minimize)"
      ],
      "metadata": {
        "id": "ZfV5y4ZmSP2J"
      },
      "execution_count": null,
      "outputs": []
    },
    {
      "cell_type": "code",
      "source": [
        "model.pprint()"
      ],
      "metadata": {
        "colab": {
          "base_uri": "https://localhost:8080/"
        },
        "id": "eHVGlwCaSqOb",
        "outputId": "a82ccf21-e88d-4e32-a2a1-15da12f416be"
      },
      "execution_count": null,
      "outputs": [
        {
          "output_type": "stream",
          "name": "stdout",
          "text": [
            "2 Set Declarations\n",
            "    constraints_index : Size=1, Index=None, Ordered=Insertion\n",
            "        Key  : Dimen : Domain : Size : Members\n",
            "        None :     1 :    Any :    6 : {1, 2, 3, 4, 5, 6}\n",
            "    x_index : Size=1, Index=None, Ordered=False\n",
            "        Key  : Dimen : Domain : Size : Members\n",
            "        None :     1 :    Any :    3 : {0, 1, 2}\n",
            "\n",
            "1 Var Declarations\n",
            "    x : Size=3, Index=x_index\n",
            "        Key : Lower : Value : Upper : Fixed : Stale : Domain\n",
            "          0 :  None :  None :  None : False :  True :  Reals\n",
            "          1 :  None :  None :  None : False :  True :  Reals\n",
            "          2 :  None :  None :  None : False :  True :  Reals\n",
            "\n",
            "1 Objective Declarations\n",
            "    objective : Size=1, Index=None, Active=True\n",
            "        Key  : Active : Sense    : Expression\n",
            "        None :   True : minimize : 2*x[0] - 2*x[1] + 2*x[2]\n",
            "\n",
            "1 Constraint Declarations\n",
            "    constraints : Size=6, Index=constraints_index, Active=True\n",
            "        Key : Lower : Body                    : Upper : Active\n",
            "          1 :  -Inf :  2*x[0] - x[1] + 2*x[2] :   6.0 :   True\n",
            "          2 :  -Inf :  x[0] - 4*x[1] + 2*x[2] : -15.0 :   True\n",
            "          3 :  -Inf : -2*x[0] + 2*x[1] + x[2] :  -8.0 :   True\n",
            "          4 :   2.0 :                    x[0] :  +Inf :   True\n",
            "          5 :   1.0 :                    x[1] :  +Inf :   True\n",
            "          6 :   1.0 :                    x[2] :  +Inf :   True\n",
            "\n",
            "5 Declarations: x_index x constraints_index constraints objective\n"
          ]
        }
      ]
    },
    {
      "cell_type": "code",
      "source": [
        "!apt-get install -y -qq glpk-utils"
      ],
      "metadata": {
        "id": "QsEoibgxS-R0"
      },
      "execution_count": null,
      "outputs": []
    },
    {
      "cell_type": "code",
      "source": [
        "opt = SolverFactory('glpk', executable='/usr/bin/glpsol')\n",
        "#.solve(model1).write()\n",
        "result = opt.solve(model)\n",
        "print(result)\n",
        "\n",
        "print('Solver status:', result.solver.status)\n",
        "print('Solver termination condition:',result.solver.termination_condition)"
      ],
      "metadata": {
        "colab": {
          "base_uri": "https://localhost:8080/"
        },
        "id": "pzZshS_HS-5M",
        "outputId": "c3239eeb-c8fe-4b42-e336-03edc08258d4"
      },
      "execution_count": null,
      "outputs": [
        {
          "output_type": "stream",
          "name": "stdout",
          "text": [
            "\n",
            "Problem: \n",
            "- Name: unknown\n",
            "  Lower bound: -inf\n",
            "  Upper bound: inf\n",
            "  Number of objectives: 1\n",
            "  Number of constraints: 7\n",
            "  Number of variables: 4\n",
            "  Number of nonzeros: 13\n",
            "  Sense: minimize\n",
            "Solver: \n",
            "- Status: ok\n",
            "  Termination condition: other\n",
            "  Statistics: \n",
            "    Branch and bound: \n",
            "      Number of bounded subproblems: 0\n",
            "      Number of created subproblems: 0\n",
            "  Error rc: 0\n",
            "  Time: 0.021129369735717773\n",
            "\n",
            "Solver status: ok\n",
            "Solver termination condition: other\n"
          ]
        }
      ]
    },
    {
      "cell_type": "markdown",
      "source": [
        "by using glpk solver for above lpp solver status showing ok it means our way of define problem is ok , and solver termination codition showing other because solver don't why solution of this problem is not exist."
      ],
      "metadata": {
        "id": "h8hJJWe2AZnV"
      }
    },
    {
      "cell_type": "code",
      "source": [
        "!apt-get install -y -qq coinor-cbc"
      ],
      "metadata": {
        "id": "TgpuKS5GTOvM"
      },
      "execution_count": null,
      "outputs": []
    },
    {
      "cell_type": "code",
      "source": [
        "opt = SolverFactory('cbc')\n",
        "#.solve(model1).write()\n",
        "result = opt.solve(model)\n",
        "print(result)\n",
        "\n",
        "print('Solver status:', result.solver.status)\n",
        "print('Solver termination condition:',result.solver.termination_condition)"
      ],
      "metadata": {
        "colab": {
          "base_uri": "https://localhost:8080/"
        },
        "id": "UAlK4hbsTs9v",
        "outputId": "8d5abd3c-87c4-42bf-cc47-133c428b6cf8"
      },
      "execution_count": null,
      "outputs": [
        {
          "output_type": "stream",
          "name": "stderr",
          "text": [
            "WARNING:pyomo.core:Loading a SolverResults object with a warning status into model.name=\"unknown\";\n",
            "  - termination condition: infeasible\n",
            "  - message from solver: <undefined>\n"
          ]
        },
        {
          "output_type": "stream",
          "name": "stdout",
          "text": [
            "\n",
            "Problem: \n",
            "- Name: unknown\n",
            "  Lower bound: None\n",
            "  Upper bound: inf\n",
            "  Number of objectives: 1\n",
            "  Number of constraints: 7\n",
            "  Number of variables: 4\n",
            "  Number of nonzeros: 3\n",
            "  Sense: minimize\n",
            "Solver: \n",
            "- Status: warning\n",
            "  User time: -1.0\n",
            "  System time: 0.0\n",
            "  Wallclock time: 0.0\n",
            "  Termination condition: infeasible\n",
            "  Termination message: Model was proven to be infeasible.\n",
            "  Statistics: \n",
            "    Branch and bound: \n",
            "      Number of bounded subproblems: 0\n",
            "      Number of created subproblems: 0\n",
            "    Black box: \n",
            "      Number of iterations: 0\n",
            "  Error rc: 0\n",
            "  Time: 0.025713443756103516\n",
            "\n",
            "Solver status: warning\n",
            "Solver termination condition: infeasible\n"
          ]
        }
      ]
    },
    {
      "cell_type": "markdown",
      "source": [
        "Here, Solver status showing warning because this lpp has no feasible solution and solver termination codition showing infeasible , it means no possible solution exist which satisfy given lpp constraints and bound.\n",
        "\n",
        "by using cbc solver we get more meaningful solution "
      ],
      "metadata": {
        "id": "zBSZ2jgd6tfT"
      }
    },
    {
      "cell_type": "markdown",
      "source": [
        "$\\mathbf{2.}$ In order to address the issue faced during solving problem (OP), you decide to use only\n",
        "cbc solver and intend to perform the following resolution steps independent of each other\n",
        "and check the result of the solver in each case."
      ],
      "metadata": {
        "id": "hhXI5B_fVbZ0"
      }
    },
    {
      "cell_type": "markdown",
      "source": [
        "(a) Change the optimization problem to a maximization problem and re-solve"
      ],
      "metadata": {
        "id": "aROqjMlSXok8"
      }
    },
    {
      "cell_type": "markdown",
      "source": [
        "$\\textbf{Solution :-}$"
      ],
      "metadata": {
        "id": "6oDi2UWUXrDw"
      }
    },
    {
      "cell_type": "code",
      "source": [
        "model.objective.set_sense(maximize)\n",
        "model.pprint()"
      ],
      "metadata": {
        "colab": {
          "base_uri": "https://localhost:8080/"
        },
        "id": "w__dTviSVryP",
        "outputId": "0f7221ea-9abe-4b3d-ee24-191314d95697"
      },
      "execution_count": null,
      "outputs": [
        {
          "output_type": "stream",
          "name": "stdout",
          "text": [
            "2 Set Declarations\n",
            "    constraints_index : Size=1, Index=None, Ordered=Insertion\n",
            "        Key  : Dimen : Domain : Size : Members\n",
            "        None :     1 :    Any :    6 : {1, 2, 3, 4, 5, 6}\n",
            "    x_index : Size=1, Index=None, Ordered=False\n",
            "        Key  : Dimen : Domain : Size : Members\n",
            "        None :     1 :    Any :    3 : {0, 1, 2}\n",
            "\n",
            "1 Var Declarations\n",
            "    x : Size=3, Index=x_index\n",
            "        Key : Lower : Value : Upper : Fixed : Stale : Domain\n",
            "          0 :  None :  None :  None : False :  True :  Reals\n",
            "          1 :  None :  None :  None : False :  True :  Reals\n",
            "          2 :  None :  None :  None : False :  True :  Reals\n",
            "\n",
            "1 Objective Declarations\n",
            "    objective : Size=1, Index=None, Active=True\n",
            "        Key  : Active : Sense    : Expression\n",
            "        None :   True : maximize : 2*x[0] - 2*x[1] + 2*x[2]\n",
            "\n",
            "1 Constraint Declarations\n",
            "    constraints : Size=6, Index=constraints_index, Active=True\n",
            "        Key : Lower : Body                    : Upper : Active\n",
            "          1 :  -Inf :  2*x[0] - x[1] + 2*x[2] :   6.0 :   True\n",
            "          2 :  -Inf :  x[0] - 4*x[1] + 2*x[2] : -15.0 :   True\n",
            "          3 :  -Inf : -2*x[0] + 2*x[1] + x[2] :  -8.0 :   True\n",
            "          4 :   2.0 :                    x[0] :  +Inf :   True\n",
            "          5 :   1.0 :                    x[1] :  +Inf :   True\n",
            "          6 :   1.0 :                    x[2] :  +Inf :   True\n",
            "\n",
            "5 Declarations: x_index x constraints_index constraints objective\n"
          ]
        }
      ]
    },
    {
      "cell_type": "code",
      "source": [
        "opt = SolverFactory('cbc')\n",
        "#.solve(model1).write()\n",
        "result = opt.solve(model)\n",
        "print(result)\n",
        "\n",
        "print('Solver status:', result.solver.status)\n",
        "print('Solver termination condition:',result.solver.termination_condition)"
      ],
      "metadata": {
        "colab": {
          "base_uri": "https://localhost:8080/"
        },
        "id": "VKzm1wu2YdTK",
        "outputId": "a2be63f8-b168-4c34-fff5-7e0c4a7850ed"
      },
      "execution_count": null,
      "outputs": [
        {
          "output_type": "stream",
          "name": "stderr",
          "text": [
            "WARNING:pyomo.core:Loading a SolverResults object with a warning status into model.name=\"unknown\";\n",
            "  - termination condition: infeasible\n",
            "  - message from solver: <undefined>\n"
          ]
        },
        {
          "output_type": "stream",
          "name": "stdout",
          "text": [
            "\n",
            "Problem: \n",
            "- Name: unknown\n",
            "  Lower bound: -inf\n",
            "  Upper bound: None\n",
            "  Number of objectives: 1\n",
            "  Number of constraints: 7\n",
            "  Number of variables: 4\n",
            "  Number of nonzeros: 3\n",
            "  Sense: maximize\n",
            "Solver: \n",
            "- Status: warning\n",
            "  User time: -1.0\n",
            "  System time: 0.0\n",
            "  Wallclock time: 0.0\n",
            "  Termination condition: infeasible\n",
            "  Termination message: Model was proven to be infeasible.\n",
            "  Statistics: \n",
            "    Branch and bound: \n",
            "      Number of bounded subproblems: 0\n",
            "      Number of created subproblems: 0\n",
            "    Black box: \n",
            "      Number of iterations: 0\n",
            "  Error rc: 0\n",
            "  Time: 0.030055761337280273\n",
            "\n",
            "Solver status: warning\n",
            "Solver termination condition: infeasible\n"
          ]
        }
      ]
    },
    {
      "cell_type": "markdown",
      "source": [
        "Here, Solver status showing warning because this lpp has no feasible solution and solver termination codition showing infeasible , it means no possible solution exist which satisfy given lpp constraints and bound."
      ],
      "metadata": {
        "id": "6b1k26Oe9JZl"
      }
    },
    {
      "cell_type": "markdown",
      "source": [
        "b) Add upper bounds on x2, x3 as x2 ≤ 5, x3 ≤ 10 and re-solve."
      ],
      "metadata": {
        "id": "MYzQJJZ6ZUUC"
      }
    },
    {
      "cell_type": "markdown",
      "source": [
        "$\\textbf{Solution :-}$"
      ],
      "metadata": {
        "id": "_vMsaopMZY2H"
      }
    },
    {
      "cell_type": "code",
      "source": [
        "model.objective.set_sense(minimize)\n",
        "\n",
        "new_bound_coef = np.array([5,10])\n",
        "for i in range(len(new_bound_coef)):\n",
        "  model.constraints.add(model.x[i+1]<=new_bound_coef[i])\n",
        "model.pprint()"
      ],
      "metadata": {
        "colab": {
          "base_uri": "https://localhost:8080/"
        },
        "id": "i6x4EH9rZVeV",
        "outputId": "013e59f6-ea05-4f9f-ee9e-97594308b8d4"
      },
      "execution_count": null,
      "outputs": [
        {
          "output_type": "stream",
          "name": "stdout",
          "text": [
            "2 Set Declarations\n",
            "    constraints_index : Size=1, Index=None, Ordered=Insertion\n",
            "        Key  : Dimen : Domain : Size : Members\n",
            "        None :     1 :    Any :    8 : {1, 2, 3, 4, 5, 6, 7, 8}\n",
            "    x_index : Size=1, Index=None, Ordered=False\n",
            "        Key  : Dimen : Domain : Size : Members\n",
            "        None :     1 :    Any :    3 : {0, 1, 2}\n",
            "\n",
            "1 Var Declarations\n",
            "    x : Size=3, Index=x_index\n",
            "        Key : Lower : Value : Upper : Fixed : Stale : Domain\n",
            "          0 :  None :  None :  None : False :  True :  Reals\n",
            "          1 :  None :  None :  None : False :  True :  Reals\n",
            "          2 :  None :  None :  None : False :  True :  Reals\n",
            "\n",
            "1 Objective Declarations\n",
            "    objective : Size=1, Index=None, Active=True\n",
            "        Key  : Active : Sense    : Expression\n",
            "        None :   True : minimize : 2*x[0] - 2*x[1] + 2*x[2]\n",
            "\n",
            "1 Constraint Declarations\n",
            "    constraints : Size=8, Index=constraints_index, Active=True\n",
            "        Key : Lower : Body                    : Upper : Active\n",
            "          1 :  -Inf :  2*x[0] - x[1] + 2*x[2] :   6.0 :   True\n",
            "          2 :  -Inf :  x[0] - 4*x[1] + 2*x[2] : -15.0 :   True\n",
            "          3 :  -Inf : -2*x[0] + 2*x[1] + x[2] :  -8.0 :   True\n",
            "          4 :   2.0 :                    x[0] :  +Inf :   True\n",
            "          5 :   1.0 :                    x[1] :  +Inf :   True\n",
            "          6 :   1.0 :                    x[2] :  +Inf :   True\n",
            "          7 :  -Inf :                    x[1] :   5.0 :   True\n",
            "          8 :  -Inf :                    x[2] :  10.0 :   True\n",
            "\n",
            "5 Declarations: x_index x constraints_index constraints objective\n"
          ]
        }
      ]
    },
    {
      "cell_type": "code",
      "source": [
        "opt = SolverFactory('cbc')\n",
        "#.solve(model1).write()\n",
        "result = opt.solve(model)\n",
        "print(result)\n",
        "\n",
        "print('Solver status:', result.solver.status)\n",
        "print('Solver termination condition:',result.solver.termination_condition)"
      ],
      "metadata": {
        "colab": {
          "base_uri": "https://localhost:8080/"
        },
        "id": "1VqWU28gcByY",
        "outputId": "82d41f84-8c7e-408e-e18d-7ddfb0047c4f"
      },
      "execution_count": null,
      "outputs": [
        {
          "output_type": "stream",
          "name": "stderr",
          "text": [
            "WARNING:pyomo.core:Loading a SolverResults object with a warning status into model.name=\"unknown\";\n",
            "  - termination condition: infeasible\n",
            "  - message from solver: <undefined>\n"
          ]
        },
        {
          "output_type": "stream",
          "name": "stdout",
          "text": [
            "\n",
            "Problem: \n",
            "- Name: unknown\n",
            "  Lower bound: None\n",
            "  Upper bound: inf\n",
            "  Number of objectives: 1\n",
            "  Number of constraints: 9\n",
            "  Number of variables: 4\n",
            "  Number of nonzeros: 3\n",
            "  Sense: minimize\n",
            "Solver: \n",
            "- Status: warning\n",
            "  User time: -1.0\n",
            "  System time: 0.0\n",
            "  Wallclock time: 0.0\n",
            "  Termination condition: infeasible\n",
            "  Termination message: Model was proven to be infeasible.\n",
            "  Statistics: \n",
            "    Branch and bound: \n",
            "      Number of bounded subproblems: 0\n",
            "      Number of created subproblems: 0\n",
            "    Black box: \n",
            "      Number of iterations: 0\n",
            "  Error rc: 0\n",
            "  Time: 0.027489185333251953\n",
            "\n",
            "Solver status: warning\n",
            "Solver termination condition: infeasible\n"
          ]
        }
      ]
    },
    {
      "cell_type": "markdown",
      "source": [
        "Here, Solver status showing warning because this lpp has no feasible solution and solver termination codition showing infeasible , it means no possible solution exist which satisfy given lpp constraints and bound."
      ],
      "metadata": {
        "id": "iGPXw-xD94T_"
      }
    },
    {
      "cell_type": "code",
      "source": [
        "for i in range(len(new_bound_coef)):\n",
        "  model.constraints[i+7].deactivate()\n",
        "model.pprint()"
      ],
      "metadata": {
        "colab": {
          "base_uri": "https://localhost:8080/"
        },
        "id": "U5UidZtSc5DU",
        "outputId": "f9256ba2-0546-4b66-db8c-415573d95994"
      },
      "execution_count": null,
      "outputs": [
        {
          "output_type": "stream",
          "name": "stdout",
          "text": [
            "2 Set Declarations\n",
            "    constraints_index : Size=1, Index=None, Ordered=Insertion\n",
            "        Key  : Dimen : Domain : Size : Members\n",
            "        None :     1 :    Any :    8 : {1, 2, 3, 4, 5, 6, 7, 8}\n",
            "    x_index : Size=1, Index=None, Ordered=False\n",
            "        Key  : Dimen : Domain : Size : Members\n",
            "        None :     1 :    Any :    3 : {0, 1, 2}\n",
            "\n",
            "1 Var Declarations\n",
            "    x : Size=3, Index=x_index\n",
            "        Key : Lower : Value : Upper : Fixed : Stale : Domain\n",
            "          0 :  None :  None :  None : False :  True :  Reals\n",
            "          1 :  None :  None :  None : False :  True :  Reals\n",
            "          2 :  None :  None :  None : False :  True :  Reals\n",
            "\n",
            "1 Objective Declarations\n",
            "    objective : Size=1, Index=None, Active=True\n",
            "        Key  : Active : Sense    : Expression\n",
            "        None :   True : minimize : 2*x[0] - 2*x[1] + 2*x[2]\n",
            "\n",
            "1 Constraint Declarations\n",
            "    constraints : Size=8, Index=constraints_index, Active=True\n",
            "        Key : Lower : Body                    : Upper : Active\n",
            "          1 :  -Inf :  2*x[0] - x[1] + 2*x[2] :   6.0 :   True\n",
            "          2 :  -Inf :  x[0] - 4*x[1] + 2*x[2] : -15.0 :   True\n",
            "          3 :  -Inf : -2*x[0] + 2*x[1] + x[2] :  -8.0 :   True\n",
            "          4 :   2.0 :                    x[0] :  +Inf :   True\n",
            "          5 :   1.0 :                    x[1] :  +Inf :   True\n",
            "          6 :   1.0 :                    x[2] :  +Inf :   True\n",
            "          7 :  -Inf :                    x[1] :   5.0 :  False\n",
            "          8 :  -Inf :                    x[2] :  10.0 :  False\n",
            "\n",
            "5 Declarations: x_index x constraints_index constraints objective\n"
          ]
        }
      ]
    },
    {
      "cell_type": "markdown",
      "source": [
        "(C) .Add a new constraint −x2 + x3 ≤ 16 and re-solve."
      ],
      "metadata": {
        "id": "t4gmyB9rcMU8"
      }
    },
    {
      "cell_type": "markdown",
      "source": [
        "$\\textbf{Solution :-}$"
      ],
      "metadata": {
        "id": "hpLqdAdMcSeY"
      }
    },
    {
      "cell_type": "code",
      "source": [
        "model.constraints.add(-1*model.x[1]+model.x[2]<=16)"
      ],
      "metadata": {
        "colab": {
          "base_uri": "https://localhost:8080/"
        },
        "id": "AzouUUQkcRaJ",
        "outputId": "5c073085-2528-47c2-ca1f-9f1cd83adb2d"
      },
      "execution_count": null,
      "outputs": [
        {
          "output_type": "execute_result",
          "data": {
            "text/plain": [
              "<pyomo.core.base.constraint._GeneralConstraintData at 0x7fc898c73440>"
            ]
          },
          "metadata": {},
          "execution_count": 46
        }
      ]
    },
    {
      "cell_type": "code",
      "source": [
        "model.pprint()"
      ],
      "metadata": {
        "colab": {
          "base_uri": "https://localhost:8080/"
        },
        "id": "hRKLkdI1cCVp",
        "outputId": "3774f50a-d086-4217-b629-a016cff36127"
      },
      "execution_count": null,
      "outputs": [
        {
          "output_type": "stream",
          "name": "stdout",
          "text": [
            "2 Set Declarations\n",
            "    constraints_index : Size=1, Index=None, Ordered=Insertion\n",
            "        Key  : Dimen : Domain : Size : Members\n",
            "        None :     1 :    Any :    9 : {1, 2, 3, 4, 5, 6, 7, 8, 9}\n",
            "    x_index : Size=1, Index=None, Ordered=False\n",
            "        Key  : Dimen : Domain : Size : Members\n",
            "        None :     1 :    Any :    3 : {0, 1, 2}\n",
            "\n",
            "1 Var Declarations\n",
            "    x : Size=3, Index=x_index\n",
            "        Key : Lower : Value : Upper : Fixed : Stale : Domain\n",
            "          0 :  None :  None :  None : False :  True :  Reals\n",
            "          1 :  None :  None :  None : False :  True :  Reals\n",
            "          2 :  None :  None :  None : False :  True :  Reals\n",
            "\n",
            "1 Objective Declarations\n",
            "    objective : Size=1, Index=None, Active=True\n",
            "        Key  : Active : Sense    : Expression\n",
            "        None :   True : minimize : 2*x[0] - 2*x[1] + 2*x[2]\n",
            "\n",
            "1 Constraint Declarations\n",
            "    constraints : Size=9, Index=constraints_index, Active=True\n",
            "        Key : Lower : Body                    : Upper : Active\n",
            "          1 :  -Inf :  2*x[0] - x[1] + 2*x[2] :   6.0 :   True\n",
            "          2 :  -Inf :  x[0] - 4*x[1] + 2*x[2] : -15.0 :   True\n",
            "          3 :  -Inf : -2*x[0] + 2*x[1] + x[2] :  -8.0 :   True\n",
            "          4 :   2.0 :                    x[0] :  +Inf :   True\n",
            "          5 :   1.0 :                    x[1] :  +Inf :   True\n",
            "          6 :   1.0 :                    x[2] :  +Inf :   True\n",
            "          7 :  -Inf :                    x[1] :   5.0 :  False\n",
            "          8 :  -Inf :                    x[2] :  10.0 :  False\n",
            "          9 :  -Inf :           - x[1] + x[2] :  16.0 :   True\n",
            "\n",
            "5 Declarations: x_index x constraints_index constraints objective\n"
          ]
        }
      ]
    },
    {
      "cell_type": "code",
      "source": [
        "opt = SolverFactory('cbc')\n",
        "#.solve(model1).write()\n",
        "result = opt.solve(model)\n",
        "print(result)\n",
        "\n",
        "print('Solver status:', result.solver.status)\n",
        "print('Solver termination condition:',result.solver.termination_condition)"
      ],
      "metadata": {
        "colab": {
          "base_uri": "https://localhost:8080/"
        },
        "id": "ZfQJueWjf21A",
        "outputId": "1df94fc2-bff6-4899-da51-ca3ecd779553"
      },
      "execution_count": null,
      "outputs": [
        {
          "output_type": "stream",
          "name": "stderr",
          "text": [
            "WARNING:pyomo.core:Loading a SolverResults object with a warning status into model.name=\"unknown\";\n",
            "  - termination condition: infeasible\n",
            "  - message from solver: <undefined>\n"
          ]
        },
        {
          "output_type": "stream",
          "name": "stdout",
          "text": [
            "\n",
            "Problem: \n",
            "- Name: unknown\n",
            "  Lower bound: None\n",
            "  Upper bound: 11.0\n",
            "  Number of objectives: 1\n",
            "  Number of constraints: 8\n",
            "  Number of variables: 4\n",
            "  Number of nonzeros: 0\n",
            "  Sense: minimize\n",
            "Solver: \n",
            "- Status: warning\n",
            "  User time: -1.0\n",
            "  System time: 0.0\n",
            "  Wallclock time: 0.0\n",
            "  Termination condition: infeasible\n",
            "  Termination message: Model was proven to be infeasible.\n",
            "  Statistics: \n",
            "    Branch and bound: \n",
            "      Number of bounded subproblems: 0\n",
            "      Number of created subproblems: 0\n",
            "    Black box: \n",
            "      Number of iterations: 0\n",
            "  Error rc: 0\n",
            "  Time: 0.030179738998413086\n",
            "\n",
            "Solver status: warning\n",
            "Solver termination condition: infeasible\n"
          ]
        }
      ]
    },
    {
      "cell_type": "markdown",
      "source": [
        "Here, Solver status showing warning because this lpp has no feasible solution and solver termination codition showing infeasible , it means no possible solution exist which satisfy given lpp constraints and bound."
      ],
      "metadata": {
        "id": "BgCnFTDY97YL"
      }
    },
    {
      "cell_type": "markdown",
      "source": [
        "(d) Deactivate the objective of problem (OP) and construct a new objective of the form\n",
        "min x1 + 2x2 + 3x3 and deactivate the constraint 2x1 − x2 + 2x3 ≤ 6 and add a different\n",
        "constraint x2 + x3 ≥ 25.\n"
      ],
      "metadata": {
        "id": "0QfXPx2GgFH3"
      }
    },
    {
      "cell_type": "markdown",
      "source": [
        "$\\textbf{Solution :-}$ "
      ],
      "metadata": {
        "id": "INSYkB7xgSrC"
      }
    },
    {
      "cell_type": "code",
      "source": [
        "model.objective.deactivate()\n",
        "model.constraints[1].deactivate()\n",
        "\n",
        "model.new_objective = Objective(expr = model.x[0]+2*model.x[1]+3*model.x[2],sense=minimize)\n",
        "model.constraints.add(model.x[1]+model.x[2]>=25)\n",
        "model.pprint()"
      ],
      "metadata": {
        "colab": {
          "base_uri": "https://localhost:8080/"
        },
        "id": "98DCryj9f-0s",
        "outputId": "645fadfd-3f5f-46f8-9ff6-e4ca05f63e7b"
      },
      "execution_count": null,
      "outputs": [
        {
          "output_type": "stream",
          "name": "stdout",
          "text": [
            "2 Set Declarations\n",
            "    constraints_index : Size=1, Index=None, Ordered=Insertion\n",
            "        Key  : Dimen : Domain : Size : Members\n",
            "        None :     1 :    Any :   10 : {1, 2, 3, 4, 5, 6, 7, 8, 9, 10}\n",
            "    x_index : Size=1, Index=None, Ordered=False\n",
            "        Key  : Dimen : Domain : Size : Members\n",
            "        None :     1 :    Any :    3 : {0, 1, 2}\n",
            "\n",
            "1 Var Declarations\n",
            "    x : Size=3, Index=x_index\n",
            "        Key : Lower : Value : Upper : Fixed : Stale : Domain\n",
            "          0 :  None :  None :  None : False :  True :  Reals\n",
            "          1 :  None :  None :  None : False :  True :  Reals\n",
            "          2 :  None :  None :  None : False :  True :  Reals\n",
            "\n",
            "2 Objective Declarations\n",
            "    new_objective : Size=1, Index=None, Active=True\n",
            "        Key  : Active : Sense    : Expression\n",
            "        None :   True : minimize : x[0] + 2*x[1] + 3*x[2]\n",
            "    objective : Size=1, Index=None, Active=False\n",
            "        Key  : Active : Sense    : Expression\n",
            "        None :  False : minimize : 2*x[0] - 2*x[1] + 2*x[2]\n",
            "\n",
            "1 Constraint Declarations\n",
            "    constraints : Size=10, Index=constraints_index, Active=True\n",
            "        Key : Lower : Body                    : Upper : Active\n",
            "          1 :  -Inf :  2*x[0] - x[1] + 2*x[2] :   6.0 :  False\n",
            "          2 :  -Inf :  x[0] - 4*x[1] + 2*x[2] : -15.0 :   True\n",
            "          3 :  -Inf : -2*x[0] + 2*x[1] + x[2] :  -8.0 :   True\n",
            "          4 :   2.0 :                    x[0] :  +Inf :   True\n",
            "          5 :   1.0 :                    x[1] :  +Inf :   True\n",
            "          6 :   1.0 :                    x[2] :  +Inf :   True\n",
            "          7 :  -Inf :                    x[1] :   5.0 :  False\n",
            "          8 :  -Inf :                    x[2] :  10.0 :  False\n",
            "          9 :  -Inf :           - x[1] + x[2] :  16.0 :   True\n",
            "         10 :  25.0 :             x[1] + x[2] :  +Inf :   True\n",
            "\n",
            "6 Declarations: x_index x constraints_index constraints objective new_objective\n"
          ]
        }
      ]
    },
    {
      "cell_type": "code",
      "source": [
        "opt = SolverFactory('cbc')\n",
        "#.solve(model1).write()\n",
        "result = opt.solve(model)\n",
        "print(result)\n",
        "\n",
        "print('Solver status:', result.solver.status)\n",
        "print('Solver termination condition:',result.solver.termination_condition)"
      ],
      "metadata": {
        "colab": {
          "base_uri": "https://localhost:8080/"
        },
        "id": "QJ08R6yziE2F",
        "outputId": "c63571ff-3b1b-4034-8385-665ce8b7bceb"
      },
      "execution_count": null,
      "outputs": [
        {
          "output_type": "stream",
          "name": "stdout",
          "text": [
            "\n",
            "Problem: \n",
            "- Name: unknown\n",
            "  Lower bound: 79.5\n",
            "  Upper bound: 79.5\n",
            "  Number of objectives: 1\n",
            "  Number of constraints: 8\n",
            "  Number of variables: 4\n",
            "  Number of nonzeros: 3\n",
            "  Sense: minimize\n",
            "Solver: \n",
            "- Status: ok\n",
            "  User time: -1.0\n",
            "  System time: 0.0\n",
            "  Wallclock time: 0.0\n",
            "  Termination condition: optimal\n",
            "  Termination message: Model was solved to optimality (subject to tolerances), and an optimal solution is available.\n",
            "  Statistics: \n",
            "    Branch and bound: \n",
            "      Number of bounded subproblems: None\n",
            "      Number of created subproblems: None\n",
            "    Black box: \n",
            "      Number of iterations: 2\n",
            "  Error rc: 0\n",
            "  Time: 0.032726287841796875\n",
            "Solution: \n",
            "- number of solutions: 0\n",
            "  number of solutions displayed: 0\n",
            "\n",
            "Solver status: ok\n",
            "Solver termination condition: optimal\n"
          ]
        }
      ]
    },
    {
      "cell_type": "markdown",
      "source": [
        "Here, solver status showing ok because this problem has optimal solution and solver able to find that optimal solution and solver termination condition showing optimal it means optimal solution exist."
      ],
      "metadata": {
        "id": "Ip19R2_7-CX7"
      }
    },
    {
      "cell_type": "code",
      "source": [
        "print('\\nObjective = ', model.new_objective())\n",
        "\n",
        "print('\\nDecision Variables')\n",
        "for i in col_indices:\n",
        "  print('x[',i,'] = ', model.x[i].value)\n",
        "print('\\nConstraints')\n",
        "model.constraints.display()"
      ],
      "metadata": {
        "colab": {
          "base_uri": "https://localhost:8080/"
        },
        "id": "GqpEuqzmi5m6",
        "outputId": "7db3fa9a-a392-401d-ee76-b9f6e31b7d11"
      },
      "execution_count": null,
      "outputs": [
        {
          "output_type": "stream",
          "name": "stdout",
          "text": [
            "\n",
            "Objective =  79.5\n",
            "\n",
            "Decision Variables\n",
            "x[ 0 ] =  28.5\n",
            "x[ 1 ] =  24.0\n",
            "x[ 2 ] =  1.0\n",
            "\n",
            "Constraints\n",
            "constraints : Size=10\n",
            "    Key : Lower : Body  : Upper\n",
            "      2 :  None : -65.5 : -15.0\n",
            "      3 :  None :  -8.0 :  -8.0\n",
            "      4 :   2.0 :  28.5 :  None\n",
            "      5 :   1.0 :  24.0 :  None\n",
            "      6 :   1.0 :   1.0 :  None\n",
            "      9 :  None : -23.0 :  16.0\n",
            "     10 :  25.0 :  25.0 :  None\n"
          ]
        }
      ]
    },
    {
      "cell_type": "markdown",
      "source": [
        "Constraint 2 $Inactive$ because $LHS \\neq RHS. $ \\\\\n",
        "Constraint 3 $Inactive$ because $LHS \\neq RHS. $ \\\\\n",
        "Constraint 4 $Inactive$ because $LHS \\neq RHS. $ \\\\\n",
        "Constraint 5 $Inactive$ because $LHS \\neq RHS. $ \\\\\n",
        "Constraint 6 $Active$ because $LHS = RHS. $ \\\\\n",
        "Constraint 9 $Inactive$ because $LHS \\neq RHS. $ \\\\\n",
        "Constraint 10 $Active$ because $LHS = RHS. $"
      ],
      "metadata": {
        "id": "a2XeZYOj-vtd"
      }
    },
    {
      "cell_type": "code",
      "source": [
        ""
      ],
      "metadata": {
        "id": "JhwQb6gr_uRy"
      },
      "execution_count": null,
      "outputs": []
    }
  ]
}
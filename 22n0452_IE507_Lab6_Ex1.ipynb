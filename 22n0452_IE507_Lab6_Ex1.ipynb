{
  "nbformat": 4,
  "nbformat_minor": 0,
  "metadata": {
    "colab": {
      "provenance": []
    },
    "kernelspec": {
      "name": "python3",
      "display_name": "Python 3"
    },
    "language_info": {
      "name": "python"
    }
  },
  "cells": [
    {
      "cell_type": "markdown",
      "source": [
        "Exercise 1: Transportation Problem [15 marks]\n",
        "A customer has contacted Saga Logistics for transporting electic vehicles (EVs) from warehouses\n",
        "to markets. There are eight warehouses, each of which has some truck-loads of EVs in stock. These\n",
        "EVs must be transported to eight markets for satisfying the demand. You are interning at Saga\n",
        "Logistics and you are given the task of finding out how many EVs must be transported from each\n",
        "warehouse to each market."
      ],
      "metadata": {
        "id": "JA-Q6zSiw2Yb"
      }
    },
    {
      "cell_type": "markdown",
      "source": [
        "1. [R] Let C[w, m] be the cost of transporting one truck-load of EVs from w to m. Write\n",
        "a general optimization problem to minimize the total transportation cost. Use appropriate\n",
        "notations and define appropriate sets to be used in the optimization problem."
      ],
      "metadata": {
        "id": "sM3EIF3Ew5u5"
      }
    },
    {
      "cell_type": "markdown",
      "source": [
        "$\\text{Solution : -} $ \\\\\n",
        "\n",
        "Let's take N warehouses and M markets. \\\\\n",
        "so, for N warehouses we have N avail. stock $s_{i} \\ \\text{where} i \\in \\{1,2,...,N\\}$ \\\\\n",
        "and,  for M markets we have M demand $d_{j} \\ \\text{where} j \\in \\{1,2,...,M\\}$ \\\\\n",
        "\n",
        "so, mathematical formulation for general optimization problem is \\\\\n",
        "\n",
        "$ \\text{Min} \\ \\ \\sum_{i=1}^{N} \\sum_{j=1}^{M}C[i,j]x_{ij}  \\\\\n",
        "\\ \\ \\ \\ \\  \\ \\  \\ \\sum_{i=1}^{N}x_{ij} = d_{j} \\ \\text{Where} \\  j \\in \\{1,2,3,...,M\\} \\\\\n",
        "\\ \\ \\ \\ \\ \\ \\ \\ \\ \\sum_{j=1}^{M}x_{ij} \\leq s_{i} \\text{Where} \\  i \\in \\{1,2,3,...,N\\} \\\\ and \\ x_{ij} \\ \\ \\text{should be NonNegativeIntegers}.$\n",
        "\n",
        "where, $C[i, j]$ be the cost of transporting one truck-load of EVs from $i$ wherehouse to $j$ market and corresponding variable is $x_{ij}$ denoting how much amount of EVs transporting from $i$ wherehouse  to $j$ market .\n",
        "\n",
        "\n",
        "\n",
        "    "
      ],
      "metadata": {
        "id": "53v_N5KPw9i3"
      }
    },
    {
      "cell_type": "code",
      "source": [
        "!pip install -q pyomo"
      ],
      "metadata": {
        "id": "A1jThI3jdhnw"
      },
      "execution_count": 57,
      "outputs": []
    },
    {
      "cell_type": "code",
      "source": [
        "from pyomo.environ import * "
      ],
      "metadata": {
        "id": "T3kqqJY8dlnJ"
      },
      "execution_count": 58,
      "outputs": []
    },
    {
      "cell_type": "code",
      "source": [
        "import numpy as np"
      ],
      "metadata": {
        "id": "pQcnyKMbdo5o"
      },
      "execution_count": 59,
      "outputs": []
    },
    {
      "cell_type": "code",
      "execution_count": 60,
      "metadata": {
        "id": "4prBzDHDa03K"
      },
      "outputs": [],
      "source": [
        "import pandas as pd"
      ]
    },
    {
      "cell_type": "code",
      "source": [
        "data_csvfile = pd.read_csv('lab6_ex1.csv')"
      ],
      "metadata": {
        "id": "w5A_b4Q9dFCL"
      },
      "execution_count": 61,
      "outputs": []
    },
    {
      "cell_type": "markdown",
      "source": [],
      "metadata": {
        "id": "0N3ZaVhsw1T5"
      }
    },
    {
      "cell_type": "code",
      "source": [
        "data_csvfile"
      ],
      "metadata": {
        "colab": {
          "base_uri": "https://localhost:8080/",
          "height": 332
        },
        "id": "7ilD7uQsdMbe",
        "outputId": "3b97958e-8e09-47ff-8948-f39cf4d26520"
      },
      "execution_count": 62,
      "outputs": [
        {
          "output_type": "execute_result",
          "data": {
            "text/plain": [
              "  Warehouses/Markets  Hassan  Jodhpur  Trichy  Simla  Vijayawada  Dibrugarh  \\\n",
              "0          Ahmedabad     827      817    1470   2272        1615       3143   \n",
              "1          Bengaluru     559     1832     751   3772         637       3773   \n",
              "2          Chennai\\t     110     2443     577   3865         798       3521   \n",
              "3              Delhi    2943     1471    4676   1337        2702       2741   \n",
              "4            Kolkata    3742     3089    2931   3199        2226       1739   \n",
              "5            Lucknow    2353     1160    3295    368        2369       2365   \n",
              "6             Mumbai    1356     1617    2045   2941        2334       4151   \n",
              "7          Hyderabad     195     1862    1331   2921         402       2825   \n",
              "8             Demand     205      300     425    270         375        225   \n",
              "\n",
              "   Raipur  Agartala  Available Stock  \n",
              "0    1264      4465              350  \n",
              "1    1856      5459              185  \n",
              "2    1984      5303              305  \n",
              "3    2482      4148              180  \n",
              "4    1691      2128              205  \n",
              "5    1293      3642              175  \n",
              "6    1937      4287              325  \n",
              "7     563      4441              370  \n",
              "8     185       110             2095  "
            ],
            "text/html": [
              "\n",
              "  <div id=\"df-77795871-09d1-4ff8-be33-806c304d15bc\">\n",
              "    <div class=\"colab-df-container\">\n",
              "      <div>\n",
              "<style scoped>\n",
              "    .dataframe tbody tr th:only-of-type {\n",
              "        vertical-align: middle;\n",
              "    }\n",
              "\n",
              "    .dataframe tbody tr th {\n",
              "        vertical-align: top;\n",
              "    }\n",
              "\n",
              "    .dataframe thead th {\n",
              "        text-align: right;\n",
              "    }\n",
              "</style>\n",
              "<table border=\"1\" class=\"dataframe\">\n",
              "  <thead>\n",
              "    <tr style=\"text-align: right;\">\n",
              "      <th></th>\n",
              "      <th>Warehouses/Markets</th>\n",
              "      <th>Hassan</th>\n",
              "      <th>Jodhpur</th>\n",
              "      <th>Trichy</th>\n",
              "      <th>Simla</th>\n",
              "      <th>Vijayawada</th>\n",
              "      <th>Dibrugarh</th>\n",
              "      <th>Raipur</th>\n",
              "      <th>Agartala</th>\n",
              "      <th>Available Stock</th>\n",
              "    </tr>\n",
              "  </thead>\n",
              "  <tbody>\n",
              "    <tr>\n",
              "      <th>0</th>\n",
              "      <td>Ahmedabad</td>\n",
              "      <td>827</td>\n",
              "      <td>817</td>\n",
              "      <td>1470</td>\n",
              "      <td>2272</td>\n",
              "      <td>1615</td>\n",
              "      <td>3143</td>\n",
              "      <td>1264</td>\n",
              "      <td>4465</td>\n",
              "      <td>350</td>\n",
              "    </tr>\n",
              "    <tr>\n",
              "      <th>1</th>\n",
              "      <td>Bengaluru</td>\n",
              "      <td>559</td>\n",
              "      <td>1832</td>\n",
              "      <td>751</td>\n",
              "      <td>3772</td>\n",
              "      <td>637</td>\n",
              "      <td>3773</td>\n",
              "      <td>1856</td>\n",
              "      <td>5459</td>\n",
              "      <td>185</td>\n",
              "    </tr>\n",
              "    <tr>\n",
              "      <th>2</th>\n",
              "      <td>Chennai\\t</td>\n",
              "      <td>110</td>\n",
              "      <td>2443</td>\n",
              "      <td>577</td>\n",
              "      <td>3865</td>\n",
              "      <td>798</td>\n",
              "      <td>3521</td>\n",
              "      <td>1984</td>\n",
              "      <td>5303</td>\n",
              "      <td>305</td>\n",
              "    </tr>\n",
              "    <tr>\n",
              "      <th>3</th>\n",
              "      <td>Delhi</td>\n",
              "      <td>2943</td>\n",
              "      <td>1471</td>\n",
              "      <td>4676</td>\n",
              "      <td>1337</td>\n",
              "      <td>2702</td>\n",
              "      <td>2741</td>\n",
              "      <td>2482</td>\n",
              "      <td>4148</td>\n",
              "      <td>180</td>\n",
              "    </tr>\n",
              "    <tr>\n",
              "      <th>4</th>\n",
              "      <td>Kolkata</td>\n",
              "      <td>3742</td>\n",
              "      <td>3089</td>\n",
              "      <td>2931</td>\n",
              "      <td>3199</td>\n",
              "      <td>2226</td>\n",
              "      <td>1739</td>\n",
              "      <td>1691</td>\n",
              "      <td>2128</td>\n",
              "      <td>205</td>\n",
              "    </tr>\n",
              "    <tr>\n",
              "      <th>5</th>\n",
              "      <td>Lucknow</td>\n",
              "      <td>2353</td>\n",
              "      <td>1160</td>\n",
              "      <td>3295</td>\n",
              "      <td>368</td>\n",
              "      <td>2369</td>\n",
              "      <td>2365</td>\n",
              "      <td>1293</td>\n",
              "      <td>3642</td>\n",
              "      <td>175</td>\n",
              "    </tr>\n",
              "    <tr>\n",
              "      <th>6</th>\n",
              "      <td>Mumbai</td>\n",
              "      <td>1356</td>\n",
              "      <td>1617</td>\n",
              "      <td>2045</td>\n",
              "      <td>2941</td>\n",
              "      <td>2334</td>\n",
              "      <td>4151</td>\n",
              "      <td>1937</td>\n",
              "      <td>4287</td>\n",
              "      <td>325</td>\n",
              "    </tr>\n",
              "    <tr>\n",
              "      <th>7</th>\n",
              "      <td>Hyderabad</td>\n",
              "      <td>195</td>\n",
              "      <td>1862</td>\n",
              "      <td>1331</td>\n",
              "      <td>2921</td>\n",
              "      <td>402</td>\n",
              "      <td>2825</td>\n",
              "      <td>563</td>\n",
              "      <td>4441</td>\n",
              "      <td>370</td>\n",
              "    </tr>\n",
              "    <tr>\n",
              "      <th>8</th>\n",
              "      <td>Demand</td>\n",
              "      <td>205</td>\n",
              "      <td>300</td>\n",
              "      <td>425</td>\n",
              "      <td>270</td>\n",
              "      <td>375</td>\n",
              "      <td>225</td>\n",
              "      <td>185</td>\n",
              "      <td>110</td>\n",
              "      <td>2095</td>\n",
              "    </tr>\n",
              "  </tbody>\n",
              "</table>\n",
              "</div>\n",
              "      <button class=\"colab-df-convert\" onclick=\"convertToInteractive('df-77795871-09d1-4ff8-be33-806c304d15bc')\"\n",
              "              title=\"Convert this dataframe to an interactive table.\"\n",
              "              style=\"display:none;\">\n",
              "        \n",
              "  <svg xmlns=\"http://www.w3.org/2000/svg\" height=\"24px\"viewBox=\"0 0 24 24\"\n",
              "       width=\"24px\">\n",
              "    <path d=\"M0 0h24v24H0V0z\" fill=\"none\"/>\n",
              "    <path d=\"M18.56 5.44l.94 2.06.94-2.06 2.06-.94-2.06-.94-.94-2.06-.94 2.06-2.06.94zm-11 1L8.5 8.5l.94-2.06 2.06-.94-2.06-.94L8.5 2.5l-.94 2.06-2.06.94zm10 10l.94 2.06.94-2.06 2.06-.94-2.06-.94-.94-2.06-.94 2.06-2.06.94z\"/><path d=\"M17.41 7.96l-1.37-1.37c-.4-.4-.92-.59-1.43-.59-.52 0-1.04.2-1.43.59L10.3 9.45l-7.72 7.72c-.78.78-.78 2.05 0 2.83L4 21.41c.39.39.9.59 1.41.59.51 0 1.02-.2 1.41-.59l7.78-7.78 2.81-2.81c.8-.78.8-2.07 0-2.86zM5.41 20L4 18.59l7.72-7.72 1.47 1.35L5.41 20z\"/>\n",
              "  </svg>\n",
              "      </button>\n",
              "      \n",
              "  <style>\n",
              "    .colab-df-container {\n",
              "      display:flex;\n",
              "      flex-wrap:wrap;\n",
              "      gap: 12px;\n",
              "    }\n",
              "\n",
              "    .colab-df-convert {\n",
              "      background-color: #E8F0FE;\n",
              "      border: none;\n",
              "      border-radius: 50%;\n",
              "      cursor: pointer;\n",
              "      display: none;\n",
              "      fill: #1967D2;\n",
              "      height: 32px;\n",
              "      padding: 0 0 0 0;\n",
              "      width: 32px;\n",
              "    }\n",
              "\n",
              "    .colab-df-convert:hover {\n",
              "      background-color: #E2EBFA;\n",
              "      box-shadow: 0px 1px 2px rgba(60, 64, 67, 0.3), 0px 1px 3px 1px rgba(60, 64, 67, 0.15);\n",
              "      fill: #174EA6;\n",
              "    }\n",
              "\n",
              "    [theme=dark] .colab-df-convert {\n",
              "      background-color: #3B4455;\n",
              "      fill: #D2E3FC;\n",
              "    }\n",
              "\n",
              "    [theme=dark] .colab-df-convert:hover {\n",
              "      background-color: #434B5C;\n",
              "      box-shadow: 0px 1px 3px 1px rgba(0, 0, 0, 0.15);\n",
              "      filter: drop-shadow(0px 1px 2px rgba(0, 0, 0, 0.3));\n",
              "      fill: #FFFFFF;\n",
              "    }\n",
              "  </style>\n",
              "\n",
              "      <script>\n",
              "        const buttonEl =\n",
              "          document.querySelector('#df-77795871-09d1-4ff8-be33-806c304d15bc button.colab-df-convert');\n",
              "        buttonEl.style.display =\n",
              "          google.colab.kernel.accessAllowed ? 'block' : 'none';\n",
              "\n",
              "        async function convertToInteractive(key) {\n",
              "          const element = document.querySelector('#df-77795871-09d1-4ff8-be33-806c304d15bc');\n",
              "          const dataTable =\n",
              "            await google.colab.kernel.invokeFunction('convertToInteractive',\n",
              "                                                     [key], {});\n",
              "          if (!dataTable) return;\n",
              "\n",
              "          const docLinkHtml = 'Like what you see? Visit the ' +\n",
              "            '<a target=\"_blank\" href=https://colab.research.google.com/notebooks/data_table.ipynb>data table notebook</a>'\n",
              "            + ' to learn more about interactive tables.';\n",
              "          element.innerHTML = '';\n",
              "          dataTable['output_type'] = 'display_data';\n",
              "          await google.colab.output.renderOutput(dataTable, element);\n",
              "          const docLink = document.createElement('div');\n",
              "          docLink.innerHTML = docLinkHtml;\n",
              "          element.appendChild(docLink);\n",
              "        }\n",
              "      </script>\n",
              "    </div>\n",
              "  </div>\n",
              "  "
            ]
          },
          "metadata": {},
          "execution_count": 62
        }
      ]
    },
    {
      "cell_type": "code",
      "source": [
        "# create a model\n",
        "model = ConcreteModel()"
      ],
      "metadata": {
        "id": "Of4XeCYPdOfA"
      },
      "execution_count": 63,
      "outputs": []
    },
    {
      "cell_type": "code",
      "source": [
        "M = len(data_csvfile.index)-1\n",
        "N = len(data_csvfile.columns)-2"
      ],
      "metadata": {
        "id": "L5Ts71dEdb8W"
      },
      "execution_count": 64,
      "outputs": []
    },
    {
      "cell_type": "code",
      "source": [
        "row_indices = range(M)\n",
        "col_indices = range(N)"
      ],
      "metadata": {
        "id": "6Gzzkl0OdzAj"
      },
      "execution_count": 65,
      "outputs": []
    },
    {
      "cell_type": "code",
      "source": [
        "model.x = Var(row_indices, col_indices, domain= NonNegativeReals)"
      ],
      "metadata": {
        "id": "dHOubjtbd1hU"
      },
      "execution_count": 66,
      "outputs": []
    },
    {
      "cell_type": "code",
      "source": [
        "model.objective = Objective(expr=sum(data_csvfile.iloc[i,j+1]*model.x[i,j] for i in row_indices for j in col_indices),sense=minimize)"
      ],
      "metadata": {
        "id": "cslzVe57d5PX"
      },
      "execution_count": 67,
      "outputs": []
    },
    {
      "cell_type": "code",
      "source": [
        "model.constraints = ConstraintList()"
      ],
      "metadata": {
        "id": "4yZaRZCBd8HZ"
      },
      "execution_count": 68,
      "outputs": []
    },
    {
      "cell_type": "code",
      "source": [
        "#supply constraint \n",
        "for i in range(M):\n",
        "  model.constraints.add(expr=sum(model.x[i,j] for j in col_indices) <= data_csvfile.iloc[i,N+1]) \n",
        "\n",
        "#demand constraint\n",
        "for j in range(N):\n",
        "  model.constraints.add(expr=sum(model.x[i,j] for i in row_indices) == data_csvfile.iloc[M,j+1])  "
      ],
      "metadata": {
        "id": "z59I65I3eAfz"
      },
      "execution_count": 69,
      "outputs": []
    },
    {
      "cell_type": "code",
      "source": [
        "!apt-get install -y -qq coinor-cbc"
      ],
      "metadata": {
        "id": "ogG7nnLwf_bS"
      },
      "execution_count": 70,
      "outputs": []
    },
    {
      "cell_type": "code",
      "source": [
        "opt_cbc = SolverFactory('cbc')"
      ],
      "metadata": {
        "id": "ur0-BRPagCqo"
      },
      "execution_count": 71,
      "outputs": []
    },
    {
      "cell_type": "code",
      "source": [
        "result = opt_cbc.solve(model)\n",
        "print('Solver status:', result.solver.status)\n",
        "print('Solver termination condition:',result.solver.termination_condition)"
      ],
      "metadata": {
        "colab": {
          "base_uri": "https://localhost:8080/"
        },
        "id": "dKIG0MrbgPmF",
        "outputId": "386a4f64-1872-45e7-f69e-a238047d94e7"
      },
      "execution_count": 72,
      "outputs": [
        {
          "output_type": "stream",
          "name": "stdout",
          "text": [
            "Solver status: ok\n",
            "Solver termination condition: optimal\n"
          ]
        }
      ]
    },
    {
      "cell_type": "code",
      "source": [
        "# display solution\n",
        "print('\\nObjective = ', model.objective())\n",
        "\n",
        "print('\\nDecision Variables')\n",
        "for i in row_indices:\n",
        "  for j in col_indices:\n",
        "    if model.x[i,j].value !=0: \n",
        "      print('Number of transporting electic vehicles (EVs) from warehouses',data_csvfile['Warehouses/Markets'][i],' to markets ',data_csvfile.columns[j+1],':', model.x[i,j].value)\n",
        "\n",
        "print('\\nConstraints')\n",
        "model.constraints.display()"
      ],
      "metadata": {
        "colab": {
          "base_uri": "https://localhost:8080/"
        },
        "id": "jEEf8qsfgTyb",
        "outputId": "bd0a8532-6d34-462f-a5f0-fbb0ac1a7aa7"
      },
      "execution_count": 73,
      "outputs": [
        {
          "output_type": "stream",
          "name": "stdout",
          "text": [
            "\n",
            "Objective =  2192870.0\n",
            "\n",
            "Decision Variables\n",
            "Number of transporting electic vehicles (EVs) from warehouses Ahmedabad  to markets  Jodhpur : 300.0\n",
            "Number of transporting electic vehicles (EVs) from warehouses Ahmedabad  to markets  Dibrugarh : 45.0\n",
            "Number of transporting electic vehicles (EVs) from warehouses Ahmedabad  to markets  Raipur : 5.0\n",
            "Number of transporting electic vehicles (EVs) from warehouses Bengaluru  to markets  Trichy : 120.0\n",
            "Number of transporting electic vehicles (EVs) from warehouses Bengaluru  to markets  Vijayawada : 65.0\n",
            "Number of transporting electic vehicles (EVs) from warehouses Chennai\t  to markets  Trichy : 305.0\n",
            "Number of transporting electic vehicles (EVs) from warehouses Delhi  to markets  Simla : 95.0\n",
            "Number of transporting electic vehicles (EVs) from warehouses Delhi  to markets  Dibrugarh : 85.0\n",
            "Number of transporting electic vehicles (EVs) from warehouses Kolkata  to markets  Dibrugarh : 95.0\n",
            "Number of transporting electic vehicles (EVs) from warehouses Kolkata  to markets  Agartala : 110.0\n",
            "Number of transporting electic vehicles (EVs) from warehouses Lucknow  to markets  Simla : 175.0\n",
            "Number of transporting electic vehicles (EVs) from warehouses Mumbai  to markets  Hassan : 205.0\n",
            "Number of transporting electic vehicles (EVs) from warehouses Mumbai  to markets  Raipur : 120.0\n",
            "Number of transporting electic vehicles (EVs) from warehouses Hyderabad  to markets  Vijayawada : 310.0\n",
            "Number of transporting electic vehicles (EVs) from warehouses Hyderabad  to markets  Raipur : 60.0\n",
            "\n",
            "Constraints\n",
            "constraints : Size=16\n",
            "    Key : Lower : Body  : Upper\n",
            "      1 :  None : 350.0 : 350.0\n",
            "      2 :  None : 185.0 : 185.0\n",
            "      3 :  None : 305.0 : 305.0\n",
            "      4 :  None : 180.0 : 180.0\n",
            "      5 :  None : 205.0 : 205.0\n",
            "      6 :  None : 175.0 : 175.0\n",
            "      7 :  None : 325.0 : 325.0\n",
            "      8 :  None : 370.0 : 370.0\n",
            "      9 : 205.0 : 205.0 : 205.0\n",
            "     10 : 300.0 : 300.0 : 300.0\n",
            "     11 : 425.0 : 425.0 : 425.0\n",
            "     12 : 270.0 : 270.0 : 270.0\n",
            "     13 : 375.0 : 375.0 : 375.0\n",
            "     14 : 225.0 : 225.0 : 225.0\n",
            "     15 : 185.0 : 185.0 : 185.0\n",
            "     16 : 110.0 : 110.0 : 110.0\n"
          ]
        }
      ]
    },
    {
      "cell_type": "markdown",
      "source": [
        "8. [R] Suppose the Lucknow-Simla link is disrupted and no transportation is possible on the\n",
        "Lucknow-Simla links. Without changing the pyomo model, how will you solve this problem?\n",
        "You are only allowed to change the .csv file.\n"
      ],
      "metadata": {
        "id": "ELVMMSzQ57DX"
      }
    },
    {
      "cell_type": "markdown",
      "source": [
        "$\\text{Solution :-}$ Because of no transportation is possible on the Lucknow-simla Links so for that we can assign very high cost to this route so that under consideration of taking minimun cost route to minimize total cost the route with very high cost is not going to consider."
      ],
      "metadata": {
        "id": "kDApuYwe581Q"
      }
    },
    {
      "cell_type": "code",
      "source": [
        "data_csvfile.loc[5,'Simla'] = 1000000000000"
      ],
      "metadata": {
        "id": "jIvuAgwlg9wx"
      },
      "execution_count": 74,
      "outputs": []
    },
    {
      "cell_type": "code",
      "source": [
        "model.objective.deactivate()"
      ],
      "metadata": {
        "id": "ynpnemrZntoP"
      },
      "execution_count": 75,
      "outputs": []
    },
    {
      "cell_type": "code",
      "source": [
        "model.new_objective = Objective(expr=sum(data_csvfile.iloc[i,j+1]*model.x[i,j] for i in row_indices for j in col_indices),sense=minimize)"
      ],
      "metadata": {
        "id": "E_6FEgAKnnx2"
      },
      "execution_count": 76,
      "outputs": []
    },
    {
      "cell_type": "code",
      "source": [
        "result = opt_cbc.solve(model)\n",
        "print('Solver status:', result.solver.status)\n",
        "print('Solver termination condition:',result.solver.termination_condition)"
      ],
      "metadata": {
        "colab": {
          "base_uri": "https://localhost:8080/"
        },
        "id": "7R39XfcmmkF5",
        "outputId": "286a3af7-c799-4c4c-f5e7-3b068a2f0d81"
      },
      "execution_count": 77,
      "outputs": [
        {
          "output_type": "stream",
          "name": "stdout",
          "text": [
            "Solver status: ok\n",
            "Solver termination condition: optimal\n"
          ]
        }
      ]
    },
    {
      "cell_type": "markdown",
      "source": [
        "9. [R] Report the new solution value and the nonzero flows in the network. Comment on your\n",
        "observations"
      ],
      "metadata": {
        "id": "v1HElzWT6RHh"
      }
    },
    {
      "cell_type": "markdown",
      "source": [
        "$\\text{Solution :-}$ Before increasing the cost of Lucknow-simla link , optimal solution showing that we need to send 175 Evs to minimize total cost but because after disrupted because no transportation happening between Lunknow-simla link so total cost is increased."
      ],
      "metadata": {
        "id": "2QVpOIpm7oZW"
      }
    },
    {
      "cell_type": "code",
      "source": [
        "# display solution\n",
        "print('\\nObjective = ', model.new_objective())\n",
        "\n",
        "print('\\nDecision Variables')\n",
        "for i in row_indices:\n",
        "  for j in col_indices:\n",
        "    if model.x[i,j].value !=0:\n",
        "      print('Number of transporting electic vehicles (EVs) from warehouses',data_csvfile['Warehouses/Markets'][i],' to markets ',data_csvfile.columns[j+1],':', model.x[i,j].value)\n",
        "\n",
        "print('\\nConstraints')\n",
        "model.constraints.display()"
      ],
      "metadata": {
        "colab": {
          "base_uri": "https://localhost:8080/"
        },
        "id": "LmfLY3w_pSqX",
        "outputId": "8aa207a2-c658-41e2-c0ed-52e4448b2e7e"
      },
      "execution_count": 78,
      "outputs": [
        {
          "output_type": "stream",
          "name": "stdout",
          "text": [
            "\n",
            "Objective =  2380570.0\n",
            "\n",
            "Decision Variables\n",
            "Number of transporting electic vehicles (EVs) from warehouses Ahmedabad  to markets  Jodhpur : 300.0\n",
            "Number of transporting electic vehicles (EVs) from warehouses Ahmedabad  to markets  Raipur : 50.0\n",
            "Number of transporting electic vehicles (EVs) from warehouses Bengaluru  to markets  Trichy : 120.0\n",
            "Number of transporting electic vehicles (EVs) from warehouses Bengaluru  to markets  Vijayawada : 65.0\n",
            "Number of transporting electic vehicles (EVs) from warehouses Chennai\t  to markets  Trichy : 305.0\n",
            "Number of transporting electic vehicles (EVs) from warehouses Delhi  to markets  Simla : 180.0\n",
            "Number of transporting electic vehicles (EVs) from warehouses Kolkata  to markets  Dibrugarh : 95.0\n",
            "Number of transporting electic vehicles (EVs) from warehouses Kolkata  to markets  Agartala : 110.0\n",
            "Number of transporting electic vehicles (EVs) from warehouses Lucknow  to markets  Dibrugarh : 130.0\n",
            "Number of transporting electic vehicles (EVs) from warehouses Lucknow  to markets  Raipur : 45.0\n",
            "Number of transporting electic vehicles (EVs) from warehouses Mumbai  to markets  Hassan : 205.0\n",
            "Number of transporting electic vehicles (EVs) from warehouses Mumbai  to markets  Simla : 90.0\n",
            "Number of transporting electic vehicles (EVs) from warehouses Mumbai  to markets  Raipur : 30.0\n",
            "Number of transporting electic vehicles (EVs) from warehouses Hyderabad  to markets  Vijayawada : 310.0\n",
            "Number of transporting electic vehicles (EVs) from warehouses Hyderabad  to markets  Raipur : 60.0\n",
            "\n",
            "Constraints\n",
            "constraints : Size=16\n",
            "    Key : Lower : Body  : Upper\n",
            "      1 :  None : 350.0 : 350.0\n",
            "      2 :  None : 185.0 : 185.0\n",
            "      3 :  None : 305.0 : 305.0\n",
            "      4 :  None : 180.0 : 180.0\n",
            "      5 :  None : 205.0 : 205.0\n",
            "      6 :  None : 175.0 : 175.0\n",
            "      7 :  None : 325.0 : 325.0\n",
            "      8 :  None : 370.0 : 370.0\n",
            "      9 : 205.0 : 205.0 : 205.0\n",
            "     10 : 300.0 : 300.0 : 300.0\n",
            "     11 : 425.0 : 425.0 : 425.0\n",
            "     12 : 270.0 : 270.0 : 270.0\n",
            "     13 : 375.0 : 375.0 : 375.0\n",
            "     14 : 225.0 : 225.0 : 225.0\n",
            "     15 : 185.0 : 185.0 : 185.0\n",
            "     16 : 110.0 : 110.0 : 110.0\n"
          ]
        }
      ]
    },
    {
      "cell_type": "markdown",
      "source": [
        "10. [R] Suppose in addition to Lucknow-Simla link, the Kolkata-Dibrugarh link and Delhi-Raipur\n",
        "link are disrupted and no transportation is possible along these links as well. Make appropriate\n",
        "changes only to the .csv file and solve the model."
      ],
      "metadata": {
        "id": "yHIVUWB36rC2"
      }
    },
    {
      "cell_type": "markdown",
      "source": [
        "$\\text{Solution :-}$ "
      ],
      "metadata": {
        "id": "Bb0yaTaj6uWO"
      }
    },
    {
      "cell_type": "code",
      "source": [
        "data_csvfile.loc[4,'Dibrugarh'] = 1000000000000\n",
        "data_csvfile.loc[3,'Raipur'] = 1000000000000\n"
      ],
      "metadata": {
        "id": "EZoI7tXapseb"
      },
      "execution_count": 79,
      "outputs": []
    },
    {
      "cell_type": "code",
      "source": [
        "model.new_objective.deactivate()"
      ],
      "metadata": {
        "id": "5zxzMkKJqzVW"
      },
      "execution_count": 80,
      "outputs": []
    },
    {
      "cell_type": "code",
      "source": [
        "model.new2_objective = Objective(expr=sum(data_csvfile.iloc[i,j+1]*model.x[i,j] for i in row_indices for j in col_indices),sense=minimize)"
      ],
      "metadata": {
        "id": "ifQhrGegqbQj"
      },
      "execution_count": 81,
      "outputs": []
    },
    {
      "cell_type": "code",
      "source": [
        "result = opt_cbc.solve(model)\n",
        "print('Solver status:', result.solver.status)\n",
        "print('Solver termination condition:',result.solver.termination_condition)"
      ],
      "metadata": {
        "colab": {
          "base_uri": "https://localhost:8080/"
        },
        "id": "MSr4pqHUqtxz",
        "outputId": "069fc8c9-53e4-4225-8a1c-905eba2408b3"
      },
      "execution_count": 82,
      "outputs": [
        {
          "output_type": "stream",
          "name": "stdout",
          "text": [
            "Solver status: ok\n",
            "Solver termination condition: optimal\n"
          ]
        }
      ]
    },
    {
      "cell_type": "markdown",
      "source": [
        "11. [R] Report the new solution value and the nonzero flows in the network. Explain your\n",
        "observations.\n"
      ],
      "metadata": {
        "id": "S8Duf1D16-d4"
      }
    },
    {
      "cell_type": "markdown",
      "source": [
        "$\\text{Solution :-}$ by seeing by solution we can observe that  delhi-Raipur link is already not using for transporting Evs but Kolkata-dibrugarh link 95 Evs are transported not that's by when we not considering these links for transportion cost is increased. we see even in above solution delhi-Raipur is not considering for transportion than also we need to restrict because if we not restrict may be this link is used for transportion."
      ],
      "metadata": {
        "id": "3ckRI9-07bEa"
      }
    },
    {
      "cell_type": "code",
      "source": [
        "# display solution\n",
        "print('\\nObjective = ', model.new2_objective())\n",
        "\n",
        "print('\\nDecision Variables')\n",
        "for i in row_indices:\n",
        "  for j in col_indices:\n",
        "    if model.x[i,j].value !=0:\n",
        "      print('Number of transporting electic vehicles (EVs) from warehouses',data_csvfile['Warehouses/Markets'][i],' to markets ',data_csvfile.columns[j+1],':', model.x[i,j].value)\n",
        "\n",
        "print('\\nConstraints')\n",
        "model.constraints.display()"
      ],
      "metadata": {
        "colab": {
          "base_uri": "https://localhost:8080/"
        },
        "id": "8A6iauhEqua2",
        "outputId": "6ce41026-cd66-4426-d837-315f1a44511a"
      },
      "execution_count": 83,
      "outputs": [
        {
          "output_type": "stream",
          "name": "stdout",
          "text": [
            "\n",
            "Objective =  2518200.0\n",
            "\n",
            "Decision Variables\n",
            "Number of transporting electic vehicles (EVs) from warehouses Ahmedabad  to markets  Jodhpur : 300.0\n",
            "Number of transporting electic vehicles (EVs) from warehouses Ahmedabad  to markets  Dibrugarh : 50.0\n",
            "Number of transporting electic vehicles (EVs) from warehouses Bengaluru  to markets  Trichy : 120.0\n",
            "Number of transporting electic vehicles (EVs) from warehouses Bengaluru  to markets  Vijayawada : 65.0\n",
            "Number of transporting electic vehicles (EVs) from warehouses Chennai\t  to markets  Trichy : 305.0\n",
            "Number of transporting electic vehicles (EVs) from warehouses Delhi  to markets  Simla : 180.0\n",
            "Number of transporting electic vehicles (EVs) from warehouses Kolkata  to markets  Raipur : 95.0\n",
            "Number of transporting electic vehicles (EVs) from warehouses Kolkata  to markets  Agartala : 110.0\n",
            "Number of transporting electic vehicles (EVs) from warehouses Lucknow  to markets  Dibrugarh : 175.0\n",
            "Number of transporting electic vehicles (EVs) from warehouses Mumbai  to markets  Hassan : 205.0\n",
            "Number of transporting electic vehicles (EVs) from warehouses Mumbai  to markets  Simla : 90.0\n",
            "Number of transporting electic vehicles (EVs) from warehouses Mumbai  to markets  Raipur : 30.0\n",
            "Number of transporting electic vehicles (EVs) from warehouses Hyderabad  to markets  Vijayawada : 310.0\n",
            "Number of transporting electic vehicles (EVs) from warehouses Hyderabad  to markets  Raipur : 60.0\n",
            "\n",
            "Constraints\n",
            "constraints : Size=16\n",
            "    Key : Lower : Body  : Upper\n",
            "      1 :  None : 350.0 : 350.0\n",
            "      2 :  None : 185.0 : 185.0\n",
            "      3 :  None : 305.0 : 305.0\n",
            "      4 :  None : 180.0 : 180.0\n",
            "      5 :  None : 205.0 : 205.0\n",
            "      6 :  None : 175.0 : 175.0\n",
            "      7 :  None : 325.0 : 325.0\n",
            "      8 :  None : 370.0 : 370.0\n",
            "      9 : 205.0 : 205.0 : 205.0\n",
            "     10 : 300.0 : 300.0 : 300.0\n",
            "     11 : 425.0 : 425.0 : 425.0\n",
            "     12 : 270.0 : 270.0 : 270.0\n",
            "     13 : 375.0 : 375.0 : 375.0\n",
            "     14 : 225.0 : 225.0 : 225.0\n",
            "     15 : 185.0 : 185.0 : 185.0\n",
            "     16 : 110.0 : 110.0 : 110.0\n"
          ]
        }
      ]
    }
  ]
}